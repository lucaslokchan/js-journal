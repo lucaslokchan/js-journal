{
  "nbformat": 4,
  "nbformat_minor": 0,
  "metadata": {
    "colab": {
      "name": "06.The Secret Life of Objects.ipynb",
      "provenance": [],
      "collapsed_sections": []
    },
    "kernelspec": {
      "name": "javascript",
      "display_name": "Javascript"
    },
    "accelerator": "GPU"
  },
  "cells": [
    {
      "cell_type": "code",
      "metadata": {
        "id": "ZVkF16NwcMsZ"
      },
      "source": [
        "#/* run this once, then reload, and then skip this\n",
        "!npm install -g --unsafe-perm ijavascript\n",
        "!ijsinstall --install=global  # as fake comment */"
      ],
      "execution_count": null,
      "outputs": []
    },
    {
      "cell_type": "code",
      "metadata": {
        "id": "skqAs_UHc8_P",
        "colab": {
          "base_uri": "https://localhost:8080/"
        },
        "outputId": "34701f4b-923e-4f9d-e67f-1b7c5b0192d8"
      },
      "source": [
        "// need this for running shell command\n",
        "var { spawn } = require('child_process');\n",
        "var sh = (cmd) => { \n",
        "    $$.async();\n",
        "    var sp = spawn(cmd, { cwd: process.cwd(), stdio: 'pipe', shell: true, encoding: 'utf-8' });\n",
        "    sp.stdout.on('data', data => console.log(data.toString()));\n",
        "    sp.stderr.on('data', data => console.error(data.toString()));\n",
        "    sp.on('close', () => $$.done());\n",
        "};\n",
        "sh('npm init -y');"
      ],
      "execution_count": 5,
      "outputs": [
        {
          "output_type": "stream",
          "name": "stdout",
          "text": [
            "Wrote to /content/package.json:\n",
            "\n",
            "{\n",
            "  \"name\": \"content\",\n",
            "  \"version\": \"1.0.0\",\n",
            "  \"main\": \"index.js\",\n",
            "  \"scripts\": {\n",
            "    \"test\": \"echo \\\"Error: no test specified\\\" && exit 1\"\n",
            "  },\n",
            "  \"keywords\": [],\n",
            "  \"author\": \"\",\n",
            "  \"license\": \"ISC\",\n",
            "  \"description\": \"\"\n",
            "}\n",
            "\n",
            "\n",
            "\n"
          ]
        }
      ]
    },
    {
      "cell_type": "markdown",
      "source": [
        "# Methods"
      ],
      "metadata": {
        "id": "4oQ9fgImOxxv"
      }
    },
    {
      "cell_type": "markdown",
      "source": [
        "**Methods properties that hold function values**"
      ],
      "metadata": {
        "id": "DgQzfFN2OzYf"
      }
    },
    {
      "cell_type": "code",
      "metadata": {
        "id": "FX9NhyWsU1BM",
        "colab": {
          "base_uri": "https://localhost:8080/"
        },
        "outputId": "e37c1fb5-30ba-47a2-9a80-7b70e1c8d97c"
      },
      "source": [
        "let rabbit = {};\n",
        "rabbit.speak = function (line) {\n",
        "  console.log(`The rabbit says '${line}'`);\n",
        "};\n",
        "rabbit.speak('I\\'m alive.')"
      ],
      "execution_count": 6,
      "outputs": [
        {
          "output_type": "stream",
          "name": "stdout",
          "text": [
            "The rabbit says 'I'm alive.'\n"
          ]
        }
      ]
    },
    {
      "cell_type": "markdown",
      "source": [
        "Usually a method needs to do something with the object it was called on as in **object.method()**\n",
        "\n",
        "The binding called **this** in its body automatically **points at the object that it was called on**"
      ],
      "metadata": {
        "id": "ufAliuSnPyHf"
      }
    },
    {
      "cell_type": "code",
      "metadata": {
        "id": "mz_hl90xmPFW"
      },
      "source": [
        "function speak(line) {\n",
        "  console.log(`The ${this.type} rabbit says '${line}'`);\n",
        "}\n",
        "let whiteRabbit = { type: 'white', speak };\n",
        "let hungryRabbit = { type: 'hungry', speak };"
      ],
      "execution_count": 7,
      "outputs": []
    },
    {
      "cell_type": "code",
      "source": [
        "whiteRabbit.speak('I\\'m a white rabbit, ' + 'Look at my ears!')"
      ],
      "metadata": {
        "colab": {
          "base_uri": "https://localhost:8080/"
        },
        "id": "x5EX5oRTQkGZ",
        "outputId": "89a55b0c-b148-4144-e97f-aeb3ad0ee5ec"
      },
      "execution_count": 8,
      "outputs": [
        {
          "output_type": "stream",
          "name": "stdout",
          "text": [
            "The white rabbit says 'I'm a white rabbit, Look at my ears!'\n"
          ]
        }
      ]
    },
    {
      "cell_type": "code",
      "source": [
        "hungryRabbit.speak('I\\'m hungry!')"
      ],
      "metadata": {
        "colab": {
          "base_uri": "https://localhost:8080/"
        },
        "id": "-Hm4YgF2Qkzn",
        "outputId": "f0f2ac28-78ec-41f7-be5d-a7c096cc7344"
      },
      "execution_count": 9,
      "outputs": [
        {
          "output_type": "stream",
          "name": "stdout",
          "text": [
            "The hungry rabbit says 'I'm hungry!'\n"
          ]
        }
      ]
    },
    {
      "cell_type": "markdown",
      "source": [
        "Use a function’s call method to take the this value as its first argument and treats further arguments"
      ],
      "metadata": {
        "id": "WR47aR_nRG2P"
      }
    },
    {
      "cell_type": "code",
      "source": [
        "speak.call(whiteRabbit, 'Hello')"
      ],
      "metadata": {
        "colab": {
          "base_uri": "https://localhost:8080/"
        },
        "id": "fgC9F_PbRVyP",
        "outputId": "fd735a45-2e95-4fe9-f2e7-e36ae0f497fb"
      },
      "execution_count": 10,
      "outputs": [
        {
          "output_type": "stream",
          "name": "stdout",
          "text": [
            "The white rabbit says 'Hello'\n"
          ]
        }
      ]
    },
    {
      "cell_type": "markdown",
      "source": [
        "# Prototypes"
      ],
      "metadata": {
        "id": "r_84zpEaRmCn"
      }
    },
    {
      "cell_type": "markdown",
      "source": [
        "You can **use Object.create to create an object with a specific prototype**"
      ],
      "metadata": {
        "id": "dYl_QJTaTWWZ"
      }
    },
    {
      "cell_type": "code",
      "source": [
        "let protoRabbit = {\n",
        "  speak(line) {\n",
        "    console.log(`The ${this.type} rabbit says '${line}'`);\n",
        "  }\n",
        "};\n",
        "let killerRabbit = Object.create(protoRabbit);\n",
        "killerRabbit.type = 'killer'\n",
        "killerRabbit.speak('SKREEEEE!');"
      ],
      "metadata": {
        "colab": {
          "base_uri": "https://localhost:8080/"
        },
        "id": "LzNyU56-SkXq",
        "outputId": "aac40be1-fdfa-4554-9374-62d515eb0c53"
      },
      "execution_count": 11,
      "outputs": [
        {
          "output_type": "stream",
          "name": "stdout",
          "text": [
            "The killer rabbit says 'SKREEEEE!'\n"
          ]
        }
      ]
    },
    {
      "cell_type": "markdown",
      "source": [
        "# Classes (Old Class Notation)"
      ],
      "metadata": {
        "id": "vHT2nl07R883"
      }
    },
    {
      "cell_type": "markdown",
      "source": [
        "A **class defines the shape of a type of object**—what **methods** and **properties** it has. Such **an object is called an instance** of the class\n",
        "\n",
        "So to create an instance of a given class, you have to make an object that derives from the proper prototype, but you also have to make sure it, itself, has the properties that instances of this class are supposed to have. This is what a constructor function does"
      ],
      "metadata": {
        "id": "8APB3b3TT1wx"
      }
    },
    {
      "cell_type": "code",
      "source": [
        "function makeRabbit(type) {\n",
        "  let rabbit = Object.create(protoRabbit);\n",
        "  rabbit.type = type;\n",
        "  return rabbit;\n",
        "}\n",
        "makeRabbit('Brown')"
      ],
      "metadata": {
        "id": "0zROvIDMV-FY",
        "colab": {
          "base_uri": "https://localhost:8080/"
        },
        "outputId": "560e6e7f-5a4c-4327-fdec-2b7d0f3c8ab5"
      },
      "execution_count": 12,
      "outputs": [
        {
          "output_type": "execute_result",
          "data": {
            "text/plain": [
              "{ type: 'Brown' }"
            ]
          },
          "metadata": {},
          "execution_count": 12
        }
      ]
    },
    {
      "cell_type": "markdown",
      "source": [
        "If you put the keyword **new in front of a function call, the function is treated as  a constructor**"
      ],
      "metadata": {
        "id": "_OHXsYnLV5AI"
      }
    },
    {
      "cell_type": "code",
      "source": [
        "function Rabbit(type) {\n",
        "  this.type = type;\n",
        "}\n",
        "Rabbit.prototype.speak = function (line) {\n",
        "  console.log(`The ${this.type} rabbit says '${line}'`);\n",
        "};\n",
        "let weirdRabbit = new Rabbit('weird');\n",
        "weirdRabbit.speak('Hey!');"
      ],
      "metadata": {
        "colab": {
          "base_uri": "https://localhost:8080/"
        },
        "id": "dOCKFtNaR-9n",
        "outputId": "1e3da7b5-cf2c-4777-d7ab-a83d990b1d2e"
      },
      "execution_count": 13,
      "outputs": [
        {
          "output_type": "stream",
          "name": "stdout",
          "text": [
            "The weird rabbit says 'Hey!'\n"
          ]
        }
      ]
    },
    {
      "cell_type": "markdown",
      "source": [
        "# Class Notation"
      ],
      "metadata": {
        "id": "83e9WrpsWzM4"
      }
    },
    {
      "cell_type": "markdown",
      "source": [
        "We have a less awkward notation"
      ],
      "metadata": {
        "id": "vg8-JKk0W-Xn"
      }
    },
    {
      "cell_type": "code",
      "source": [
        "class Rabbit2 {\n",
        "  constructor(type) {\n",
        "    this.type = type;\n",
        "  }\n",
        "  speak(line) {\n",
        "    console.log(`The ${this.type} rabbit says '${line}'`);\n",
        "  }\n",
        "}\n",
        "let killerRabbit2 = new Rabbit2('killer');\n",
        "let blackRabbit = new Rabbit2('Black');"
      ],
      "metadata": {
        "id": "XBCavegyW0dI"
      },
      "execution_count": 14,
      "outputs": []
    },
    {
      "cell_type": "markdown",
      "source": [
        "# Overriding Derived Properties"
      ],
      "metadata": {
        "id": "jm7HdFppXkHC"
      }
    },
    {
      "cell_type": "markdown",
      "source": [
        "When you add a property to an object, whether it is present in the prototype or not, the **property is added to the object itself**"
      ],
      "metadata": {
        "id": "4Zsh3LqIYIJ3"
      }
    },
    {
      "cell_type": "code",
      "source": [
        "Rabbit2.prototype.teeth = 'small';\n",
        "console.log(killerRabbit2.teeth);"
      ],
      "metadata": {
        "colab": {
          "base_uri": "https://localhost:8080/"
        },
        "id": "zI5_YcIXXMIw",
        "outputId": "3de0fca3-04d6-4338-f085-6e0c1c07e117"
      },
      "execution_count": 15,
      "outputs": [
        {
          "output_type": "stream",
          "name": "stdout",
          "text": [
            "small\n"
          ]
        }
      ]
    },
    {
      "cell_type": "code",
      "source": [
        "killerRabbit2.teeth = 'long, sharp, and bloody';\n",
        "console.log(killerRabbit2.teeth);"
      ],
      "metadata": {
        "colab": {
          "base_uri": "https://localhost:8080/"
        },
        "id": "piei-ru0YrVI",
        "outputId": "c0a06862-5024-43c5-9fcd-a45379da6b1a"
      },
      "execution_count": 16,
      "outputs": [
        {
          "output_type": "stream",
          "name": "stdout",
          "text": [
            "long, sharp, and bloody\n"
          ]
        }
      ]
    },
    {
      "cell_type": "code",
      "source": [
        "console.log(blackRabbit.teeth);"
      ],
      "metadata": {
        "colab": {
          "base_uri": "https://localhost:8080/"
        },
        "id": "WOkfzI4AYzo3",
        "outputId": "49332bfb-87a4-44ec-b1d5-7635ba4ed2a1"
      },
      "execution_count": 17,
      "outputs": [
        {
          "output_type": "stream",
          "name": "stdout",
          "text": [
            "small\n"
          ]
        }
      ]
    },
    {
      "cell_type": "code",
      "source": [
        "console.log(Rabbit2.prototype.teeth);"
      ],
      "metadata": {
        "colab": {
          "base_uri": "https://localhost:8080/"
        },
        "id": "kp3HDv8_Y2GX",
        "outputId": "a43e9ec5-a9d6-4577-870e-230c37550721"
      },
      "execution_count": 18,
      "outputs": [
        {
          "output_type": "stream",
          "name": "stdout",
          "text": [
            "small\n"
          ]
        }
      ]
    },
    {
      "cell_type": "markdown",
      "source": [
        "# Maps"
      ],
      "metadata": {
        "id": "h25gQpDxZW8P"
      }
    },
    {
      "cell_type": "markdown",
      "source": [
        "Map = Python Dictionary\n"
      ],
      "metadata": {
        "id": "xD0vRgQBhtJ4"
      }
    },
    {
      "cell_type": "code",
      "source": [
        "let ages = {\n",
        "  Boris: 39,\n",
        "  Liang: 22,\n",
        "  Julia: 62\n",
        "};\n",
        "console.log(`Julia is ${ages['Julia']}`);"
      ],
      "metadata": {
        "colab": {
          "base_uri": "https://localhost:8080/"
        },
        "id": "UpHu3QR0iAuh",
        "outputId": "425b357d-6c5e-4d84-b6b1-53013c19194d"
      },
      "execution_count": 19,
      "outputs": [
        {
          "output_type": "stream",
          "name": "stdout",
          "text": [
            "Julia is 62\n"
          ]
        }
      ]
    },
    {
      "cell_type": "markdown",
      "source": [
        "Object property names must be strings. If you need a map whose keys can’t easily be converted to strings—such as objects—**you cannot use an object as your map**\n",
        "\n",
        "Fortunately, JavaScript comes with a **class called that is written for this Map exact purpose.** It stores a mapping and allows any type of keys"
      ],
      "metadata": {
        "id": "7lXfxLa7jwCQ"
      }
    },
    {
      "cell_type": "code",
      "source": [
        "let ages2 = new Map();\n",
        "ages2.set('Boris', 39);\n",
        "ages2.set('Liang', 22);\n",
        "ages2.set('Julia', 62);\n",
        "console.log(`Boris is ${ages2['Boris']}`)"
      ],
      "metadata": {
        "colab": {
          "base_uri": "https://localhost:8080/"
        },
        "id": "1vnPvvmRiTeA",
        "outputId": "edb54013-27fb-4d6e-a790-649ae845f0e8"
      },
      "execution_count": 20,
      "outputs": [
        {
          "output_type": "stream",
          "name": "stdout",
          "text": [
            "Boris is undefined\n"
          ]
        }
      ]
    },
    {
      "cell_type": "markdown",
      "source": [
        "# Symbols"
      ],
      "metadata": {
        "id": "Jnf74qNRjkY4"
      }
    },
    {
      "cell_type": "markdown",
      "source": [
        "Newly created **symbols are unique**—you cannot create the same symbol twice"
      ],
      "metadata": {
        "id": "JyYvAXC0AiXc"
      }
    },
    {
      "cell_type": "code",
      "source": [
        "let sym = Symbol('name');\n",
        "console.log(sym == Symbol('name'))"
      ],
      "metadata": {
        "colab": {
          "base_uri": "https://localhost:8080/"
        },
        "id": "e1tmDaFHjlmJ",
        "outputId": "54f3069e-e037-4476-a51d-11e9dd8b0722"
      },
      "execution_count": 40,
      "outputs": [
        {
          "output_type": "stream",
          "name": "stdout",
          "text": [
            "false\n"
          ]
        }
      ]
    },
    {
      "cell_type": "code",
      "source": [
        "Rabbit2.prototype[sym] = 55;\n",
        "console.log(blackRabbit[sym]);"
      ],
      "metadata": {
        "colab": {
          "base_uri": "https://localhost:8080/"
        },
        "id": "IjQsSdc-AlLg",
        "outputId": "580e4267-c576-461a-a344-8bf7e1351d64"
      },
      "execution_count": 43,
      "outputs": [
        {
          "output_type": "stream",
          "name": "stdout",
          "text": [
            "55\n"
          ]
        }
      ]
    },
    {
      "cell_type": "markdown",
      "source": [
        "# The iterator interface"
      ],
      "metadata": {
        "id": "OOA2nOhcH_DS"
      }
    },
    {
      "cell_type": "code",
      "source": [
        "let okIterator = 'OK'[Symbol.iterator]();\n",
        "console.log(okIterator.next())"
      ],
      "metadata": {
        "colab": {
          "base_uri": "https://localhost:8080/"
        },
        "id": "rMNWa1HpIDZZ",
        "outputId": "6b4fdf85-6e32-4da6-d961-a194ed9fcf29"
      },
      "execution_count": 100,
      "outputs": [
        {
          "output_type": "stream",
          "name": "stdout",
          "text": [
            "{ value: 'O', done: false }\n"
          ]
        }
      ]
    },
    {
      "cell_type": "code",
      "source": [
        "console.log(okIterator.next());"
      ],
      "metadata": {
        "colab": {
          "base_uri": "https://localhost:8080/"
        },
        "id": "9r2JovKoII3R",
        "outputId": "1f7e97f7-275a-4fe2-afca-0c3dbeea8dea"
      },
      "execution_count": 104,
      "outputs": [
        {
          "output_type": "stream",
          "name": "stdout",
          "text": [
            "{ value: 'K', done: false }\n"
          ]
        }
      ]
    },
    {
      "cell_type": "code",
      "source": [
        "console.log(okIterator.next());"
      ],
      "metadata": {
        "colab": {
          "base_uri": "https://localhost:8080/"
        },
        "id": "XaVqtOShINNI",
        "outputId": "1b24da4c-5e06-416a-d3d1-fed0ca75cbba"
      },
      "execution_count": 106,
      "outputs": [
        {
          "output_type": "stream",
          "name": "stdout",
          "text": [
            "{ value: undefined, done: true }\n"
          ]
        }
      ]
    },
    {
      "cell_type": "markdown",
      "source": [
        "# Getters, setters, and statics"
      ],
      "metadata": {
        "id": "Ja5nD9duAugt"
      }
    },
    {
      "cell_type": "markdown",
      "source": [
        "Interfaces often consist mostly of methods, but it is also okay to **include properties that hold non-function values**\n",
        "\n",
        "For example, **Map objects** have a **size property** that tells you how many keys are stored in them\n",
        "\n",
        "It is **not even necessary** for such an object to **compute and stor**e such a property directly in the instance. **Even properties that are accessed directly may hide a method call.** Such methods are called getters\n",
        "\n",
        "They are defined by writing get in front of the method name"
      ],
      "metadata": {
        "id": "qzBMio83DRN5"
      }
    },
    {
      "cell_type": "code",
      "source": [
        "let varyingSize = {\n",
        "  get size() {\n",
        "    return Math.floor(Math.random() * 100);\n",
        "  }\n",
        "}\n",
        "console.log(varyingSize.size)"
      ],
      "metadata": {
        "colab": {
          "base_uri": "https://localhost:8080/",
          "height": 288
        },
        "id": "YwgVDKVmBkvT",
        "outputId": "c48d462b-ce05-4343-a09a-313d9eadda07"
      },
      "execution_count": 73,
      "outputs": [
        {
          "output_type": "error",
          "ename": "SyntaxError",
          "evalue": "ignored",
          "traceback": [
            "evalmachine.<anonymous>:1",
            "let varyingSize = {",
            "^",
            "",
            "SyntaxError: Identifier 'varyingSize' has already been declared",
            "    at Script.runInThisContext (vm.js:133:18)",
            "    at Object.runInThisContext (vm.js:310:38)",
            "    at run ([eval]:1020:15)",
            "    at onRunRequest ([eval]:864:18)",
            "    at onMessage ([eval]:828:13)",
            "    at process.emit (events.js:315:20)",
            "    at emit (internal/child_process.js:903:12)",
            "    at processTicksAndRejections (internal/process/task_queues.js:81:21)"
          ]
        }
      ]
    },
    {
      "cell_type": "markdown",
      "source": [
        "You can do a similar thing when a property is **written** to, using a **setter**\n",
        "\n",
        "Inside a class delcaration, methods that have written **static** before their name **are stored on the constructor**\n",
        "\n",
        "So the Temperature class allows you to write Temperature.fromFahrenheit(100) to create a temperature using degrees Fahrenheit"
      ],
      "metadata": {
        "id": "HACVOe8AEB5S"
      }
    },
    {
      "cell_type": "code",
      "source": [
        "class Temperature {\n",
        "  constructor(celsius) {\n",
        "    this.celsius = celsius;\n",
        "  }\n",
        "  get fahrenheit() {\n",
        "    return this.celsius * 1.8 + 32;\n",
        "  }\n",
        "  set fahrenheit(value) {\n",
        "    this.celsius = (value - 32) / 1.8;\n",
        "  }\n",
        "\n",
        "  static fromFahrenheit(value) {\n",
        "    return new Temperature((value - 32) / 1.8);\n",
        "  }\n",
        "}\n",
        "let temp = new Temperature(22);\n",
        "console.log(temp.fahrenheit)"
      ],
      "metadata": {
        "colab": {
          "base_uri": "https://localhost:8080/",
          "height": 288
        },
        "id": "wfzaTfCcEV_v",
        "outputId": "4c6ffaee-3bd5-4a10-8444-09a52690702e"
      },
      "execution_count": 85,
      "outputs": [
        {
          "output_type": "error",
          "ename": "SyntaxError",
          "evalue": "ignored",
          "traceback": [
            "evalmachine.<anonymous>:1",
            "class Temperature {",
            "^",
            "",
            "SyntaxError: Identifier 'Temperature' has already been declared",
            "    at Script.runInThisContext (vm.js:133:18)",
            "    at Object.runInThisContext (vm.js:310:38)",
            "    at run ([eval]:1020:15)",
            "    at onRunRequest ([eval]:864:18)",
            "    at onMessage ([eval]:828:13)",
            "    at process.emit (events.js:315:20)",
            "    at emit (internal/child_process.js:903:12)",
            "    at processTicksAndRejections (internal/process/task_queues.js:81:21)"
          ]
        }
      ]
    },
    {
      "cell_type": "code",
      "source": [
        "temp.fahrenheit = 86;\n",
        "console.log(temp.celsius);"
      ],
      "metadata": {
        "colab": {
          "base_uri": "https://localhost:8080/"
        },
        "id": "NxULMWcGEyQ1",
        "outputId": "ed03b2da-1cd9-4fb5-c58b-0d5d041fa413"
      },
      "execution_count": 83,
      "outputs": [
        {
          "output_type": "stream",
          "name": "stdout",
          "text": [
            "36.11111111111111\n"
          ]
        }
      ]
    },
    {
      "cell_type": "markdown",
      "source": [
        "# Inheritance"
      ],
      "metadata": {
        "id": "ubG853ezHmVT"
      }
    },
    {
      "cell_type": "markdown",
      "source": [
        "**The new class inherits properties and behavior from the old class**\n",
        "\n",
        "The use of the **extends** word indicates that this class shouldn’t be directly based on the default prototype but on some other class Object"
      ],
      "metadata": {
        "id": "JH177DIvHx-Z"
      }
    },
    {
      "cell_type": "markdown",
      "source": [
        "```\n",
        "class SymmetricMatrix extends Matrix {\n",
        "  constructor(size, element = (x, y) => undefined) {\n",
        "    super(size, size, (x, y) => {\n",
        "      if (x < y) return element(y, x);\n",
        "      else return element(x, y);\n",
        "    });\n",
        "  }\n",
        "\n",
        "  set(x, y, value) {\n",
        "    super.set(x, y, value);\n",
        "    if (x != y) {\n",
        "      super.set(y, x, value)\n",
        "    }\n",
        "  }\n",
        "}\n",
        "```\n",
        "\n"
      ],
      "metadata": {
        "id": "CVbD0BnNJo8C"
      }
    },
    {
      "cell_type": "markdown",
      "source": [
        "# The Instanceof Operator"
      ],
      "metadata": {
        "id": "5Yn6YebDJsG1"
      }
    },
    {
      "cell_type": "markdown",
      "source": [
        "**To know whether an object was derived from a specific class**"
      ],
      "metadata": {
        "id": "Bepyj0vfJ0hd"
      }
    },
    {
      "cell_type": "code",
      "source": [
        "console.log(new Temperature(2) instanceof Temperature);"
      ],
      "metadata": {
        "colab": {
          "base_uri": "https://localhost:8080/"
        },
        "id": "lxwxDdnsJuvF",
        "outputId": "7a817308-d79f-4ed1-88cb-754802a337b2"
      },
      "execution_count": 125,
      "outputs": [
        {
          "output_type": "stream",
          "name": "stdout",
          "text": [
            "true\n"
          ]
        }
      ]
    }
  ]
}