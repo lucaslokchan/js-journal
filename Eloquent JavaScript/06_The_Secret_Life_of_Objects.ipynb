{
  "nbformat": 4,
  "nbformat_minor": 0,
  "metadata": {
    "colab": {
      "name": "06.The Secret Life Of Objects.ipynb",
      "provenance": [],
      "collapsed_sections": []
    },
    "kernelspec": {
      "name": "javascript",
      "display_name": "Javascript"
    },
    "accelerator": "GPU"
  },
  "cells": [
    {
      "cell_type": "code",
      "metadata": {
        "id": "ZVkF16NwcMsZ"
      },
      "source": [
        "#/* run this once, then reload, and then skip this\n",
        "!npm install -g --unsafe-perm ijavascript\n",
        "!ijsinstall --install=global  # as fake comment */"
      ],
      "execution_count": null,
      "outputs": []
    },
    {
      "cell_type": "code",
      "metadata": {
        "id": "skqAs_UHc8_P",
        "colab": {
          "base_uri": "https://localhost:8080/"
        },
        "outputId": "4b3a9a03-0ae3-470d-ff50-e7cae7b0f8eb"
      },
      "source": [
        "// need this for running shell command\n",
        "var { spawn } = require('child_process');\n",
        "var sh = (cmd) => { \n",
        "    $$.async();\n",
        "    var sp = spawn(cmd, { cwd: process.cwd(), stdio: 'pipe', shell: true, encoding: 'utf-8' });\n",
        "    sp.stdout.on('data', data => console.log(data.toString()));\n",
        "    sp.stderr.on('data', data => console.error(data.toString()));\n",
        "    sp.on('close', () => $$.done());\n",
        "};\n",
        "sh('npm init -y');"
      ],
      "execution_count": 5,
      "outputs": [
        {
          "output_type": "stream",
          "name": "stdout",
          "text": [
            "Wrote to /content/package.json:\n",
            "\n",
            "{\n",
            "  \"name\": \"content\",\n",
            "  \"version\": \"1.0.0\",\n",
            "  \"main\": \"index.js\",\n",
            "  \"scripts\": {\n",
            "    \"test\": \"echo \\\"Error: no test specified\\\" && exit 1\"\n",
            "  },\n",
            "  \"keywords\": [],\n",
            "  \"author\": \"\",\n",
            "  \"license\": \"ISC\",\n",
            "  \"description\": \"\"\n",
            "}\n",
            "\n",
            "\n",
            "\n"
          ]
        }
      ]
    },
    {
      "cell_type": "markdown",
      "source": [
        "# Methods"
      ],
      "metadata": {
        "id": "4oQ9fgImOxxv"
      }
    },
    {
      "cell_type": "markdown",
      "source": [
        "**Methods properties that hold function values**"
      ],
      "metadata": {
        "id": "DgQzfFN2OzYf"
      }
    },
    {
      "cell_type": "code",
      "metadata": {
        "id": "FX9NhyWsU1BM",
        "colab": {
          "base_uri": "https://localhost:8080/"
        },
        "outputId": "97ed4ff1-c6b8-416e-dbb2-25bb7ca5a11f"
      },
      "source": [
        "let rabbit = {};\n",
        "rabbit.speak = function (line) {\n",
        "  console.log(`The rabbit says '${line}'`);\n",
        "};\n",
        "rabbit.speak('I\\'m alive.')"
      ],
      "execution_count": 6,
      "outputs": [
        {
          "output_type": "stream",
          "name": "stdout",
          "text": [
            "The rabbit says 'I'm alive.'\n"
          ]
        }
      ]
    },
    {
      "cell_type": "markdown",
      "source": [
        "Usually a method needs to do something with the object it was called on as in **object.method()**\n",
        "\n",
        "The binding called **this** in its body automatically **points at the object that it was called on**"
      ],
      "metadata": {
        "id": "ufAliuSnPyHf"
      }
    },
    {
      "cell_type": "code",
      "metadata": {
        "id": "mz_hl90xmPFW"
      },
      "source": [
        "function speak(line) {\n",
        "  console.log(`The ${this.type} rabbit says '${line}'`);\n",
        "}\n",
        "let whiteRabbit = { type: 'white', speak };\n",
        "let hungryRabbit = { type: 'hungry', speak };"
      ],
      "execution_count": 7,
      "outputs": []
    },
    {
      "cell_type": "code",
      "source": [
        "whiteRabbit.speak('I\\'m a white rabbit, ' + 'Look at my ears!')"
      ],
      "metadata": {
        "colab": {
          "base_uri": "https://localhost:8080/"
        },
        "id": "x5EX5oRTQkGZ",
        "outputId": "fc471a70-35aa-4205-dfa2-038f8cbe1dc8"
      },
      "execution_count": 8,
      "outputs": [
        {
          "output_type": "stream",
          "name": "stdout",
          "text": [
            "The white rabbit says 'I'm a white rabbit, Look at my ears!'\n"
          ]
        }
      ]
    },
    {
      "cell_type": "code",
      "source": [
        "hungryRabbit.speak('I\\'m hungry!')"
      ],
      "metadata": {
        "colab": {
          "base_uri": "https://localhost:8080/"
        },
        "id": "-Hm4YgF2Qkzn",
        "outputId": "5439cf1d-8362-4c4a-d937-fb0e336044bb"
      },
      "execution_count": 9,
      "outputs": [
        {
          "output_type": "stream",
          "name": "stdout",
          "text": [
            "The hungry rabbit says 'I'm hungry!'\n"
          ]
        }
      ]
    },
    {
      "cell_type": "markdown",
      "source": [
        "Use a function’s call method to take the this value as its first argument and treats further arguments"
      ],
      "metadata": {
        "id": "WR47aR_nRG2P"
      }
    },
    {
      "cell_type": "code",
      "source": [
        "speak.call(whiteRabbit, 'Hello')"
      ],
      "metadata": {
        "colab": {
          "base_uri": "https://localhost:8080/"
        },
        "id": "fgC9F_PbRVyP",
        "outputId": "919934da-c1d1-44a8-a038-da041a204e9f"
      },
      "execution_count": 10,
      "outputs": [
        {
          "output_type": "stream",
          "name": "stdout",
          "text": [
            "The white rabbit says 'Hello'\n"
          ]
        }
      ]
    },
    {
      "cell_type": "markdown",
      "source": [
        "# Prototypes"
      ],
      "metadata": {
        "id": "r_84zpEaRmCn"
      }
    },
    {
      "cell_type": "markdown",
      "source": [
        "You can **use Object.create to create an object with a specific prototype**"
      ],
      "metadata": {
        "id": "dYl_QJTaTWWZ"
      }
    },
    {
      "cell_type": "code",
      "source": [
        "let protoRabbit = {\n",
        "  speak(line) {\n",
        "    console.log(`The ${this.type} rabbit says '${line}'`);\n",
        "  }\n",
        "};\n",
        "let killerRabbit = Object.create(protoRabbit);\n",
        "killerRabbit.type = 'killer'\n",
        "killerRabbit.speak('SKREEEEE!');"
      ],
      "metadata": {
        "colab": {
          "base_uri": "https://localhost:8080/"
        },
        "id": "LzNyU56-SkXq",
        "outputId": "d731f3bb-35b1-49b5-8c95-ae2df1b39838"
      },
      "execution_count": 11,
      "outputs": [
        {
          "output_type": "stream",
          "name": "stdout",
          "text": [
            "The killer rabbit says 'SKREEEEE!'\n"
          ]
        }
      ]
    },
    {
      "cell_type": "markdown",
      "source": [
        "# Classes (Old Class Notation)"
      ],
      "metadata": {
        "id": "vHT2nl07R883"
      }
    },
    {
      "cell_type": "markdown",
      "source": [
        "A **class defines the shape of a type of object**—what **methods** and **properties** it has. Such **an object is called an instance** of the class\n",
        "\n",
        "So to create an instance of a given class, you have to make an object that derives from the proper prototype, but you also have to make sure it, itself, has the properties that instances of this class are supposed to have. This is what a constructor function does"
      ],
      "metadata": {
        "id": "8APB3b3TT1wx"
      }
    },
    {
      "cell_type": "code",
      "source": [
        "function makeRabbit(type) {\n",
        "  let rabbit = Object.create(protoRabbit);\n",
        "  rabbit.type = type;\n",
        "  return rabbit;\n",
        "}\n",
        "makeRabbit('Brown')"
      ],
      "metadata": {
        "id": "0zROvIDMV-FY",
        "colab": {
          "base_uri": "https://localhost:8080/"
        },
        "outputId": "4a708409-f1de-4b6f-b3d2-ebb4ab066742"
      },
      "execution_count": 12,
      "outputs": [
        {
          "output_type": "execute_result",
          "data": {
            "text/plain": [
              "{ type: 'Brown' }"
            ]
          },
          "metadata": {},
          "execution_count": 12
        }
      ]
    },
    {
      "cell_type": "markdown",
      "source": [
        "If you put the keyword **new in front of a function call, the function is treated as  a constructor**"
      ],
      "metadata": {
        "id": "_OHXsYnLV5AI"
      }
    },
    {
      "cell_type": "code",
      "source": [
        "function Rabbit(type) {\n",
        "  this.type = type;\n",
        "}\n",
        "Rabbit.prototype.speak = function (line) {\n",
        "  console.log(`The ${this.type} rabbit says '${line}'`);\n",
        "};\n",
        "let weirdRabbit = new Rabbit('weird');\n",
        "weirdRabbit.speak('Hey!');"
      ],
      "metadata": {
        "colab": {
          "base_uri": "https://localhost:8080/"
        },
        "id": "dOCKFtNaR-9n",
        "outputId": "7e955987-7b46-4247-eb5d-50a84ae97b3e"
      },
      "execution_count": 13,
      "outputs": [
        {
          "output_type": "stream",
          "name": "stdout",
          "text": [
            "The weird rabbit says 'Hey!'\n"
          ]
        }
      ]
    },
    {
      "cell_type": "markdown",
      "source": [
        "# Class Notation"
      ],
      "metadata": {
        "id": "83e9WrpsWzM4"
      }
    },
    {
      "cell_type": "markdown",
      "source": [
        "We have a less awkward notation"
      ],
      "metadata": {
        "id": "vg8-JKk0W-Xn"
      }
    },
    {
      "cell_type": "code",
      "source": [
        "class Rabbit2 {\n",
        "  constructor(type) {\n",
        "    this.type = type;\n",
        "  }\n",
        "  speak(line) {\n",
        "    console.log(`The ${this.type} rabbit says '${line}'`);\n",
        "  }\n",
        "}\n",
        "let killerRabbit2 = new Rabbit2('killer');\n",
        "let blackRabbit = new Rabbit2('Black');"
      ],
      "metadata": {
        "id": "XBCavegyW0dI"
      },
      "execution_count": 14,
      "outputs": []
    },
    {
      "cell_type": "markdown",
      "source": [
        "# Overriding Derived Properties"
      ],
      "metadata": {
        "id": "jm7HdFppXkHC"
      }
    },
    {
      "cell_type": "markdown",
      "source": [
        "When you add a property to an object, whether it is present in the prototype or not, the **property is added to the object itself**"
      ],
      "metadata": {
        "id": "4Zsh3LqIYIJ3"
      }
    },
    {
      "cell_type": "code",
      "source": [
        "Rabbit2.prototype.teeth = 'small';\n",
        "console.log(killerRabbit2.teeth);"
      ],
      "metadata": {
        "colab": {
          "base_uri": "https://localhost:8080/"
        },
        "id": "zI5_YcIXXMIw",
        "outputId": "b1a52956-cc0a-4593-d005-31de0e249e86"
      },
      "execution_count": 15,
      "outputs": [
        {
          "output_type": "stream",
          "name": "stdout",
          "text": [
            "small\n"
          ]
        }
      ]
    },
    {
      "cell_type": "code",
      "source": [
        "killerRabbit2.teeth = 'long, sharp, and bloody';\n",
        "console.log(killerRabbit2.teeth);"
      ],
      "metadata": {
        "colab": {
          "base_uri": "https://localhost:8080/"
        },
        "id": "piei-ru0YrVI",
        "outputId": "23a0a2a2-49b1-4a82-9816-ef8dc977a169"
      },
      "execution_count": 27,
      "outputs": [
        {
          "output_type": "stream",
          "name": "stdout",
          "text": [
            "long, sharp, and bloody\n"
          ]
        }
      ]
    },
    {
      "cell_type": "code",
      "source": [
        "console.log(blackRabbit.teeth);"
      ],
      "metadata": {
        "colab": {
          "base_uri": "https://localhost:8080/"
        },
        "id": "WOkfzI4AYzo3",
        "outputId": "4886bbec-e7ac-4789-95c4-6f58f6d04f7e"
      },
      "execution_count": 32,
      "outputs": [
        {
          "output_type": "stream",
          "name": "stdout",
          "text": [
            "small\n"
          ]
        }
      ]
    },
    {
      "cell_type": "code",
      "source": [
        "console.log(Rabbit2.prototype.teeth);"
      ],
      "metadata": {
        "colab": {
          "base_uri": "https://localhost:8080/"
        },
        "id": "kp3HDv8_Y2GX",
        "outputId": "dbbaae1a-86d4-4c9b-b47c-0c6634fa4e8a"
      },
      "execution_count": 36,
      "outputs": [
        {
          "output_type": "stream",
          "name": "stdout",
          "text": [
            "small\n"
          ]
        }
      ]
    },
    {
      "cell_type": "markdown",
      "source": [
        "# Maps"
      ],
      "metadata": {
        "id": "h25gQpDxZW8P"
      }
    }
  ]
}
