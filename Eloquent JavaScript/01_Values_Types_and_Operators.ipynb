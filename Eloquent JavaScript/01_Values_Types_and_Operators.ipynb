{
  "nbformat": 4,
  "nbformat_minor": 0,
  "metadata": {
    "colab": {
      "name": "01.Values Types and Operators.ipynb",
      "provenance": [],
      "collapsed_sections": []
    },
    "kernelspec": {
      "display_name": "Javascript",
      "name": "javascript"
    }
  },
  "cells": [
    {
      "cell_type": "code",
      "metadata": {
        "id": "ZVkF16NwcMsZ",
        "colab": {
          "base_uri": "https://localhost:8080/"
        },
        "outputId": "2f23fc7b-5a0e-4dae-e658-c41d52a1ef38"
      },
      "source": [
        "#/* run this once, then reload, and then skip this\n",
        "!npm install -g --unsafe-perm ijavascript\n",
        "!ijsinstall --install=global  # as fake comment */"
      ],
      "execution_count": null,
      "outputs": [
        {
          "output_type": "stream",
          "name": "stdout",
          "text": [
            "\u001b[K\u001b[?25h\u001b[37;40mnpm\u001b[0m \u001b[0m\u001b[30;43mWARN\u001b[0m \u001b[0m\u001b[35mdeprecated\u001b[0m uuid@3.4.0: Please upgrade  to version 7 or higher.  Older versions may use Math.random() in certain circumstances, which is known to be problematic.  See https://v8.dev/blog/math-random for details.\n",
            "\u001b[K\u001b[?25h/tools/node/bin/ijs -> /tools/node/lib/node_modules/ijavascript/bin/ijavascript.js\n",
            "/tools/node/bin/ijsconsole -> /tools/node/lib/node_modules/ijavascript/bin/ijsconsole.js\n",
            "/tools/node/bin/ijsinstall -> /tools/node/lib/node_modules/ijavascript/bin/ijsinstall.js\n",
            "/tools/node/bin/ijskernel -> /tools/node/lib/node_modules/ijavascript/lib/kernel.js\n",
            "/tools/node/bin/ijsnotebook -> /tools/node/lib/node_modules/ijavascript/bin/ijsnotebook.js\n",
            "+ ijavascript@5.2.1\n",
            "updated 1 package in 0.329s\n"
          ]
        }
      ]
    },
    {
      "cell_type": "code",
      "metadata": {
        "id": "skqAs_UHc8_P",
        "colab": {
          "base_uri": "https://localhost:8080/"
        },
        "outputId": "8af1b4ac-ac73-419b-97db-3d30055513f2"
      },
      "source": [
        "// need this for running shell command\n",
        "var { spawn } = require('child_process');\n",
        "var sh = (cmd) => { \n",
        "    $$.async();\n",
        "    var sp = spawn(cmd, { cwd: process.cwd(), stdio: 'pipe', shell: true, encoding: 'utf-8' });\n",
        "    sp.stdout.on('data', data => console.log(data.toString()));\n",
        "    sp.stderr.on('data', data => console.error(data.toString()));\n",
        "    sp.on('close', () => $$.done());\n",
        "};\n",
        "sh('npm init -y');"
      ],
      "execution_count": 5,
      "outputs": [
        {
          "output_type": "stream",
          "name": "stdout",
          "text": [
            "Wrote to /content/package.json:\n",
            "\n",
            "{\n",
            "  \"name\": \"content\",\n",
            "  \"version\": \"1.0.0\",\n",
            "  \"main\": \"index.js\",\n",
            "  \"scripts\": {\n",
            "    \"test\": \"echo \\\"Error: no test specified\\\" && exit 1\"\n",
            "  },\n",
            "  \"keywords\": [],\n",
            "  \"author\": \"\",\n",
            "  \"license\": \"ISC\",\n",
            "  \"description\": \"\"\n",
            "}\n",
            "\n",
            "\n",
            "\n"
          ]
        }
      ]
    },
    {
      "cell_type": "markdown",
      "metadata": {
        "id": "vk2-YfWOhB2m"
      },
      "source": [
        "# Numbers"
      ]
    },
    {
      "cell_type": "markdown",
      "metadata": {
        "id": "wnb-FbavhDMG"
      },
      "source": [
        "Values of the number type are, unsurprisingly, numeric values. In a JavaScript program, they are written as follows:"
      ]
    },
    {
      "cell_type": "code",
      "metadata": {
        "id": "dMh2LcTShItG",
        "colab": {
          "base_uri": "https://localhost:8080/"
        },
        "outputId": "76b2fac5-1654-47ec-80ad-a400c5d0f187"
      },
      "source": [
        "13"
      ],
      "execution_count": 6,
      "outputs": [
        {
          "output_type": "execute_result",
          "data": {
            "text/plain": [
              "13"
            ]
          },
          "metadata": {},
          "execution_count": 6
        }
      ]
    },
    {
      "cell_type": "markdown",
      "metadata": {
        "id": "gQ4la1aEhRRe"
      },
      "source": [
        "Fractional numbers are written by using a dot"
      ]
    },
    {
      "cell_type": "code",
      "metadata": {
        "id": "uqenm2zhhubm",
        "colab": {
          "base_uri": "https://localhost:8080/"
        },
        "outputId": "45a78051-d903-431b-f0e8-f33fc9c7ec26"
      },
      "source": [
        "9.81"
      ],
      "execution_count": 7,
      "outputs": [
        {
          "output_type": "execute_result",
          "data": {
            "text/plain": [
              "9.81"
            ]
          },
          "metadata": {},
          "execution_count": 7
        }
      ]
    },
    {
      "cell_type": "markdown",
      "metadata": {
        "id": "najEPz4dh2_m"
      },
      "source": [
        "For very big or very small numbers, you may also use scientific notation by adding an e (for exponent), followed by the exponent of the number"
      ]
    },
    {
      "cell_type": "code",
      "metadata": {
        "id": "CICE7gRyh5dX",
        "colab": {
          "base_uri": "https://localhost:8080/"
        },
        "outputId": "f5e0e024-19b5-4665-aa0e-4b66163b4e61"
      },
      "source": [
        "2.998e8"
      ],
      "execution_count": 8,
      "outputs": [
        {
          "output_type": "execute_result",
          "data": {
            "text/plain": [
              "299800000"
            ]
          },
          "metadata": {},
          "execution_count": 8
        }
      ]
    },
    {
      "cell_type": "markdown",
      "metadata": {
        "id": "BN0OBpIViGJG"
      },
      "source": [
        "## Arithmetic"
      ]
    },
    {
      "cell_type": "markdown",
      "metadata": {
        "id": "7qefiVACiJM-"
      },
      "source": [
        "Arithmetic operations such as addition or multiplication take two number values and produce a new number from them. Here is what they look like in JavaScript:"
      ]
    },
    {
      "cell_type": "code",
      "metadata": {
        "id": "2jVsIqS3iMjO",
        "colab": {
          "base_uri": "https://localhost:8080/"
        },
        "outputId": "997f1931-1548-4668-e4e1-3cca5c9c9fd1"
      },
      "source": [
        "100 + 4 * 11"
      ],
      "execution_count": 9,
      "outputs": [
        {
          "output_type": "execute_result",
          "data": {
            "text/plain": [
              "144"
            ]
          },
          "metadata": {},
          "execution_count": 9
        }
      ]
    },
    {
      "cell_type": "code",
      "metadata": {
        "id": "rQiCuTNGictG",
        "colab": {
          "base_uri": "https://localhost:8080/"
        },
        "outputId": "9302f963-8935-4be4-96ff-824db60db645"
      },
      "source": [
        "(100 + 4) * 11"
      ],
      "execution_count": 10,
      "outputs": [
        {
          "output_type": "execute_result",
          "data": {
            "text/plain": [
              "1144"
            ]
          },
          "metadata": {},
          "execution_count": 10
        }
      ]
    },
    {
      "cell_type": "markdown",
      "metadata": {
        "id": "3Nc57RgtiW2l"
      },
      "source": [
        "The % symbol is used to represent the remainder operation (modulo)"
      ]
    },
    {
      "cell_type": "code",
      "metadata": {
        "id": "KQMAMq9tip9G",
        "colab": {
          "base_uri": "https://localhost:8080/"
        },
        "outputId": "32c30628-b4c4-405f-a0b8-5c142b1c03ef"
      },
      "source": [
        "314 % 100"
      ],
      "execution_count": 11,
      "outputs": [
        {
          "output_type": "execute_result",
          "data": {
            "text/plain": [
              "14"
            ]
          },
          "metadata": {},
          "execution_count": 11
        }
      ]
    },
    {
      "cell_type": "markdown",
      "metadata": {
        "id": "l3rmMyQMixm-"
      },
      "source": [
        "## Special numbers"
      ]
    },
    {
      "cell_type": "markdown",
      "metadata": {
        "id": "ySXgaQGxizon"
      },
      "source": [
        "There are three special values in JavaScript that are considered numbers but don’t behave like normal numbers\n",
        "\n",
        "The first two are **Infinity and -Infinity**, which represent the positive and negative infinities\n",
        "\n",
        "Infinity - 1 is still Infinity"
      ]
    },
    {
      "cell_type": "code",
      "metadata": {
        "id": "Dsn1bJlSi7eG",
        "colab": {
          "base_uri": "https://localhost:8080/"
        },
        "outputId": "35803323-26fc-425d-8622-98df365bfda1"
      },
      "source": [
        "Infinity - 1"
      ],
      "execution_count": 12,
      "outputs": [
        {
          "output_type": "execute_result",
          "data": {
            "text/plain": [
              "Infinity"
            ]
          },
          "metadata": {},
          "execution_count": 12
        }
      ]
    },
    {
      "cell_type": "markdown",
      "metadata": {
        "id": "PO5i92c7i6RO"
      },
      "source": [
        "NaN stands for “not a number”\n",
        "\n",
        "You’ll get this result when you, for example, try to calculate 0 / 0 (zero divided by zero), Infinity - Infinity, or any number of other numeric operations that don’t yield a meaningful result\n"
      ]
    },
    {
      "cell_type": "code",
      "metadata": {
        "id": "m08AaGP_jyGu",
        "colab": {
          "base_uri": "https://localhost:8080/"
        },
        "outputId": "18461949-bc80-4d62-d2c1-d189385ca918"
      },
      "source": [
        "0 / 0"
      ],
      "execution_count": 13,
      "outputs": [
        {
          "output_type": "execute_result",
          "data": {
            "text/plain": [
              "NaN"
            ]
          },
          "metadata": {},
          "execution_count": 13
        }
      ]
    },
    {
      "cell_type": "code",
      "metadata": {
        "id": "eVTDmJP9jy97",
        "colab": {
          "base_uri": "https://localhost:8080/"
        },
        "outputId": "191f9c8d-cdd6-4573-e6db-fd347a2a75f5"
      },
      "source": [
        "Infinity - Infinity"
      ],
      "execution_count": 14,
      "outputs": [
        {
          "output_type": "execute_result",
          "data": {
            "text/plain": [
              "NaN"
            ]
          },
          "metadata": {},
          "execution_count": 14
        }
      ]
    },
    {
      "cell_type": "markdown",
      "metadata": {
        "id": "LOWCJz-mkSxP"
      },
      "source": [
        "# Strings"
      ]
    },
    {
      "cell_type": "markdown",
      "metadata": {
        "id": "3_VU0xfYkX3N"
      },
      "source": [
        "Strings are used to represent text. They are written by enclosing their content in quotes\n",
        "\n",
        "You can use single quotes, double quotes, or backticks to mark strings"
      ]
    },
    {
      "cell_type": "code",
      "metadata": {
        "id": "UtxnxTf7ke0N",
        "colab": {
          "base_uri": "https://localhost:8080/"
        },
        "outputId": "9fb414ec-d8e0-4e80-ed7f-dadf3d33f2d3"
      },
      "source": [
        "`Down on the sea`"
      ],
      "execution_count": 15,
      "outputs": [
        {
          "output_type": "execute_result",
          "data": {
            "text/plain": [
              "'Down on the sea'"
            ]
          },
          "metadata": {},
          "execution_count": 15
        }
      ]
    },
    {
      "cell_type": "code",
      "metadata": {
        "id": "aQCf9kCDkh-9",
        "colab": {
          "base_uri": "https://localhost:8080/"
        },
        "outputId": "a0918cd8-9fb4-4034-e9f3-f4e8350ba92e"
      },
      "source": [
        "\"Lie on the ocean\""
      ],
      "execution_count": 16,
      "outputs": [
        {
          "output_type": "execute_result",
          "data": {
            "text/plain": [
              "'Lie on the ocean'"
            ]
          },
          "metadata": {},
          "execution_count": 16
        }
      ]
    },
    {
      "cell_type": "code",
      "metadata": {
        "id": "ooXFog6Hkjbd",
        "colab": {
          "base_uri": "https://localhost:8080/"
        },
        "outputId": "4b8aa1f7-d6e0-4e50-91c7-63637bd89fa3"
      },
      "source": [
        "'Float on the ocean'"
      ],
      "execution_count": 17,
      "outputs": [
        {
          "output_type": "execute_result",
          "data": {
            "text/plain": [
              "'Float on the ocean'"
            ]
          },
          "metadata": {},
          "execution_count": 17
        }
      ]
    },
    {
      "cell_type": "markdown",
      "metadata": {
        "id": "ACXz4cZim6Xn"
      },
      "source": [
        "Whenever a backslash (\\) is found inside quoted text, it indicates that the character after it has a special meaning. This is called escaping the character\n",
        "\n",
        "A quote that is preceded by a backslash will not end the string but be part of it"
      ]
    },
    {
      "cell_type": "code",
      "metadata": {
        "id": "pHEn4KOrnCWe",
        "colab": {
          "base_uri": "https://localhost:8080/"
        },
        "outputId": "2fae99c3-be36-44f8-e5e6-91f7c0803cc5"
      },
      "source": [
        "console.log(\"This is the first line\\nAnd this is the second\")"
      ],
      "execution_count": 18,
      "outputs": [
        {
          "output_type": "stream",
          "name": "stdout",
          "text": [
            "This is the first line\n",
            "And this is the second\n"
          ]
        }
      ]
    },
    {
      "cell_type": "code",
      "metadata": {
        "id": "2fdKdgqZnSJX",
        "colab": {
          "base_uri": "https://localhost:8080/"
        },
        "outputId": "84444fda-2ef3-465c-c821-8358d3aad41c"
      },
      "source": [
        "console.log(\"A newline character is written like \\\"\\\\n\\\".\")"
      ],
      "execution_count": 19,
      "outputs": [
        {
          "output_type": "stream",
          "name": "stdout",
          "text": [
            "A newline character is written like \"\\n\".\n"
          ]
        }
      ]
    },
    {
      "cell_type": "markdown",
      "metadata": {
        "id": "no8LmaW0nY1g"
      },
      "source": [
        "The following line will produce the string \"concatenate\":"
      ]
    },
    {
      "cell_type": "code",
      "metadata": {
        "id": "t8yN-EgencOe",
        "colab": {
          "base_uri": "https://localhost:8080/"
        },
        "outputId": "439fdd0e-8718-4efd-ed00-0dbf1a7e2199"
      },
      "source": [
        "\"con\" + \"cat\" + \"e\" + \"nate\""
      ],
      "execution_count": 20,
      "outputs": [
        {
          "output_type": "execute_result",
          "data": {
            "text/plain": [
              "'concatenate'"
            ]
          },
          "metadata": {},
          "execution_count": 20
        }
      ]
    },
    {
      "cell_type": "markdown",
      "metadata": {
        "id": "LSpXgiXVniq-"
      },
      "source": [
        "**Backtick-quoted strings, usually called template literals,** can do a few more tricks\n",
        "\n",
        "When you write something inside **${} in a template literal, its result will be computed,** converted to a string, and included at that position"
      ]
    },
    {
      "cell_type": "code",
      "metadata": {
        "id": "TiuYGGCUn5Re",
        "colab": {
          "base_uri": "https://localhost:8080/"
        },
        "outputId": "95af0f9d-41c4-416a-e474-62b8172b5478"
      },
      "source": [
        "`half of 100 is ${100 / 2}`"
      ],
      "execution_count": 21,
      "outputs": [
        {
          "output_type": "execute_result",
          "data": {
            "text/plain": [
              "'half of 100 is 50'"
            ]
          },
          "metadata": {},
          "execution_count": 21
        }
      ]
    },
    {
      "cell_type": "markdown",
      "metadata": {
        "id": "jdBxHgPKn8zG"
      },
      "source": [
        "# Unary operators"
      ]
    },
    {
      "cell_type": "markdown",
      "metadata": {
        "id": "4bgRAK2Un-u9"
      },
      "source": [
        "Operators that use two values are called binary operators, while those that take one are called unary operators\n",
        "\n",
        "typeof operator: produces a string value naming the type of the value you give it"
      ]
    },
    {
      "cell_type": "code",
      "metadata": {
        "id": "WekPs_KxohKO",
        "colab": {
          "base_uri": "https://localhost:8080/"
        },
        "outputId": "187ab673-d764-4df5-d20a-2c1e0c764ef0"
      },
      "source": [
        "console.log(typeof 4.5)"
      ],
      "execution_count": 22,
      "outputs": [
        {
          "output_type": "stream",
          "name": "stdout",
          "text": [
            "number\n"
          ]
        }
      ]
    },
    {
      "cell_type": "code",
      "metadata": {
        "id": "1l6h9R2PojyM",
        "colab": {
          "base_uri": "https://localhost:8080/"
        },
        "outputId": "688018d7-d179-478b-cc73-0901528889a9"
      },
      "source": [
        "console.log(typeof \"x\")"
      ],
      "execution_count": 23,
      "outputs": [
        {
          "output_type": "stream",
          "name": "stdout",
          "text": [
            "string\n"
          ]
        }
      ]
    },
    {
      "cell_type": "markdown",
      "metadata": {
        "id": "0VTA1w7_o3i1"
      },
      "source": [
        "# Boolean values"
      ]
    },
    {
      "cell_type": "markdown",
      "metadata": {
        "id": "Por6RFfkp2R2"
      },
      "source": [
        "JavaScript has a Boolean type, which has just two values, true and false"
      ]
    },
    {
      "cell_type": "markdown",
      "metadata": {
        "id": "3MvCIGn1qLo1"
      },
      "source": [
        "## Comparison"
      ]
    },
    {
      "cell_type": "markdown",
      "metadata": {
        "id": "tvZk2RM1qNjg"
      },
      "source": [
        "Here is one way to produce Boolean values:"
      ]
    },
    {
      "cell_type": "code",
      "metadata": {
        "id": "42NY6ANFp9CW",
        "colab": {
          "base_uri": "https://localhost:8080/"
        },
        "outputId": "05918e5a-dad7-4c45-9c43-9d821cebafc7"
      },
      "source": [
        "console.log(3 > 2)"
      ],
      "execution_count": 24,
      "outputs": [
        {
          "output_type": "stream",
          "name": "stdout",
          "text": [
            "true\n"
          ]
        }
      ]
    },
    {
      "cell_type": "code",
      "metadata": {
        "id": "X6B0lKOOqA6f",
        "colab": {
          "base_uri": "https://localhost:8080/"
        },
        "outputId": "78efe455-4192-4d83-f473-a81648da9bec"
      },
      "source": [
        "console.log(3 < 2)"
      ],
      "execution_count": 25,
      "outputs": [
        {
          "output_type": "stream",
          "name": "stdout",
          "text": [
            "false\n"
          ]
        }
      ]
    },
    {
      "cell_type": "markdown",
      "metadata": {
        "id": "XWzHMhg4qQAo"
      },
      "source": [
        "Strings can be compared in the same way"
      ]
    },
    {
      "cell_type": "code",
      "metadata": {
        "id": "Wp4R7AyyqTgA",
        "colab": {
          "base_uri": "https://localhost:8080/"
        },
        "outputId": "02b3f6c7-c6b6-4c2a-f09b-7d12304c4913"
      },
      "source": [
        "console.log(\"Aardvark\" < \"Zoroaster\")"
      ],
      "execution_count": 26,
      "outputs": [
        {
          "output_type": "stream",
          "name": "stdout",
          "text": [
            "true\n"
          ]
        }
      ]
    },
    {
      "cell_type": "markdown",
      "metadata": {
        "id": "SYote2acqdMv"
      },
      "source": [
        "**Uppercase letters are always “less” than lowercase ones,** so \"Z\" < \"a\", and nonalphabetic characters (!, -, and so on) are also included in the ordering\n",
        "\n",
        "When comparing strings, JavaScript goes over the characters from left to right, comparing the Unicode codes one by one\n",
        "\n",
        "Other similar operators are **>= (greater than or equal to), <= (less than or equal to), == (equal to), and != (not equal to)**"
      ]
    },
    {
      "cell_type": "code",
      "metadata": {
        "id": "U6Y_Krhbq-WP",
        "colab": {
          "base_uri": "https://localhost:8080/"
        },
        "outputId": "b737afda-66b1-4760-8d49-662fbe95f250"
      },
      "source": [
        "console.log(\"Itchy\" != \"Scratchy\")"
      ],
      "execution_count": 27,
      "outputs": [
        {
          "output_type": "stream",
          "name": "stdout",
          "text": [
            "true\n"
          ]
        }
      ]
    },
    {
      "cell_type": "code",
      "metadata": {
        "id": "5w2kRWoVrCsI",
        "colab": {
          "base_uri": "https://localhost:8080/"
        },
        "outputId": "ed7f0d1c-dbb1-40f0-ef63-84e70feb0f9d"
      },
      "source": [
        "console.log(\"Apple\" == \"Orange\")"
      ],
      "execution_count": 28,
      "outputs": [
        {
          "output_type": "stream",
          "name": "stdout",
          "text": [
            "false\n"
          ]
        }
      ]
    },
    {
      "cell_type": "markdown",
      "metadata": {
        "id": "e2Ge84DArGQI"
      },
      "source": [
        "There is only one value in JavaScript that is not equal to itself, and that is NaN (“not a number”)"
      ]
    },
    {
      "cell_type": "code",
      "metadata": {
        "id": "iU6ctTT4rKGJ",
        "colab": {
          "base_uri": "https://localhost:8080/"
        },
        "outputId": "04665477-fb63-4540-d790-f7bef2f4a701"
      },
      "source": [
        "console.log(NaN == NaN)"
      ],
      "execution_count": 29,
      "outputs": [
        {
          "output_type": "stream",
          "name": "stdout",
          "text": [
            "false\n"
          ]
        }
      ]
    },
    {
      "cell_type": "markdown",
      "metadata": {
        "id": "ZatVWyD_rO_O"
      },
      "source": [
        "NaN is supposed to denote the result of a nonsensical computation, and as such, it isn’t equal to the result of any other nonsensical computations"
      ]
    },
    {
      "cell_type": "markdown",
      "metadata": {
        "id": "zqRop2PLrPnu"
      },
      "source": [
        "## Logical operators"
      ]
    },
    {
      "cell_type": "markdown",
      "metadata": {
        "id": "6LvcXdAVrS0V"
      },
      "source": [
        "JavaScript supports three logical operators: and, or, and not. These can be used to “reason” about Booleans\n",
        "\n",
        "**The && operator represents logical and**"
      ]
    },
    {
      "cell_type": "code",
      "metadata": {
        "id": "PvFN53lure7G",
        "colab": {
          "base_uri": "https://localhost:8080/"
        },
        "outputId": "ba884389-844a-42fa-be9d-8e9625192a17"
      },
      "source": [
        "console.log(true && false)"
      ],
      "execution_count": 30,
      "outputs": [
        {
          "output_type": "stream",
          "name": "stdout",
          "text": [
            "false\n"
          ]
        }
      ]
    },
    {
      "cell_type": "code",
      "metadata": {
        "id": "6RtMe-lXrhvH",
        "colab": {
          "base_uri": "https://localhost:8080/"
        },
        "outputId": "37fc58e8-3186-4138-ce88-ac4ca1ec44fc"
      },
      "source": [
        "console.log(true && true)"
      ],
      "execution_count": 31,
      "outputs": [
        {
          "output_type": "stream",
          "name": "stdout",
          "text": [
            "true\n"
          ]
        }
      ]
    },
    {
      "cell_type": "markdown",
      "metadata": {
        "id": "I-_tOuFNrlUm"
      },
      "source": [
        "The || operator denotes logical or"
      ]
    },
    {
      "cell_type": "code",
      "metadata": {
        "id": "g-0IVq9Prk0G",
        "colab": {
          "base_uri": "https://localhost:8080/"
        },
        "outputId": "225f90db-694f-4338-aafd-bf6a83a693f6"
      },
      "source": [
        "console.log(false || true)"
      ],
      "execution_count": 32,
      "outputs": [
        {
          "output_type": "stream",
          "name": "stdout",
          "text": [
            "true\n"
          ]
        }
      ]
    },
    {
      "cell_type": "code",
      "metadata": {
        "id": "CXhqgACWr0cl",
        "colab": {
          "base_uri": "https://localhost:8080/"
        },
        "outputId": "49686d05-5a45-45de-850b-ab228581fa35"
      },
      "source": [
        "console.log(false || false)"
      ],
      "execution_count": 33,
      "outputs": [
        {
          "output_type": "stream",
          "name": "stdout",
          "text": [
            "false\n"
          ]
        }
      ]
    },
    {
      "cell_type": "markdown",
      "metadata": {
        "id": "44UVl7DAr5L9"
      },
      "source": [
        "Not is written as an exclamation mark (!). It is a unary operator that flips the value given to it"
      ]
    },
    {
      "cell_type": "code",
      "metadata": {
        "id": "7vkIBtpGr7p9",
        "colab": {
          "base_uri": "https://localhost:8080/"
        },
        "outputId": "b7165143-139f-4c9f-8d3b-1f0fc8b2b420"
      },
      "source": [
        "console.log(!true)"
      ],
      "execution_count": 34,
      "outputs": [
        {
          "output_type": "stream",
          "name": "stdout",
          "text": [
            "false\n"
          ]
        }
      ]
    },
    {
      "cell_type": "markdown",
      "metadata": {
        "id": "7ETfuPvysg3O"
      },
      "source": [
        "When mixing these Boolean operators with arithmetic and other operators, it is not always obvious when parentheses are needed"
      ]
    },
    {
      "cell_type": "code",
      "metadata": {
        "id": "bZ926dVusFLH",
        "colab": {
          "base_uri": "https://localhost:8080/"
        },
        "outputId": "bede84fa-21bd-411b-a783-658d8278841b"
      },
      "source": [
        "1 + 1 == 2 && 10 * 10 > 50"
      ],
      "execution_count": 35,
      "outputs": [
        {
          "output_type": "execute_result",
          "data": {
            "text/plain": [
              "true"
            ]
          },
          "metadata": {},
          "execution_count": 35
        }
      ]
    },
    {
      "cell_type": "markdown",
      "metadata": {
        "id": "xf8RK6NjstCH"
      },
      "source": [
        "|| has the lowest precedence, then comes &&, then the comparison operators (>, ==, and so on), and then the rest"
      ]
    },
    {
      "cell_type": "markdown",
      "metadata": {
        "id": "21RnHrQvsy4f"
      },
      "source": [
        "**Conditional operator (ternary operator)**\n",
        "\n",
        "The value on the left of the question mark “picks” which of the other two values will come out. When it is true, it chooses the middle value, and when it is false, it chooses the value on the right"
      ]
    },
    {
      "cell_type": "code",
      "metadata": {
        "id": "LblElOBetVdW",
        "colab": {
          "base_uri": "https://localhost:8080/"
        },
        "outputId": "d8dc6642-cb5a-4be9-e664-d7c6c1d49fd3"
      },
      "source": [
        "console.log(true ? 1 : 2);"
      ],
      "execution_count": 36,
      "outputs": [
        {
          "output_type": "stream",
          "name": "stdout",
          "text": [
            "1\n"
          ]
        }
      ]
    },
    {
      "cell_type": "code",
      "metadata": {
        "id": "iNslJVkhtYCs",
        "colab": {
          "base_uri": "https://localhost:8080/"
        },
        "outputId": "e1b0038f-ed22-4257-a1b9-8963baaf3b8c"
      },
      "source": [
        "console.log(false ? 1 : 2);"
      ],
      "execution_count": 37,
      "outputs": [
        {
          "output_type": "stream",
          "name": "stdout",
          "text": [
            "2\n"
          ]
        }
      ]
    },
    {
      "cell_type": "markdown",
      "metadata": {
        "id": "2wsfJYZStsEu"
      },
      "source": [
        "# Empty values"
      ]
    },
    {
      "cell_type": "markdown",
      "metadata": {
        "id": "bO9arJ3gttyO"
      },
      "source": [
        "There are two special values, written **null** and **undefined**, that are used to **denote the absence of a meaningful value**. They are themselves values, but they carry no information\n",
        "\n",
        "Many operations in the language that don’t produce a meaningful value yield undefined simply because they have to yield some value\n",
        "\n",
        "The difference in meaning between undefined and null is an accident of JavaScript’s design, I recommend treating them as mostly **interchangeable**"
      ]
    },
    {
      "cell_type": "code",
      "metadata": {
        "id": "aK3tKzYatwD2",
        "colab": {
          "base_uri": "https://localhost:8080/"
        },
        "outputId": "d9cd178d-9b03-4f4c-e8e7-2084f263dd56"
      },
      "source": [
        "null "
      ],
      "execution_count": 38,
      "outputs": [
        {
          "output_type": "execute_result",
          "data": {
            "text/plain": [
              "null"
            ]
          },
          "metadata": {},
          "execution_count": 38
        }
      ]
    },
    {
      "cell_type": "code",
      "metadata": {
        "id": "H9pSijbyugNR"
      },
      "source": [
        "undefined"
      ],
      "execution_count": 100,
      "outputs": []
    },
    {
      "cell_type": "markdown",
      "metadata": {
        "id": "w9YyUnwcujAe"
      },
      "source": [
        "# Automatic type conversion"
      ]
    },
    {
      "cell_type": "markdown",
      "metadata": {
        "id": "RpooA_GgyjFw"
      },
      "source": [
        "When an operator is applied to the “wrong” type of value, JavaScript will quietly convert that value to the type it needs, this is called **type coercion**\n",
        "\n"
      ]
    },
    {
      "cell_type": "markdown",
      "metadata": {
        "id": "4e21oVxda52d"
      },
      "source": [
        "The null in the first expression becomes 0"
      ]
    },
    {
      "cell_type": "code",
      "metadata": {
        "id": "Qtn8ENcjuo4P",
        "colab": {
          "base_uri": "https://localhost:8080/"
        },
        "outputId": "4a1db2eb-b618-44e5-b756-2888c0503b02"
      },
      "source": [
        "console.log(8 * null)"
      ],
      "execution_count": 40,
      "outputs": [
        {
          "output_type": "stream",
          "name": "stdout",
          "text": [
            "0\n"
          ]
        }
      ]
    },
    {
      "cell_type": "markdown",
      "metadata": {
        "id": "gf-tpXz7a89K"
      },
      "source": [
        "The \"5\" in the second expression becomes 5 (from string to number)"
      ]
    },
    {
      "cell_type": "code",
      "metadata": {
        "id": "zfXOca4Ourv2",
        "colab": {
          "base_uri": "https://localhost:8080/"
        },
        "outputId": "089f4041-b82e-4aa8-df52-a1d884d0bf79"
      },
      "source": [
        "console.log(\"5\" - 1)"
      ],
      "execution_count": 41,
      "outputs": [
        {
          "output_type": "stream",
          "name": "stdout",
          "text": [
            "4\n"
          ]
        }
      ]
    },
    {
      "cell_type": "markdown",
      "metadata": {
        "id": "WiYXXbf8bFP0"
      },
      "source": [
        "Yet in the third expression, + tries string concatenation before numeric addition, so the 1 is converted to \"1\" **(from number to string)**"
      ]
    },
    {
      "cell_type": "code",
      "metadata": {
        "id": "Z3DwwYQ-uuO3",
        "colab": {
          "base_uri": "https://localhost:8080/"
        },
        "outputId": "1140ef24-fd92-4903-a35e-605dd53e80d8"
      },
      "source": [
        "console.log(\"5\" + 1)"
      ],
      "execution_count": 42,
      "outputs": [
        {
          "output_type": "stream",
          "name": "stdout",
          "text": [
            "51\n"
          ]
        }
      ]
    },
    {
      "cell_type": "markdown",
      "metadata": {
        "id": "Pp_hea7hbLvZ"
      },
      "source": [
        "When something that doesn’t map to a number in an obvious way (such as \"five\" or undefined) is converted to a number, you get the value NaN"
      ]
    },
    {
      "cell_type": "code",
      "metadata": {
        "id": "YZakGxezuyeH",
        "colab": {
          "base_uri": "https://localhost:8080/"
        },
        "outputId": "55bbd8f1-280f-4a72-fdfe-698e1102cff4"
      },
      "source": [
        "console.log(\"five\" * 2)"
      ],
      "execution_count": 43,
      "outputs": [
        {
          "output_type": "stream",
          "name": "stdout",
          "text": [
            "NaN\n"
          ]
        }
      ]
    },
    {
      "cell_type": "markdown",
      "metadata": {
        "id": "jVAJ44L4ba2m"
      },
      "source": [
        "When comparing values of the same type using ==,  you should get true when both values are the same, except in the case of NaN"
      ]
    },
    {
      "cell_type": "code",
      "metadata": {
        "id": "WB9VOI3qu0UF",
        "colab": {
          "base_uri": "https://localhost:8080/"
        },
        "outputId": "4aa48558-60ef-476a-cf87-eda32f5fa967"
      },
      "source": [
        "console.log(false == 0)"
      ],
      "execution_count": 44,
      "outputs": [
        {
          "output_type": "stream",
          "name": "stdout",
          "text": [
            "true\n"
          ]
        }
      ]
    },
    {
      "cell_type": "markdown",
      "metadata": {
        "id": "DpE4TgV5y7Gm"
      },
      "source": [
        "But when the types differ, JavaScript tries to convert one of the values to the other value’s type\n",
        "\n",
        "However, when null or undefined occurs on either side of the operator, it produces true only if both sides are one of null or undefined\n",
        "\n"
      ]
    },
    {
      "cell_type": "code",
      "metadata": {
        "id": "7Vc8NQnKbrXQ",
        "colab": {
          "base_uri": "https://localhost:8080/"
        },
        "outputId": "3a0d81d5-dbac-4263-b74e-7dfbe589a4b2"
      },
      "source": [
        "console.log(null == undefined)"
      ],
      "execution_count": 45,
      "outputs": [
        {
          "output_type": "stream",
          "name": "stdout",
          "text": [
            "true\n"
          ]
        }
      ]
    },
    {
      "cell_type": "code",
      "metadata": {
        "id": "brSKPzwxbuyQ",
        "colab": {
          "base_uri": "https://localhost:8080/"
        },
        "outputId": "57139084-fa93-4ca6-bada-1d06519bcb73"
      },
      "source": [
        "console.log(null == 0)"
      ],
      "execution_count": 46,
      "outputs": [
        {
          "output_type": "stream",
          "name": "stdout",
          "text": [
            "false\n"
          ]
        }
      ]
    },
    {
      "cell_type": "markdown",
      "metadata": {
        "id": "tc7yQAeYdTTu"
      },
      "source": [
        "When you want to test whether a value has a real value instead of null or undefined, you can compare it to null with the == (or !=) operator\n",
        "\n",
        "But what if you want to test whether something refers to the precise value false? Expressions like 0 == false and \"\" == false are also true because of automatic type conversion\n",
        "\n",
        "**When you do not want any type conversions to happen,** there are two additional operators: **===** and **!==**\n",
        "\n",
        "The first tests whether a value is precisely equal to the other, and the second tests whether it is not precisely equal. So \"\" === false is false as expected"
      ]
    },
    {
      "cell_type": "markdown",
      "metadata": {
        "id": "HIDMmIoPd5aT"
      },
      "source": [
        "## Short-circuiting of logical operators"
      ]
    },
    {
      "cell_type": "markdown",
      "metadata": {
        "id": "PnUgub18d8IB"
      },
      "source": [
        "The logical operators && and || handle values of different types in a peculiar way\n",
        "\n",
        "They will convert the value on their **left side to Boolean** type in order to decide what to do, but depending on the operator and the result of that conversion, they will **return either the original left-hand value or the right-hand value**\n",
        "\n",
        "The || operator, for example, will return the value to its left when that can be converted to true and will return the value on its right otherwise"
      ]
    },
    {
      "cell_type": "code",
      "metadata": {
        "id": "HalmIKLZgXDH",
        "colab": {
          "base_uri": "https://localhost:8080/"
        },
        "outputId": "9c1f57eb-f43b-4927-8c7c-92be4d611642"
      },
      "source": [
        "console.log(null || \"user\")"
      ],
      "execution_count": 47,
      "outputs": [
        {
          "output_type": "stream",
          "name": "stdout",
          "text": [
            "user\n"
          ]
        }
      ]
    },
    {
      "cell_type": "code",
      "metadata": {
        "id": "Iz0L64V8gZgm",
        "colab": {
          "base_uri": "https://localhost:8080/"
        },
        "outputId": "14986d7e-8aed-4cb2-f1ad-97b485afc6d5"
      },
      "source": [
        "console.log(\"Agnes\" || \"user\")"
      ],
      "execution_count": 48,
      "outputs": [
        {
          "output_type": "stream",
          "name": "stdout",
          "text": [
            "Agnes\n"
          ]
        }
      ]
    },
    {
      "cell_type": "markdown",
      "metadata": {
        "id": "DLX2w2s7pp0y"
      },
      "source": [
        "We can use this functionality as a way to fall back on a default value. **If you have a value that might be empty, you can put || after it with a replacement value.** If the initial value can be converted to false, you’ll get the replacement instead\n",
        "\n",
        "The rules for converting strings and numbers to Boolean values state that **0, NaN, and the empty string (\"\") count as false,** while all the other values count as true\n",
        "\n",
        "So 0 || -1 produces -1, and \"\" || \"!?\" yields \"!?\"\n",
        "\n",
        "The && operator works similarly but the other way around\n",
        "\n",
        "**When the value to its left is something that converts to false, it returns that value, and otherwise it returns the value on its right**"
      ]
    },
    {
      "cell_type": "code",
      "metadata": {
        "id": "KFQ11-4fqLCG",
        "colab": {
          "base_uri": "https://localhost:8080/"
        },
        "outputId": "ace0965d-453b-4ff6-e668-6ece68d11908"
      },
      "source": [
        "console.log(null && \"user\")"
      ],
      "execution_count": 49,
      "outputs": [
        {
          "output_type": "stream",
          "name": "stdout",
          "text": [
            "null\n"
          ]
        }
      ]
    },
    {
      "cell_type": "markdown",
      "metadata": {
        "id": "2ZTC7ohiqiJy"
      },
      "source": [
        "Another important property of these two operators is that **the part to their right is evaluated only when necessary**\n",
        "\n",
        "In the case of true || X, no matter what X is, the result will be true, and X is never evaluated. The same goes for false && X, which is false and will ignore X. This is called short-circuit evaluation"
      ]
    }
  ]
}