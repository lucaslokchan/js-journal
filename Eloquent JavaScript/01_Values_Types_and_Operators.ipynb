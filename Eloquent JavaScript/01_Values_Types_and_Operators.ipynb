{
  "nbformat": 4,
  "nbformat_minor": 0,
  "metadata": {
    "colab": {
      "name": "01.Values Types and Operators.ipynb",
      "provenance": [],
      "collapsed_sections": []
    },
    "kernelspec": {
      "display_name": "Javascript",
      "name": "javascript"
    }
  },
  "cells": [
    {
      "cell_type": "code",
      "metadata": {
        "colab": {
          "base_uri": "https://localhost:8080/",
          "height": 299
        },
        "id": "ZVkF16NwcMsZ",
        "outputId": "79f28c48-8e4a-47a5-ab04-010603ce6749"
      },
      "source": [
        "#/* run this once, then reload, and then skip this\n",
        "#!npm install -g --unsafe-perm ijavascript\n",
        "#!ijsinstall --install=global  # as fake comment */"
      ],
      "execution_count": 3,
      "outputs": [
        {
          "output_type": "error",
          "ename": "SyntaxError",
          "evalue": "ignored",
          "traceback": [
            "evalmachine.<anonymous>:1",
            "#/* run this once, then reload, and then skip this",
            "^",
            "",
            "SyntaxError: Invalid or unexpected token",
            "    at new Script (vm.js:101:7)",
            "    at createScript (vm.js:262:10)",
            "    at Object.runInThisContext (vm.js:310:10)",
            "    at run ([eval]:1054:15)",
            "    at onRunRequest ([eval]:888:18)",
            "    at onMessage ([eval]:848:13)",
            "    at process.emit (events.js:315:20)",
            "    at emit (internal/child_process.js:903:12)",
            "    at processTicksAndRejections (internal/process/task_queues.js:81:21)"
          ]
        }
      ]
    },
    {
      "cell_type": "code",
      "metadata": {
        "id": "skqAs_UHc8_P"
      },
      "source": [
        "// need this for running shell command\n",
        "var { spawn } = require('child_process');\n",
        "var sh = (cmd) => { \n",
        "    $$.async();\n",
        "    var sp = spawn(cmd, { cwd: process.cwd(), stdio: 'pipe', shell: true, encoding: 'utf-8' });\n",
        "    sp.stdout.on('data', data => console.log(data.toString()));\n",
        "    sp.stderr.on('data', data => console.error(data.toString()));\n",
        "    sp.on('close', () => $$.done());\n",
        "};\n",
        "sh('npm init -y');"
      ],
      "execution_count": null,
      "outputs": []
    },
    {
      "cell_type": "markdown",
      "metadata": {
        "id": "vk2-YfWOhB2m"
      },
      "source": [
        "# Numbers"
      ]
    },
    {
      "cell_type": "markdown",
      "metadata": {
        "id": "wnb-FbavhDMG"
      },
      "source": [
        "Values of the number type are, unsurprisingly, numeric values. In a JavaScript program, they are written as follows:"
      ]
    },
    {
      "cell_type": "code",
      "metadata": {
        "colab": {
          "base_uri": "https://localhost:8080/"
        },
        "id": "dMh2LcTShItG",
        "outputId": "0e3524e8-e21d-40b7-8f6a-aa925c48fb21"
      },
      "source": [
        "13"
      ],
      "execution_count": 28,
      "outputs": [
        {
          "output_type": "execute_result",
          "data": {
            "text/plain": [
              "13"
            ]
          },
          "metadata": {},
          "execution_count": 28
        }
      ]
    },
    {
      "cell_type": "markdown",
      "metadata": {
        "id": "gQ4la1aEhRRe"
      },
      "source": [
        "Fractional numbers are written by using a dot"
      ]
    },
    {
      "cell_type": "code",
      "metadata": {
        "colab": {
          "base_uri": "https://localhost:8080/"
        },
        "id": "uqenm2zhhubm",
        "outputId": "87013253-967f-48e4-f568-ae520ee69788"
      },
      "source": [
        "9.81"
      ],
      "execution_count": 33,
      "outputs": [
        {
          "output_type": "execute_result",
          "data": {
            "text/plain": [
              "9.81"
            ]
          },
          "metadata": {},
          "execution_count": 33
        }
      ]
    },
    {
      "cell_type": "markdown",
      "metadata": {
        "id": "najEPz4dh2_m"
      },
      "source": [
        "For very big or very small numbers, you may also use scientific notation by adding an e (for exponent), followed by the exponent of the number"
      ]
    },
    {
      "cell_type": "code",
      "metadata": {
        "colab": {
          "base_uri": "https://localhost:8080/"
        },
        "id": "CICE7gRyh5dX",
        "outputId": "9ab21a4f-c7fe-4051-e674-476336a36aac"
      },
      "source": [
        "2.998e8"
      ],
      "execution_count": 36,
      "outputs": [
        {
          "output_type": "execute_result",
          "data": {
            "text/plain": [
              "299800000"
            ]
          },
          "metadata": {},
          "execution_count": 36
        }
      ]
    },
    {
      "cell_type": "markdown",
      "metadata": {
        "id": "BN0OBpIViGJG"
      },
      "source": [
        "# Arithmetic"
      ]
    },
    {
      "cell_type": "markdown",
      "metadata": {
        "id": "7qefiVACiJM-"
      },
      "source": [
        "Arithmetic operations such as addition or multiplication take two number values and produce a new number from them. Here is what they look like in JavaScript:"
      ]
    },
    {
      "cell_type": "code",
      "metadata": {
        "colab": {
          "base_uri": "https://localhost:8080/"
        },
        "id": "2jVsIqS3iMjO",
        "outputId": "45580761-3f32-4ea1-bcc9-bc59ca115866"
      },
      "source": [
        "100 + 4 * 11"
      ],
      "execution_count": 39,
      "outputs": [
        {
          "output_type": "execute_result",
          "data": {
            "text/plain": [
              "144"
            ]
          },
          "metadata": {},
          "execution_count": 39
        }
      ]
    },
    {
      "cell_type": "code",
      "metadata": {
        "colab": {
          "base_uri": "https://localhost:8080/"
        },
        "id": "rQiCuTNGictG",
        "outputId": "c29f9c37-8871-4ad3-e149-9481b4963b26"
      },
      "source": [
        "(100 + 4) * 11"
      ],
      "execution_count": 42,
      "outputs": [
        {
          "output_type": "execute_result",
          "data": {
            "text/plain": [
              "1144"
            ]
          },
          "metadata": {},
          "execution_count": 42
        }
      ]
    },
    {
      "cell_type": "markdown",
      "metadata": {
        "id": "3Nc57RgtiW2l"
      },
      "source": [
        "The % symbol is used to represent the remainder operation (modulo)"
      ]
    },
    {
      "cell_type": "code",
      "metadata": {
        "colab": {
          "base_uri": "https://localhost:8080/"
        },
        "id": "KQMAMq9tip9G",
        "outputId": "3870cede-bfbb-44c3-e41e-3de660d1c273"
      },
      "source": [
        "314 % 100"
      ],
      "execution_count": 45,
      "outputs": [
        {
          "output_type": "execute_result",
          "data": {
            "text/plain": [
              "14"
            ]
          },
          "metadata": {},
          "execution_count": 45
        }
      ]
    },
    {
      "cell_type": "markdown",
      "metadata": {
        "id": "l3rmMyQMixm-"
      },
      "source": [
        "# Special numbers"
      ]
    },
    {
      "cell_type": "markdown",
      "metadata": {
        "id": "ySXgaQGxizon"
      },
      "source": [
        "There are three special values in JavaScript that are considered numbers but don’t behave like normal numbers\n",
        "\n",
        "The first two are **Infinity and -Infinity**, which represent the positive and negative infinities\n",
        "\n",
        "Infinity - 1 is still Infinity"
      ]
    },
    {
      "cell_type": "code",
      "metadata": {
        "colab": {
          "base_uri": "https://localhost:8080/"
        },
        "id": "Dsn1bJlSi7eG",
        "outputId": "1571a264-c534-4607-8445-150667a2d73c"
      },
      "source": [
        "Infinity - 1"
      ],
      "execution_count": 61,
      "outputs": [
        {
          "output_type": "execute_result",
          "data": {
            "text/plain": [
              "Infinity"
            ]
          },
          "metadata": {},
          "execution_count": 61
        }
      ]
    },
    {
      "cell_type": "markdown",
      "metadata": {
        "id": "PO5i92c7i6RO"
      },
      "source": [
        "NaN stands for “not a number”\n",
        "\n",
        "You’ll get this result when you, for example, try to calculate 0 / 0 (zero divided by zero), Infinity - Infinity, or any number of other numeric operations that don’t yield a meaningful result\n"
      ]
    },
    {
      "cell_type": "code",
      "metadata": {
        "colab": {
          "base_uri": "https://localhost:8080/"
        },
        "id": "m08AaGP_jyGu",
        "outputId": "2d15f477-eb5f-4dd1-a270-e58be49befa6"
      },
      "source": [
        "0 / 0"
      ],
      "execution_count": 64,
      "outputs": [
        {
          "output_type": "execute_result",
          "data": {
            "text/plain": [
              "NaN"
            ]
          },
          "metadata": {},
          "execution_count": 64
        }
      ]
    },
    {
      "cell_type": "code",
      "metadata": {
        "colab": {
          "base_uri": "https://localhost:8080/"
        },
        "id": "eVTDmJP9jy97",
        "outputId": "f31a8174-34fd-432e-f576-db2f57d73fa2"
      },
      "source": [
        "Infinity - Infinity"
      ],
      "execution_count": 66,
      "outputs": [
        {
          "output_type": "execute_result",
          "data": {
            "text/plain": [
              "NaN"
            ]
          },
          "metadata": {},
          "execution_count": 66
        }
      ]
    },
    {
      "cell_type": "markdown",
      "metadata": {
        "id": "LOWCJz-mkSxP"
      },
      "source": [
        "# Strings"
      ]
    },
    {
      "cell_type": "markdown",
      "metadata": {
        "id": "3_VU0xfYkX3N"
      },
      "source": [
        "Strings are used to represent text. They are written by enclosing their content in quotes\n",
        "\n",
        "You can use single quotes, double quotes, or backticks to mark strings"
      ]
    },
    {
      "cell_type": "code",
      "metadata": {
        "colab": {
          "base_uri": "https://localhost:8080/"
        },
        "id": "UtxnxTf7ke0N",
        "outputId": "27390311-70e9-46db-eac8-234f7b5f08c4"
      },
      "source": [
        "`Down on the sea`"
      ],
      "execution_count": 73,
      "outputs": [
        {
          "output_type": "execute_result",
          "data": {
            "text/plain": [
              "'Down on the sea'"
            ]
          },
          "metadata": {},
          "execution_count": 73
        }
      ]
    },
    {
      "cell_type": "code",
      "metadata": {
        "colab": {
          "base_uri": "https://localhost:8080/"
        },
        "id": "aQCf9kCDkh-9",
        "outputId": "8a8ac5bd-1088-4ffc-f82b-9309d7013cd1"
      },
      "source": [
        "\"Lie on the ocean\""
      ],
      "execution_count": 75,
      "outputs": [
        {
          "output_type": "execute_result",
          "data": {
            "text/plain": [
              "'Lie on the ocean'"
            ]
          },
          "metadata": {},
          "execution_count": 75
        }
      ]
    },
    {
      "cell_type": "code",
      "metadata": {
        "colab": {
          "base_uri": "https://localhost:8080/"
        },
        "id": "ooXFog6Hkjbd",
        "outputId": "c20104cc-a92b-4d01-8221-f2d8aca9f8d0"
      },
      "source": [
        "'Float on the ocean'"
      ],
      "execution_count": 76,
      "outputs": [
        {
          "output_type": "execute_result",
          "data": {
            "text/plain": [
              "'Float on the ocean'"
            ]
          },
          "metadata": {},
          "execution_count": 76
        }
      ]
    },
    {
      "cell_type": "markdown",
      "metadata": {
        "id": "ACXz4cZim6Xn"
      },
      "source": [
        "Whenever a backslash (\\) is found inside quoted text, it indicates that the character after it has a special meaning. This is called escaping the character\n",
        "\n",
        "A quote that is preceded by a backslash will not end the string but be part of it"
      ]
    },
    {
      "cell_type": "code",
      "metadata": {
        "colab": {
          "base_uri": "https://localhost:8080/"
        },
        "id": "pHEn4KOrnCWe",
        "outputId": "4767a8af-85d7-4788-8a50-7d6dfd5ebba3"
      },
      "source": [
        "console.log(\"This is the first line\\nAnd this is the second\")"
      ],
      "execution_count": 97,
      "outputs": [
        {
          "output_type": "stream",
          "name": "stdout",
          "text": [
            "This is the first line\n",
            "And this is the second\n"
          ]
        }
      ]
    },
    {
      "cell_type": "code",
      "metadata": {
        "colab": {
          "base_uri": "https://localhost:8080/"
        },
        "id": "2fdKdgqZnSJX",
        "outputId": "1358d553-7f08-4d1b-dd03-e820e6250f51"
      },
      "source": [
        "console.log(\"A newline character is written like \\\"\\\\n\\\".\")"
      ],
      "execution_count": 99,
      "outputs": [
        {
          "output_type": "stream",
          "name": "stdout",
          "text": [
            "A newline character is written like \"\\n\".\n"
          ]
        }
      ]
    },
    {
      "cell_type": "markdown",
      "metadata": {
        "id": "no8LmaW0nY1g"
      },
      "source": [
        "The following line will produce the string \"concatenate\":"
      ]
    },
    {
      "cell_type": "code",
      "metadata": {
        "colab": {
          "base_uri": "https://localhost:8080/"
        },
        "id": "t8yN-EgencOe",
        "outputId": "e6e031fb-1678-4582-a4af-842caba928fe"
      },
      "source": [
        "\"con\" + \"cat\" + \"e\" + \"nate\""
      ],
      "execution_count": 102,
      "outputs": [
        {
          "output_type": "execute_result",
          "data": {
            "text/plain": [
              "'concatenate'"
            ]
          },
          "metadata": {},
          "execution_count": 102
        }
      ]
    },
    {
      "cell_type": "markdown",
      "metadata": {
        "id": "LSpXgiXVniq-"
      },
      "source": [
        "Backtick-quoted strings, usually called template literals, can do a few more tricks\n",
        "\n",
        "When you write something inside ${} in a template literal, its result will be computed, converted to a string, and included at that position"
      ]
    },
    {
      "cell_type": "code",
      "metadata": {
        "colab": {
          "base_uri": "https://localhost:8080/"
        },
        "id": "TiuYGGCUn5Re",
        "outputId": "93399bd8-f696-45bd-bee6-3494a3d76735"
      },
      "source": [
        "`half of 100 is ${100 / 2}`"
      ],
      "execution_count": 106,
      "outputs": [
        {
          "output_type": "execute_result",
          "data": {
            "text/plain": [
              "'half of 100 is 50'"
            ]
          },
          "metadata": {},
          "execution_count": 106
        }
      ]
    },
    {
      "cell_type": "markdown",
      "metadata": {
        "id": "jdBxHgPKn8zG"
      },
      "source": [
        "# Unary operators"
      ]
    },
    {
      "cell_type": "markdown",
      "metadata": {
        "id": "4bgRAK2Un-u9"
      },
      "source": [
        "Operators that use two values are called binary operators, while those that take one are called unary operators\n",
        "\n",
        "typeof operator: produces a string value naming the type of the value you give it"
      ]
    },
    {
      "cell_type": "code",
      "metadata": {
        "colab": {
          "base_uri": "https://localhost:8080/"
        },
        "id": "WekPs_KxohKO",
        "outputId": "78ba11fa-3e44-45f4-c3d4-9150a69d4a24"
      },
      "source": [
        "console.log(typeof 4.5)"
      ],
      "execution_count": 111,
      "outputs": [
        {
          "output_type": "stream",
          "name": "stdout",
          "text": [
            "number\n"
          ]
        }
      ]
    },
    {
      "cell_type": "code",
      "metadata": {
        "colab": {
          "base_uri": "https://localhost:8080/"
        },
        "id": "1l6h9R2PojyM",
        "outputId": "b403fe23-9f95-4bdf-f901-6c4f632ec3c4"
      },
      "source": [
        "console.log(typeof \"x\")"
      ],
      "execution_count": 113,
      "outputs": [
        {
          "output_type": "stream",
          "name": "stdout",
          "text": [
            "string\n"
          ]
        }
      ]
    },
    {
      "cell_type": "markdown",
      "metadata": {
        "id": "0VTA1w7_o3i1"
      },
      "source": [
        "# Boolean values"
      ]
    },
    {
      "cell_type": "markdown",
      "metadata": {
        "id": "Por6RFfkp2R2"
      },
      "source": [
        "JavaScript has a Boolean type, which has just two values, true and false"
      ]
    },
    {
      "cell_type": "markdown",
      "metadata": {
        "id": "3MvCIGn1qLo1"
      },
      "source": [
        "# Comparison"
      ]
    },
    {
      "cell_type": "markdown",
      "metadata": {
        "id": "tvZk2RM1qNjg"
      },
      "source": [
        "Here is one way to produce Boolean values:"
      ]
    },
    {
      "cell_type": "code",
      "metadata": {
        "colab": {
          "base_uri": "https://localhost:8080/"
        },
        "id": "42NY6ANFp9CW",
        "outputId": "8f704e46-da94-4d50-b1a9-8d62c3184089"
      },
      "source": [
        "console.log(3 > 2)"
      ],
      "execution_count": 121,
      "outputs": [
        {
          "output_type": "stream",
          "name": "stdout",
          "text": [
            "true\n"
          ]
        }
      ]
    },
    {
      "cell_type": "code",
      "metadata": {
        "colab": {
          "base_uri": "https://localhost:8080/"
        },
        "id": "X6B0lKOOqA6f",
        "outputId": "9e7c70c0-4801-4a3c-f12c-f94e9d1247c6"
      },
      "source": [
        "console.log(3 < 2)"
      ],
      "execution_count": 123,
      "outputs": [
        {
          "output_type": "stream",
          "name": "stdout",
          "text": [
            "false\n"
          ]
        }
      ]
    },
    {
      "cell_type": "markdown",
      "metadata": {
        "id": "XWzHMhg4qQAo"
      },
      "source": [
        "Strings can be compared in the same way"
      ]
    },
    {
      "cell_type": "code",
      "metadata": {
        "colab": {
          "base_uri": "https://localhost:8080/"
        },
        "id": "Wp4R7AyyqTgA",
        "outputId": "1d2f49b2-aec9-4d86-b632-86962bd16045"
      },
      "source": [
        "console.log(\"Aardvark\" < \"Zoroaster\")"
      ],
      "execution_count": 127,
      "outputs": [
        {
          "output_type": "stream",
          "name": "stdout",
          "text": [
            "true\n"
          ]
        }
      ]
    },
    {
      "cell_type": "markdown",
      "metadata": {
        "id": "SYote2acqdMv"
      },
      "source": [
        "**Uppercase letters are always “less” than lowercase ones,** so \"Z\" < \"a\", and nonalphabetic characters (!, -, and so on) are also included in the ordering\n",
        "\n",
        "When comparing strings, JavaScript goes over the characters from left to right, comparing the Unicode codes one by one\n",
        "\n",
        "Other similar operators are **>= (greater than or equal to), <= (less than or equal to), == (equal to), and != (not equal to)**"
      ]
    },
    {
      "cell_type": "code",
      "metadata": {
        "colab": {
          "base_uri": "https://localhost:8080/"
        },
        "id": "U6Y_Krhbq-WP",
        "outputId": "343ec5d7-9136-4ca1-a00f-214474819f94"
      },
      "source": [
        "console.log(\"Itchy\" != \"Scratchy\")"
      ],
      "execution_count": 132,
      "outputs": [
        {
          "output_type": "stream",
          "name": "stdout",
          "text": [
            "true\n"
          ]
        }
      ]
    },
    {
      "cell_type": "code",
      "metadata": {
        "colab": {
          "base_uri": "https://localhost:8080/"
        },
        "id": "5w2kRWoVrCsI",
        "outputId": "3b5716e3-8228-4f24-e23a-487f28cbf977"
      },
      "source": [
        "console.log(\"Apple\" == \"Orange\")"
      ],
      "execution_count": 134,
      "outputs": [
        {
          "output_type": "stream",
          "name": "stdout",
          "text": [
            "false\n"
          ]
        }
      ]
    },
    {
      "cell_type": "markdown",
      "metadata": {
        "id": "e2Ge84DArGQI"
      },
      "source": [
        "There is only one value in JavaScript that is not equal to itself, and that is NaN (“not a number”)"
      ]
    },
    {
      "cell_type": "code",
      "metadata": {
        "colab": {
          "base_uri": "https://localhost:8080/"
        },
        "id": "iU6ctTT4rKGJ",
        "outputId": "a9d3700d-8a8d-41a3-c8ec-1afe23e66fc6"
      },
      "source": [
        "console.log(NaN == NaN)"
      ],
      "execution_count": 136,
      "outputs": [
        {
          "output_type": "stream",
          "name": "stdout",
          "text": [
            "false\n"
          ]
        }
      ]
    },
    {
      "cell_type": "markdown",
      "metadata": {
        "id": "ZatVWyD_rO_O"
      },
      "source": [
        "NaN is supposed to denote the result of a nonsensical computation, and as such, it isn’t equal to the result of any other nonsensical computations"
      ]
    },
    {
      "cell_type": "markdown",
      "metadata": {
        "id": "zqRop2PLrPnu"
      },
      "source": [
        "# Logical operators"
      ]
    },
    {
      "cell_type": "markdown",
      "metadata": {
        "id": "6LvcXdAVrS0V"
      },
      "source": [
        "JavaScript supports three logical operators: and, or, and not. These can be used to “reason” about Booleans\n",
        "\n",
        "**The && operator represents logical and**"
      ]
    },
    {
      "cell_type": "code",
      "metadata": {
        "colab": {
          "base_uri": "https://localhost:8080/"
        },
        "id": "PvFN53lure7G",
        "outputId": "48175a68-8af8-4e0a-d3a0-4e96815eca9c"
      },
      "source": [
        "console.log(true && false)"
      ],
      "execution_count": 140,
      "outputs": [
        {
          "output_type": "stream",
          "name": "stdout",
          "text": [
            "false\n"
          ]
        }
      ]
    },
    {
      "cell_type": "code",
      "metadata": {
        "colab": {
          "base_uri": "https://localhost:8080/"
        },
        "id": "6RtMe-lXrhvH",
        "outputId": "7ce07f31-8466-4436-9697-1778ed3a9f80"
      },
      "source": [
        "console.log(true && true)"
      ],
      "execution_count": 142,
      "outputs": [
        {
          "output_type": "stream",
          "name": "stdout",
          "text": [
            "true\n"
          ]
        }
      ]
    },
    {
      "cell_type": "markdown",
      "metadata": {
        "id": "I-_tOuFNrlUm"
      },
      "source": [
        "The || operator denotes logical or"
      ]
    },
    {
      "cell_type": "code",
      "metadata": {
        "colab": {
          "base_uri": "https://localhost:8080/"
        },
        "id": "g-0IVq9Prk0G",
        "outputId": "cad2cca3-dcfd-4bd4-cea9-0f5549b8f6ae"
      },
      "source": [
        "console.log(false || true)"
      ],
      "execution_count": 145,
      "outputs": [
        {
          "output_type": "stream",
          "name": "stdout",
          "text": [
            "true\n"
          ]
        }
      ]
    },
    {
      "cell_type": "code",
      "metadata": {
        "colab": {
          "base_uri": "https://localhost:8080/"
        },
        "id": "CXhqgACWr0cl",
        "outputId": "430c2abc-d306-4674-909f-a1e2f19a0bb9"
      },
      "source": [
        "console.log(false || false)"
      ],
      "execution_count": 147,
      "outputs": [
        {
          "output_type": "stream",
          "name": "stdout",
          "text": [
            "false\n"
          ]
        }
      ]
    },
    {
      "cell_type": "markdown",
      "metadata": {
        "id": "44UVl7DAr5L9"
      },
      "source": [
        "Not is written as an exclamation mark (!). It is a unary operator that flips the value given to it"
      ]
    },
    {
      "cell_type": "code",
      "metadata": {
        "colab": {
          "base_uri": "https://localhost:8080/"
        },
        "id": "7vkIBtpGr7p9",
        "outputId": "36c12252-1f87-408e-b919-0d66c24788b3"
      },
      "source": [
        "console.log(!true)"
      ],
      "execution_count": 150,
      "outputs": [
        {
          "output_type": "stream",
          "name": "stdout",
          "text": [
            "false\n"
          ]
        }
      ]
    },
    {
      "cell_type": "markdown",
      "metadata": {
        "id": "7ETfuPvysg3O"
      },
      "source": [
        "When mixing these Boolean operators with arithmetic and other operators, it is not always obvious when parentheses are needed"
      ]
    },
    {
      "cell_type": "code",
      "metadata": {
        "colab": {
          "base_uri": "https://localhost:8080/"
        },
        "id": "bZ926dVusFLH",
        "outputId": "5517e605-ac15-4881-a94b-1835cf82501d"
      },
      "source": [
        "1 + 1 == 2 && 10 * 10 > 50"
      ],
      "execution_count": 152,
      "outputs": [
        {
          "output_type": "execute_result",
          "data": {
            "text/plain": [
              "true"
            ]
          },
          "metadata": {},
          "execution_count": 152
        }
      ]
    },
    {
      "cell_type": "markdown",
      "metadata": {
        "id": "xf8RK6NjstCH"
      },
      "source": [
        "|| has the lowest precedence, then comes &&, then the comparison operators (>, ==, and so on), and then the rest"
      ]
    },
    {
      "cell_type": "markdown",
      "metadata": {
        "id": "21RnHrQvsy4f"
      },
      "source": [
        "**Conditional operator (ternary operator)**\n",
        "\n",
        "The value on the left of the question mark “picks” which of the other two values will come out. When it is true, it chooses the middle value, and when it is false, it chooses the value on the right"
      ]
    },
    {
      "cell_type": "code",
      "metadata": {
        "colab": {
          "base_uri": "https://localhost:8080/"
        },
        "id": "LblElOBetVdW",
        "outputId": "fc22e7a4-c59a-470a-9106-a1d40a43b583"
      },
      "source": [
        "console.log(true ? 1 : 2);"
      ],
      "execution_count": 164,
      "outputs": [
        {
          "output_type": "stream",
          "name": "stdout",
          "text": [
            "1\n"
          ]
        }
      ]
    },
    {
      "cell_type": "code",
      "metadata": {
        "colab": {
          "base_uri": "https://localhost:8080/"
        },
        "id": "iNslJVkhtYCs",
        "outputId": "4d8b63af-b8d5-4fbc-ff86-c176446e346f"
      },
      "source": [
        "console.log(false ? 1 : 2);"
      ],
      "execution_count": 165,
      "outputs": [
        {
          "output_type": "stream",
          "name": "stdout",
          "text": [
            "2\n"
          ]
        }
      ]
    },
    {
      "cell_type": "markdown",
      "metadata": {
        "id": "2wsfJYZStsEu"
      },
      "source": [
        "# Empty values"
      ]
    },
    {
      "cell_type": "markdown",
      "metadata": {
        "id": "bO9arJ3gttyO"
      },
      "source": [
        "There are two special values, written **null** and **undefined**, that are used to **denote the absence of a meaningful value**. They are themselves values, but they carry no information\n",
        "\n",
        "Many operations in the language that don’t produce a meaningful value yield undefined simply because they have to yield some value\n",
        "\n",
        "The difference in meaning between undefined and null is an accident of JavaScript’s design, I recommend treating them as mostly **interchangeable**"
      ]
    },
    {
      "cell_type": "code",
      "metadata": {
        "colab": {
          "base_uri": "https://localhost:8080/"
        },
        "id": "aK3tKzYatwD2",
        "outputId": "bde46acf-762c-4e54-8a56-8c03a5028e4f"
      },
      "source": [
        "null "
      ],
      "execution_count": 170,
      "outputs": [
        {
          "output_type": "execute_result",
          "data": {
            "text/plain": [
              "null"
            ]
          },
          "metadata": {},
          "execution_count": 170
        }
      ]
    },
    {
      "cell_type": "code",
      "metadata": {
        "id": "H9pSijbyugNR"
      },
      "source": [
        "undefined"
      ],
      "execution_count": 179,
      "outputs": []
    },
    {
      "cell_type": "markdown",
      "metadata": {
        "id": "w9YyUnwcujAe"
      },
      "source": [
        "# Automatic type conversion"
      ]
    },
    {
      "cell_type": "markdown",
      "metadata": {
        "id": "RpooA_GgyjFw"
      },
      "source": [
        "When an operator is applied to the “wrong” type of value, JavaScript will quietly convert that value to the type it needs, this is called **type coercion**\n",
        "\n"
      ]
    },
    {
      "cell_type": "code",
      "metadata": {
        "colab": {
          "base_uri": "https://localhost:8080/"
        },
        "id": "Qtn8ENcjuo4P",
        "outputId": "71099726-9b8c-4961-b4c1-b0a9ab7376bc"
      },
      "source": [
        "console.log(8 * null)"
      ],
      "execution_count": 181,
      "outputs": [
        {
          "output_type": "stream",
          "name": "stdout",
          "text": [
            "0\n"
          ]
        }
      ]
    },
    {
      "cell_type": "code",
      "metadata": {
        "colab": {
          "base_uri": "https://localhost:8080/"
        },
        "id": "zfXOca4Ourv2",
        "outputId": "b23494f8-e340-4fd8-dc1e-0538ccdd1f9d"
      },
      "source": [
        "console.log(\"5\" - 1)"
      ],
      "execution_count": 184,
      "outputs": [
        {
          "output_type": "stream",
          "name": "stdout",
          "text": [
            "4\n"
          ]
        }
      ]
    },
    {
      "cell_type": "code",
      "metadata": {
        "colab": {
          "base_uri": "https://localhost:8080/"
        },
        "id": "Z3DwwYQ-uuO3",
        "outputId": "50c1f1b2-f88f-4219-e216-61b2e5e63081"
      },
      "source": [
        "console.log(\"5\" + 1)"
      ],
      "execution_count": 186,
      "outputs": [
        {
          "output_type": "stream",
          "name": "stdout",
          "text": [
            "51\n"
          ]
        }
      ]
    },
    {
      "cell_type": "code",
      "metadata": {
        "colab": {
          "base_uri": "https://localhost:8080/"
        },
        "id": "YZakGxezuyeH",
        "outputId": "a4fcdd5f-790c-43cb-cc09-50e6937cd3f5"
      },
      "source": [
        "console.log(\"five\" * 2)"
      ],
      "execution_count": 188,
      "outputs": [
        {
          "output_type": "stream",
          "name": "stdout",
          "text": [
            "NaN\n"
          ]
        }
      ]
    },
    {
      "cell_type": "code",
      "metadata": {
        "colab": {
          "base_uri": "https://localhost:8080/"
        },
        "id": "WB9VOI3qu0UF",
        "outputId": "33489e88-0dab-4044-8bf3-79d9c50a6b29"
      },
      "source": [
        "console.log(false == 0)"
      ],
      "execution_count": 190,
      "outputs": [
        {
          "output_type": "stream",
          "name": "stdout",
          "text": [
            "true\n"
          ]
        }
      ]
    },
    {
      "cell_type": "markdown",
      "metadata": {
        "id": "DpE4TgV5y7Gm"
      },
      "source": [
        ""
      ]
    }
  ]
}