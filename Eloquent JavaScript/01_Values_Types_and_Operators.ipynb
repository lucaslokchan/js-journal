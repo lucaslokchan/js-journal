{
  "nbformat": 4,
  "nbformat_minor": 0,
  "metadata": {
    "colab": {
      "name": "01.Values Types and Operators.ipynb",
      "provenance": [],
      "collapsed_sections": []
    },
    "kernelspec": {
      "display_name": "Javascript",
      "name": "javascript"
    }
  },
  "cells": [
    {
      "cell_type": "markdown",
      "metadata": {
        "id": "vk2-YfWOhB2m"
      },
      "source": [
        "# Numbers"
      ]
    },
    {
      "cell_type": "markdown",
      "metadata": {
        "id": "wnb-FbavhDMG"
      },
      "source": [
        "Values of the number type are, unsurprisingly, numeric values. In a JavaScript program, they are written as follows:"
      ]
    },
    {
      "cell_type": "code",
      "metadata": {
        "id": "dMh2LcTShItG",
        "colab": {
          "base_uri": "https://localhost:8080/"
        },
        "outputId": "6e507f59-bbc6-4880-d0f9-a75c1f3560cf"
      },
      "source": [
        "13"
      ],
      "execution_count": 6,
      "outputs": [
        {
          "output_type": "execute_result",
          "data": {
            "text/plain": [
              "13"
            ]
          },
          "metadata": {},
          "execution_count": 6
        }
      ]
    },
    {
      "cell_type": "markdown",
      "metadata": {
        "id": "gQ4la1aEhRRe"
      },
      "source": [
        "Fractional numbers are written by using a dot"
      ]
    },
    {
      "cell_type": "code",
      "metadata": {
        "id": "uqenm2zhhubm",
        "colab": {
          "base_uri": "https://localhost:8080/"
        },
        "outputId": "d4b3fd82-95c9-4d5e-da00-0c260fcb3547"
      },
      "source": [
        "9.81"
      ],
      "execution_count": 7,
      "outputs": [
        {
          "output_type": "execute_result",
          "data": {
            "text/plain": [
              "9.81"
            ]
          },
          "metadata": {},
          "execution_count": 7
        }
      ]
    },
    {
      "cell_type": "markdown",
      "metadata": {
        "id": "najEPz4dh2_m"
      },
      "source": [
        "For very big or very small numbers, you may also use scientific notation by adding an e (for exponent), followed by the exponent of the number"
      ]
    },
    {
      "cell_type": "code",
      "metadata": {
        "id": "CICE7gRyh5dX",
        "colab": {
          "base_uri": "https://localhost:8080/"
        },
        "outputId": "a84e6238-980d-4fa8-b2b4-a6fbf2f76610"
      },
      "source": [
        "2.998e8"
      ],
      "execution_count": 8,
      "outputs": [
        {
          "output_type": "execute_result",
          "data": {
            "text/plain": [
              "299800000"
            ]
          },
          "metadata": {},
          "execution_count": 8
        }
      ]
    },
    {
      "cell_type": "markdown",
      "metadata": {
        "id": "BN0OBpIViGJG"
      },
      "source": [
        "## Arithmetic"
      ]
    },
    {
      "cell_type": "markdown",
      "metadata": {
        "id": "7qefiVACiJM-"
      },
      "source": [
        "Arithmetic operations such as addition or multiplication take two number values and produce a new number from them. Here is what they look like in JavaScript:"
      ]
    },
    {
      "cell_type": "code",
      "metadata": {
        "id": "2jVsIqS3iMjO",
        "colab": {
          "base_uri": "https://localhost:8080/"
        },
        "outputId": "f590942e-eced-46fe-c897-c213e89fe8ed"
      },
      "source": [
        "100 + 4 * 11"
      ],
      "execution_count": 9,
      "outputs": [
        {
          "output_type": "execute_result",
          "data": {
            "text/plain": [
              "144"
            ]
          },
          "metadata": {},
          "execution_count": 9
        }
      ]
    },
    {
      "cell_type": "code",
      "metadata": {
        "id": "rQiCuTNGictG",
        "colab": {
          "base_uri": "https://localhost:8080/"
        },
        "outputId": "a2093b1b-30db-4c0c-89e8-ab935b9473ae"
      },
      "source": [
        "(100 + 4) * 11"
      ],
      "execution_count": 10,
      "outputs": [
        {
          "output_type": "execute_result",
          "data": {
            "text/plain": [
              "1144"
            ]
          },
          "metadata": {},
          "execution_count": 10
        }
      ]
    },
    {
      "cell_type": "markdown",
      "metadata": {
        "id": "3Nc57RgtiW2l"
      },
      "source": [
        "The % symbol is used to represent the remainder operation (modulo)"
      ]
    },
    {
      "cell_type": "code",
      "metadata": {
        "id": "KQMAMq9tip9G",
        "colab": {
          "base_uri": "https://localhost:8080/"
        },
        "outputId": "24038179-aaa4-468c-f1c2-ae1e64ae93bc"
      },
      "source": [
        "314 % 100"
      ],
      "execution_count": 11,
      "outputs": [
        {
          "output_type": "execute_result",
          "data": {
            "text/plain": [
              "14"
            ]
          },
          "metadata": {},
          "execution_count": 11
        }
      ]
    },
    {
      "cell_type": "markdown",
      "metadata": {
        "id": "l3rmMyQMixm-"
      },
      "source": [
        "## Special numbers"
      ]
    },
    {
      "cell_type": "markdown",
      "metadata": {
        "id": "ySXgaQGxizon"
      },
      "source": [
        "There are three special values in JavaScript that are considered numbers but don’t behave like normal numbers\n",
        "\n",
        "The first two are **Infinity and -Infinity**, which represent the positive and negative infinities\n",
        "\n",
        "Infinity - 1 is still Infinity"
      ]
    },
    {
      "cell_type": "code",
      "metadata": {
        "id": "Dsn1bJlSi7eG",
        "colab": {
          "base_uri": "https://localhost:8080/"
        },
        "outputId": "0d37bc04-4a1a-4c54-f75f-7ed21234814b"
      },
      "source": [
        "Infinity - 1"
      ],
      "execution_count": 12,
      "outputs": [
        {
          "output_type": "execute_result",
          "data": {
            "text/plain": [
              "Infinity"
            ]
          },
          "metadata": {},
          "execution_count": 12
        }
      ]
    },
    {
      "cell_type": "markdown",
      "metadata": {
        "id": "PO5i92c7i6RO"
      },
      "source": [
        "NaN stands for “not a number”\n",
        "\n",
        "You’ll get this result when you, for example, try to calculate 0 / 0 (zero divided by zero), Infinity - Infinity, or any number of other numeric operations that don’t yield a meaningful result\n"
      ]
    },
    {
      "cell_type": "code",
      "metadata": {
        "id": "m08AaGP_jyGu",
        "colab": {
          "base_uri": "https://localhost:8080/"
        },
        "outputId": "4d84692e-9528-47c9-fcd3-e5ea196b26a9"
      },
      "source": [
        "0 / 0"
      ],
      "execution_count": 13,
      "outputs": [
        {
          "output_type": "execute_result",
          "data": {
            "text/plain": [
              "NaN"
            ]
          },
          "metadata": {},
          "execution_count": 13
        }
      ]
    },
    {
      "cell_type": "code",
      "metadata": {
        "id": "eVTDmJP9jy97",
        "colab": {
          "base_uri": "https://localhost:8080/"
        },
        "outputId": "26a209b9-b288-4537-b3e6-df2a058f8d62"
      },
      "source": [
        "Infinity - Infinity"
      ],
      "execution_count": 14,
      "outputs": [
        {
          "output_type": "execute_result",
          "data": {
            "text/plain": [
              "NaN"
            ]
          },
          "metadata": {},
          "execution_count": 14
        }
      ]
    },
    {
      "cell_type": "markdown",
      "metadata": {
        "id": "LOWCJz-mkSxP"
      },
      "source": [
        "# Strings"
      ]
    },
    {
      "cell_type": "markdown",
      "metadata": {
        "id": "3_VU0xfYkX3N"
      },
      "source": [
        "Strings are used to represent text. They are written by enclosing their content in quotes\n",
        "\n",
        "You can use single quotes, double quotes, or backticks to mark strings"
      ]
    },
    {
      "cell_type": "code",
      "metadata": {
        "id": "UtxnxTf7ke0N",
        "colab": {
          "base_uri": "https://localhost:8080/"
        },
        "outputId": "dbd96c56-0e00-49e8-e694-a7bad8a4acfc"
      },
      "source": [
        "`Down on the sea`"
      ],
      "execution_count": 15,
      "outputs": [
        {
          "output_type": "execute_result",
          "data": {
            "text/plain": [
              "'Down on the sea'"
            ]
          },
          "metadata": {},
          "execution_count": 15
        }
      ]
    },
    {
      "cell_type": "code",
      "metadata": {
        "id": "aQCf9kCDkh-9",
        "colab": {
          "base_uri": "https://localhost:8080/"
        },
        "outputId": "e7fc8f7d-6b44-4a62-d5ce-7649946aeaa3"
      },
      "source": [
        "\"Lie on the ocean\""
      ],
      "execution_count": 16,
      "outputs": [
        {
          "output_type": "execute_result",
          "data": {
            "text/plain": [
              "'Lie on the ocean'"
            ]
          },
          "metadata": {},
          "execution_count": 16
        }
      ]
    },
    {
      "cell_type": "code",
      "metadata": {
        "id": "ooXFog6Hkjbd",
        "colab": {
          "base_uri": "https://localhost:8080/"
        },
        "outputId": "890209e7-590b-483f-8093-2c2e0556068a"
      },
      "source": [
        "'Float on the ocean'"
      ],
      "execution_count": 17,
      "outputs": [
        {
          "output_type": "execute_result",
          "data": {
            "text/plain": [
              "'Float on the ocean'"
            ]
          },
          "metadata": {},
          "execution_count": 17
        }
      ]
    },
    {
      "cell_type": "markdown",
      "metadata": {
        "id": "ACXz4cZim6Xn"
      },
      "source": [
        "Whenever a backslash (\\) is found inside quoted text, it indicates that the character after it has a special meaning. This is called escaping the character\n",
        "\n",
        "A quote that is preceded by a backslash will not end the string but be part of it"
      ]
    },
    {
      "cell_type": "code",
      "metadata": {
        "id": "pHEn4KOrnCWe",
        "colab": {
          "base_uri": "https://localhost:8080/"
        },
        "outputId": "dc167c33-7a59-4743-f81a-cca2ecae0a24"
      },
      "source": [
        "console.log(\"This is the first line\\nAnd this is the second\")"
      ],
      "execution_count": 18,
      "outputs": [
        {
          "output_type": "stream",
          "name": "stdout",
          "text": [
            "This is the first line\n",
            "And this is the second\n"
          ]
        }
      ]
    },
    {
      "cell_type": "code",
      "metadata": {
        "id": "2fdKdgqZnSJX",
        "colab": {
          "base_uri": "https://localhost:8080/"
        },
        "outputId": "7a178a8f-f426-420c-81dc-572783476397"
      },
      "source": [
        "console.log(\"A newline character is written like \\\"\\\\n\\\".\")"
      ],
      "execution_count": 19,
      "outputs": [
        {
          "output_type": "stream",
          "name": "stdout",
          "text": [
            "A newline character is written like \"\\n\".\n"
          ]
        }
      ]
    },
    {
      "cell_type": "markdown",
      "metadata": {
        "id": "no8LmaW0nY1g"
      },
      "source": [
        "The following line will produce the string \"concatenate\":"
      ]
    },
    {
      "cell_type": "code",
      "metadata": {
        "id": "t8yN-EgencOe",
        "colab": {
          "base_uri": "https://localhost:8080/"
        },
        "outputId": "96c65967-32c1-4b91-f74a-d68f647f9071"
      },
      "source": [
        "\"con\" + \"cat\" + \"e\" + \"nate\""
      ],
      "execution_count": 20,
      "outputs": [
        {
          "output_type": "execute_result",
          "data": {
            "text/plain": [
              "'concatenate'"
            ]
          },
          "metadata": {},
          "execution_count": 20
        }
      ]
    },
    {
      "cell_type": "markdown",
      "metadata": {
        "id": "LSpXgiXVniq-"
      },
      "source": [
        "**Backtick-quoted strings, usually called template literals,** can do a few more tricks\n",
        "\n",
        "When you write something inside **${} in a template literal, its result will be computed,** converted to a string, and included at that position"
      ]
    },
    {
      "cell_type": "code",
      "metadata": {
        "id": "TiuYGGCUn5Re",
        "colab": {
          "base_uri": "https://localhost:8080/"
        },
        "outputId": "bb3ff64f-01ad-4cb2-d1e1-42d4135661c3"
      },
      "source": [
        "`half of 100 is ${100 / 2}`"
      ],
      "execution_count": 21,
      "outputs": [
        {
          "output_type": "execute_result",
          "data": {
            "text/plain": [
              "'half of 100 is 50'"
            ]
          },
          "metadata": {},
          "execution_count": 21
        }
      ]
    },
    {
      "cell_type": "markdown",
      "metadata": {
        "id": "jdBxHgPKn8zG"
      },
      "source": [
        "# Unary operators"
      ]
    },
    {
      "cell_type": "markdown",
      "metadata": {
        "id": "4bgRAK2Un-u9"
      },
      "source": [
        "Operators that use two values are called binary operators, while those that take one are called unary operators\n",
        "\n",
        "typeof operator: produces a string value naming the type of the value you give it"
      ]
    },
    {
      "cell_type": "code",
      "metadata": {
        "id": "WekPs_KxohKO",
        "colab": {
          "base_uri": "https://localhost:8080/"
        },
        "outputId": "6c50352a-8f8f-43c3-999a-d99ebed4e8f8"
      },
      "source": [
        "console.log(typeof 4.5)"
      ],
      "execution_count": 22,
      "outputs": [
        {
          "output_type": "stream",
          "name": "stdout",
          "text": [
            "number\n"
          ]
        }
      ]
    },
    {
      "cell_type": "code",
      "metadata": {
        "id": "1l6h9R2PojyM",
        "colab": {
          "base_uri": "https://localhost:8080/"
        },
        "outputId": "3882b62c-eaf8-47cd-9247-eb5e658aeb74"
      },
      "source": [
        "console.log(typeof \"x\")"
      ],
      "execution_count": 23,
      "outputs": [
        {
          "output_type": "stream",
          "name": "stdout",
          "text": [
            "string\n"
          ]
        }
      ]
    },
    {
      "cell_type": "markdown",
      "metadata": {
        "id": "0VTA1w7_o3i1"
      },
      "source": [
        "# Boolean values"
      ]
    },
    {
      "cell_type": "markdown",
      "metadata": {
        "id": "Por6RFfkp2R2"
      },
      "source": [
        "JavaScript has a Boolean type, which has just two values, true and false"
      ]
    },
    {
      "cell_type": "markdown",
      "metadata": {
        "id": "3MvCIGn1qLo1"
      },
      "source": [
        "## Comparison"
      ]
    },
    {
      "cell_type": "markdown",
      "metadata": {
        "id": "tvZk2RM1qNjg"
      },
      "source": [
        "Here is one way to produce Boolean values:"
      ]
    },
    {
      "cell_type": "code",
      "metadata": {
        "id": "42NY6ANFp9CW",
        "colab": {
          "base_uri": "https://localhost:8080/"
        },
        "outputId": "d83d5611-5b6b-434c-b022-fdb303d0be98"
      },
      "source": [
        "console.log(3 > 2)"
      ],
      "execution_count": 24,
      "outputs": [
        {
          "output_type": "stream",
          "name": "stdout",
          "text": [
            "true\n"
          ]
        }
      ]
    },
    {
      "cell_type": "code",
      "metadata": {
        "id": "X6B0lKOOqA6f",
        "colab": {
          "base_uri": "https://localhost:8080/"
        },
        "outputId": "4c100a40-d0a1-44ef-8e88-a4729abd16be"
      },
      "source": [
        "console.log(3 < 2)"
      ],
      "execution_count": 25,
      "outputs": [
        {
          "output_type": "stream",
          "name": "stdout",
          "text": [
            "false\n"
          ]
        }
      ]
    },
    {
      "cell_type": "markdown",
      "metadata": {
        "id": "XWzHMhg4qQAo"
      },
      "source": [
        "Strings can be compared in the same way"
      ]
    },
    {
      "cell_type": "code",
      "metadata": {
        "id": "Wp4R7AyyqTgA",
        "colab": {
          "base_uri": "https://localhost:8080/"
        },
        "outputId": "3d945c9d-74c7-46d7-c130-d12a6aa5633b"
      },
      "source": [
        "console.log(\"Aardvark\" < \"Zoroaster\")"
      ],
      "execution_count": 26,
      "outputs": [
        {
          "output_type": "stream",
          "name": "stdout",
          "text": [
            "true\n"
          ]
        }
      ]
    },
    {
      "cell_type": "markdown",
      "metadata": {
        "id": "SYote2acqdMv"
      },
      "source": [
        "**Uppercase letters are always “less” than lowercase ones,** so \"Z\" < \"a\", and nonalphabetic characters (!, -, and so on) are also included in the ordering\n",
        "\n",
        "When comparing strings, JavaScript goes over the characters from left to right, comparing the Unicode codes one by one\n",
        "\n",
        "Other similar operators are **>= (greater than or equal to), <= (less than or equal to), == (equal to), and != (not equal to)**"
      ]
    },
    {
      "cell_type": "code",
      "metadata": {
        "id": "U6Y_Krhbq-WP",
        "colab": {
          "base_uri": "https://localhost:8080/"
        },
        "outputId": "d8c6097f-b256-4d0f-cc4a-bd127f75706b"
      },
      "source": [
        "console.log(\"Itchy\" != \"Scratchy\")"
      ],
      "execution_count": 27,
      "outputs": [
        {
          "output_type": "stream",
          "name": "stdout",
          "text": [
            "true\n"
          ]
        }
      ]
    },
    {
      "cell_type": "code",
      "metadata": {
        "id": "5w2kRWoVrCsI",
        "colab": {
          "base_uri": "https://localhost:8080/"
        },
        "outputId": "318547bd-0856-4641-b0aa-53928b7da05c"
      },
      "source": [
        "console.log(\"Apple\" == \"Orange\")"
      ],
      "execution_count": 28,
      "outputs": [
        {
          "output_type": "stream",
          "name": "stdout",
          "text": [
            "false\n"
          ]
        }
      ]
    },
    {
      "cell_type": "markdown",
      "metadata": {
        "id": "e2Ge84DArGQI"
      },
      "source": [
        "There is only one value in JavaScript that is not equal to itself, and that is NaN (“not a number”)"
      ]
    },
    {
      "cell_type": "code",
      "metadata": {
        "id": "iU6ctTT4rKGJ",
        "colab": {
          "base_uri": "https://localhost:8080/"
        },
        "outputId": "fe8bfed9-d037-4785-d72f-23d75be0c0a0"
      },
      "source": [
        "console.log(NaN == NaN)"
      ],
      "execution_count": 29,
      "outputs": [
        {
          "output_type": "stream",
          "name": "stdout",
          "text": [
            "false\n"
          ]
        }
      ]
    },
    {
      "cell_type": "markdown",
      "metadata": {
        "id": "ZatVWyD_rO_O"
      },
      "source": [
        "NaN is supposed to denote the result of a nonsensical computation, and as such, it isn’t equal to the result of any other nonsensical computations"
      ]
    },
    {
      "cell_type": "markdown",
      "metadata": {
        "id": "zqRop2PLrPnu"
      },
      "source": [
        "## Logical operators"
      ]
    },
    {
      "cell_type": "markdown",
      "metadata": {
        "id": "6LvcXdAVrS0V"
      },
      "source": [
        "JavaScript supports three logical operators: and, or, and not. These can be used to “reason” about Booleans\n",
        "\n",
        "**The && operator represents logical and**"
      ]
    },
    {
      "cell_type": "code",
      "metadata": {
        "id": "PvFN53lure7G",
        "colab": {
          "base_uri": "https://localhost:8080/"
        },
        "outputId": "780201a3-471c-4f33-f9a3-bf82d28514d5"
      },
      "source": [
        "console.log(true && false)"
      ],
      "execution_count": 30,
      "outputs": [
        {
          "output_type": "stream",
          "name": "stdout",
          "text": [
            "false\n"
          ]
        }
      ]
    },
    {
      "cell_type": "code",
      "metadata": {
        "id": "6RtMe-lXrhvH",
        "colab": {
          "base_uri": "https://localhost:8080/"
        },
        "outputId": "a7aef731-7568-40b7-ec2d-9fb847dda259"
      },
      "source": [
        "console.log(true && true)"
      ],
      "execution_count": 31,
      "outputs": [
        {
          "output_type": "stream",
          "name": "stdout",
          "text": [
            "true\n"
          ]
        }
      ]
    },
    {
      "cell_type": "markdown",
      "metadata": {
        "id": "I-_tOuFNrlUm"
      },
      "source": [
        "The || operator denotes logical or"
      ]
    },
    {
      "cell_type": "code",
      "metadata": {
        "id": "g-0IVq9Prk0G",
        "colab": {
          "base_uri": "https://localhost:8080/"
        },
        "outputId": "c0bddb15-6aaf-4fbb-b914-fecb9e729101"
      },
      "source": [
        "console.log(false || true)"
      ],
      "execution_count": 32,
      "outputs": [
        {
          "output_type": "stream",
          "name": "stdout",
          "text": [
            "true\n"
          ]
        }
      ]
    },
    {
      "cell_type": "code",
      "metadata": {
        "id": "CXhqgACWr0cl",
        "colab": {
          "base_uri": "https://localhost:8080/"
        },
        "outputId": "c8db651b-1db8-4fad-a36b-225cf8a810b2"
      },
      "source": [
        "console.log(false || false)"
      ],
      "execution_count": 33,
      "outputs": [
        {
          "output_type": "stream",
          "name": "stdout",
          "text": [
            "false\n"
          ]
        }
      ]
    },
    {
      "cell_type": "markdown",
      "metadata": {
        "id": "44UVl7DAr5L9"
      },
      "source": [
        "Not is written as an exclamation mark (!). It is a unary operator that flips the value given to it"
      ]
    },
    {
      "cell_type": "code",
      "metadata": {
        "id": "7vkIBtpGr7p9",
        "colab": {
          "base_uri": "https://localhost:8080/"
        },
        "outputId": "3a6e0586-dc8c-4d8f-9c34-919a631c6f1a"
      },
      "source": [
        "console.log(!true)"
      ],
      "execution_count": 34,
      "outputs": [
        {
          "output_type": "stream",
          "name": "stdout",
          "text": [
            "false\n"
          ]
        }
      ]
    },
    {
      "cell_type": "markdown",
      "metadata": {
        "id": "7ETfuPvysg3O"
      },
      "source": [
        "When mixing these Boolean operators with arithmetic and other operators, it is not always obvious when parentheses are needed"
      ]
    },
    {
      "cell_type": "code",
      "metadata": {
        "id": "bZ926dVusFLH",
        "colab": {
          "base_uri": "https://localhost:8080/"
        },
        "outputId": "e8ffd24b-b569-41c8-f67c-93b87d7a7faf"
      },
      "source": [
        "1 + 1 == 2 && 10 * 10 > 50"
      ],
      "execution_count": 35,
      "outputs": [
        {
          "output_type": "execute_result",
          "data": {
            "text/plain": [
              "true"
            ]
          },
          "metadata": {},
          "execution_count": 35
        }
      ]
    },
    {
      "cell_type": "markdown",
      "metadata": {
        "id": "xf8RK6NjstCH"
      },
      "source": [
        "|| has the lowest precedence, then comes &&, then the comparison operators (>, ==, and so on), and then the rest"
      ]
    },
    {
      "cell_type": "markdown",
      "metadata": {
        "id": "21RnHrQvsy4f"
      },
      "source": [
        "**Conditional operator (ternary operator)**\n",
        "\n",
        "The value on the left of the question mark “picks” which of the other two values will come out. When it is true, it chooses the middle value, and when it is false, it chooses the value on the right"
      ]
    },
    {
      "cell_type": "code",
      "metadata": {
        "id": "LblElOBetVdW",
        "colab": {
          "base_uri": "https://localhost:8080/"
        },
        "outputId": "f172c7ed-2304-47e7-c7bf-4fe73c3ca427"
      },
      "source": [
        "console.log(true ? 1 : 2);"
      ],
      "execution_count": 36,
      "outputs": [
        {
          "output_type": "stream",
          "name": "stdout",
          "text": [
            "1\n"
          ]
        }
      ]
    },
    {
      "cell_type": "code",
      "metadata": {
        "id": "iNslJVkhtYCs",
        "colab": {
          "base_uri": "https://localhost:8080/"
        },
        "outputId": "f8f8d4cd-ef9c-4769-b688-f6163aac9e6f"
      },
      "source": [
        "console.log(false ? 1 : 2);"
      ],
      "execution_count": 37,
      "outputs": [
        {
          "output_type": "stream",
          "name": "stdout",
          "text": [
            "2\n"
          ]
        }
      ]
    },
    {
      "cell_type": "markdown",
      "metadata": {
        "id": "2wsfJYZStsEu"
      },
      "source": [
        "# Empty values"
      ]
    },
    {
      "cell_type": "markdown",
      "metadata": {
        "id": "bO9arJ3gttyO"
      },
      "source": [
        "There are two special values, written **null** and **undefined**, that are used to **denote the absence of a meaningful value**. They are themselves values, but they carry no information\n",
        "\n",
        "Many operations in the language that don’t produce a meaningful value yield undefined simply because they have to yield some value\n",
        "\n",
        "The difference in meaning between undefined and null is an accident of JavaScript’s design, I recommend treating them as mostly **interchangeable**"
      ]
    },
    {
      "cell_type": "code",
      "metadata": {
        "id": "aK3tKzYatwD2",
        "colab": {
          "base_uri": "https://localhost:8080/"
        },
        "outputId": "07231ad6-022c-488a-a9e9-fc83fb519c94"
      },
      "source": [
        "null "
      ],
      "execution_count": 38,
      "outputs": [
        {
          "output_type": "execute_result",
          "data": {
            "text/plain": [
              "null"
            ]
          },
          "metadata": {},
          "execution_count": 38
        }
      ]
    },
    {
      "cell_type": "code",
      "metadata": {
        "id": "H9pSijbyugNR"
      },
      "source": [
        "undefined"
      ],
      "execution_count": 39,
      "outputs": []
    },
    {
      "cell_type": "markdown",
      "metadata": {
        "id": "w9YyUnwcujAe"
      },
      "source": [
        "# Automatic type conversion"
      ]
    },
    {
      "cell_type": "markdown",
      "metadata": {
        "id": "RpooA_GgyjFw"
      },
      "source": [
        "When an operator is applied to the “wrong” type of value, JavaScript will quietly convert that value to the type it needs, this is called **type coercion**\n",
        "\n"
      ]
    },
    {
      "cell_type": "markdown",
      "metadata": {
        "id": "4e21oVxda52d"
      },
      "source": [
        "The null in the first expression becomes 0"
      ]
    },
    {
      "cell_type": "code",
      "metadata": {
        "id": "Qtn8ENcjuo4P",
        "colab": {
          "base_uri": "https://localhost:8080/"
        },
        "outputId": "4d76b8c1-0f20-4957-cef5-2e1f933fc436"
      },
      "source": [
        "console.log(8 * null)"
      ],
      "execution_count": 40,
      "outputs": [
        {
          "output_type": "stream",
          "name": "stdout",
          "text": [
            "0\n"
          ]
        }
      ]
    },
    {
      "cell_type": "markdown",
      "metadata": {
        "id": "gf-tpXz7a89K"
      },
      "source": [
        "The \"5\" in the second expression becomes 5 (from string to number)"
      ]
    },
    {
      "cell_type": "code",
      "metadata": {
        "id": "zfXOca4Ourv2",
        "colab": {
          "base_uri": "https://localhost:8080/"
        },
        "outputId": "7bcf2aa6-b919-4a5c-897f-fda35fefc481"
      },
      "source": [
        "console.log(\"5\" - 1)"
      ],
      "execution_count": 41,
      "outputs": [
        {
          "output_type": "stream",
          "name": "stdout",
          "text": [
            "4\n"
          ]
        }
      ]
    },
    {
      "cell_type": "markdown",
      "metadata": {
        "id": "WiYXXbf8bFP0"
      },
      "source": [
        "Yet in the third expression, + tries string concatenation before numeric addition, so the 1 is converted to \"1\" **(from number to string)**"
      ]
    },
    {
      "cell_type": "code",
      "metadata": {
        "id": "Z3DwwYQ-uuO3",
        "colab": {
          "base_uri": "https://localhost:8080/"
        },
        "outputId": "193f5e33-7711-4ae4-f492-aefd1417bc4f"
      },
      "source": [
        "console.log(\"5\" + 1)"
      ],
      "execution_count": 42,
      "outputs": [
        {
          "output_type": "stream",
          "name": "stdout",
          "text": [
            "51\n"
          ]
        }
      ]
    },
    {
      "cell_type": "markdown",
      "metadata": {
        "id": "Pp_hea7hbLvZ"
      },
      "source": [
        "When something that doesn’t map to a number in an obvious way (such as \"five\" or undefined) is converted to a number, you get the value NaN"
      ]
    },
    {
      "cell_type": "code",
      "metadata": {
        "id": "YZakGxezuyeH",
        "colab": {
          "base_uri": "https://localhost:8080/"
        },
        "outputId": "a8a69645-0d1f-459e-ecfb-457edb5883d3"
      },
      "source": [
        "console.log(\"five\" * 2)"
      ],
      "execution_count": 43,
      "outputs": [
        {
          "output_type": "stream",
          "name": "stdout",
          "text": [
            "NaN\n"
          ]
        }
      ]
    },
    {
      "cell_type": "markdown",
      "metadata": {
        "id": "jVAJ44L4ba2m"
      },
      "source": [
        "When comparing values of the same type using ==,  you should get true when both values are the same, except in the case of NaN"
      ]
    },
    {
      "cell_type": "code",
      "metadata": {
        "id": "WB9VOI3qu0UF",
        "colab": {
          "base_uri": "https://localhost:8080/"
        },
        "outputId": "8c27e4ce-ef8b-411f-8b8d-a1945c950f2e"
      },
      "source": [
        "console.log(false == 0)"
      ],
      "execution_count": 44,
      "outputs": [
        {
          "output_type": "stream",
          "name": "stdout",
          "text": [
            "true\n"
          ]
        }
      ]
    },
    {
      "cell_type": "markdown",
      "metadata": {
        "id": "DpE4TgV5y7Gm"
      },
      "source": [
        "But when the types differ, JavaScript tries to convert one of the values to the other value’s type\n",
        "\n",
        "However, when null or undefined occurs on either side of the operator, it produces true only if both sides are one of null or undefined\n",
        "\n"
      ]
    },
    {
      "cell_type": "code",
      "metadata": {
        "id": "7Vc8NQnKbrXQ",
        "colab": {
          "base_uri": "https://localhost:8080/"
        },
        "outputId": "0637c3d7-3655-4cbb-fab7-4e3009bae527"
      },
      "source": [
        "console.log(null == undefined)"
      ],
      "execution_count": 45,
      "outputs": [
        {
          "output_type": "stream",
          "name": "stdout",
          "text": [
            "true\n"
          ]
        }
      ]
    },
    {
      "cell_type": "code",
      "metadata": {
        "id": "brSKPzwxbuyQ",
        "colab": {
          "base_uri": "https://localhost:8080/"
        },
        "outputId": "1c4c5d48-ad67-4075-e147-128e635e3cb3"
      },
      "source": [
        "console.log(null == 0)"
      ],
      "execution_count": 46,
      "outputs": [
        {
          "output_type": "stream",
          "name": "stdout",
          "text": [
            "false\n"
          ]
        }
      ]
    },
    {
      "cell_type": "markdown",
      "metadata": {
        "id": "tc7yQAeYdTTu"
      },
      "source": [
        "When you want to test whether a value has a real value instead of null or undefined, you can compare it to null with the == (or !=) operator\n",
        "\n",
        "But what if you want to test whether something refers to the precise value false? Expressions like 0 == false and \"\" == false are also true because of automatic type conversion\n",
        "\n",
        "**When you do not want any type conversions to happen,** there are two additional operators: **===** and **!==**\n",
        "\n",
        "The first tests whether a value is precisely equal to the other, and the second tests whether it is not precisely equal. So \"\" === false is false as expected"
      ]
    },
    {
      "cell_type": "markdown",
      "metadata": {
        "id": "HIDMmIoPd5aT"
      },
      "source": [
        "## Short-circuiting of logical operators"
      ]
    },
    {
      "cell_type": "markdown",
      "metadata": {
        "id": "PnUgub18d8IB"
      },
      "source": [
        "The logical operators && and || handle values of different types in a peculiar way\n",
        "\n",
        "They will convert the value on their **left side to Boolean** type in order to decide what to do, but depending on the operator and the result of that conversion, they will **return either the original left-hand value or the right-hand value**\n",
        "\n",
        "The || operator, for example, will return the value to its left when that can be converted to true and will return the value on its right otherwise"
      ]
    },
    {
      "cell_type": "code",
      "metadata": {
        "id": "HalmIKLZgXDH",
        "colab": {
          "base_uri": "https://localhost:8080/"
        },
        "outputId": "6c794ba8-5655-4d76-fcb6-ff2d9813c864"
      },
      "source": [
        "console.log(null || \"user\")"
      ],
      "execution_count": 47,
      "outputs": [
        {
          "output_type": "stream",
          "name": "stdout",
          "text": [
            "user\n"
          ]
        }
      ]
    },
    {
      "cell_type": "code",
      "metadata": {
        "id": "Iz0L64V8gZgm",
        "colab": {
          "base_uri": "https://localhost:8080/"
        },
        "outputId": "f82ee3d5-3db3-418e-990c-bb242b09dc72"
      },
      "source": [
        "console.log(\"Agnes\" || \"user\")"
      ],
      "execution_count": 48,
      "outputs": [
        {
          "output_type": "stream",
          "name": "stdout",
          "text": [
            "Agnes\n"
          ]
        }
      ]
    },
    {
      "cell_type": "markdown",
      "metadata": {
        "id": "DLX2w2s7pp0y"
      },
      "source": [
        "We can use this functionality as a way to fall back on a default value. **If you have a value that might be empty, you can put || after it with a replacement value.** If the initial value can be converted to false, you’ll get the replacement instead\n",
        "\n",
        "The rules for converting strings and numbers to Boolean values state that **0, NaN, and the empty string (\"\") count as false,** while all the other values count as true\n",
        "\n",
        "So 0 || -1 produces -1, and \"\" || \"!?\" yields \"!?\"\n",
        "\n",
        "The && operator works similarly but the other way around\n",
        "\n",
        "**When the value to its left is something that converts to false, it returns that value, and otherwise it returns the value on its right**"
      ]
    },
    {
      "cell_type": "code",
      "metadata": {
        "id": "KFQ11-4fqLCG",
        "colab": {
          "base_uri": "https://localhost:8080/"
        },
        "outputId": "df00349c-8f92-4c89-8f6c-1e1b1d199192"
      },
      "source": [
        "console.log(null && \"user\")"
      ],
      "execution_count": 49,
      "outputs": [
        {
          "output_type": "stream",
          "name": "stdout",
          "text": [
            "null\n"
          ]
        }
      ]
    },
    {
      "cell_type": "markdown",
      "metadata": {
        "id": "2ZTC7ohiqiJy"
      },
      "source": [
        "Another important property of these two operators is that **the part to their right is evaluated only when necessary**\n",
        "\n",
        "In the case of true || X, no matter what X is, the result will be true, and X is never evaluated. The same goes for false && X, which is false and will ignore X. This is called short-circuit evaluation"
      ]
    }
  ]
}