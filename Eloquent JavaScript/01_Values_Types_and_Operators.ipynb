{
  "nbformat": 4,
  "nbformat_minor": 0,
  "metadata": {
    "colab": {
      "name": "01.Values Types and Operators.ipynb",
      "provenance": [],
      "collapsed_sections": []
    },
    "kernelspec": {
      "display_name": "Javascript",
      "name": "javascript"
    }
  },
  "cells": [
    {
      "cell_type": "code",
      "metadata": {
        "id": "ZVkF16NwcMsZ"
      },
      "source": [
        "#/* run this once, then reload, and then skip this\n",
        "#!npm install -g --unsafe-perm ijavascript\n",
        "#!ijsinstall --install=global  # as fake comment */"
      ],
      "execution_count": null,
      "outputs": []
    },
    {
      "cell_type": "code",
      "metadata": {
        "id": "skqAs_UHc8_P"
      },
      "source": [
        "// need this for running shell command\n",
        "var { spawn } = require('child_process');\n",
        "var sh = (cmd) => { \n",
        "    $$.async();\n",
        "    var sp = spawn(cmd, { cwd: process.cwd(), stdio: 'pipe', shell: true, encoding: 'utf-8' });\n",
        "    sp.stdout.on('data', data => console.log(data.toString()));\n",
        "    sp.stderr.on('data', data => console.error(data.toString()));\n",
        "    sp.on('close', () => $$.done());\n",
        "};\n",
        "sh('npm init -y');"
      ],
      "execution_count": null,
      "outputs": []
    },
    {
      "cell_type": "markdown",
      "metadata": {
        "id": "vk2-YfWOhB2m"
      },
      "source": [
        "# Numbers"
      ]
    },
    {
      "cell_type": "markdown",
      "metadata": {
        "id": "wnb-FbavhDMG"
      },
      "source": [
        "Values of the number type are, unsurprisingly, numeric values. In a JavaScript program, they are written as follows:"
      ]
    },
    {
      "cell_type": "code",
      "metadata": {
        "colab": {
          "base_uri": "https://localhost:8080/"
        },
        "id": "dMh2LcTShItG",
        "outputId": "96825e24-01f9-486c-9511-78f66fc1472c"
      },
      "source": [
        "13"
      ],
      "execution_count": null,
      "outputs": [
        {
          "output_type": "execute_result",
          "data": {
            "text/plain": [
              "13"
            ]
          },
          "metadata": {},
          "execution_count": 219
        }
      ]
    },
    {
      "cell_type": "markdown",
      "metadata": {
        "id": "gQ4la1aEhRRe"
      },
      "source": [
        "Fractional numbers are written by using a dot"
      ]
    },
    {
      "cell_type": "code",
      "metadata": {
        "colab": {
          "base_uri": "https://localhost:8080/"
        },
        "id": "uqenm2zhhubm",
        "outputId": "e2840cff-d3c5-4292-c544-bf95384900d2"
      },
      "source": [
        "9.81"
      ],
      "execution_count": null,
      "outputs": [
        {
          "output_type": "execute_result",
          "data": {
            "text/plain": [
              "9.81"
            ]
          },
          "metadata": {},
          "execution_count": 220
        }
      ]
    },
    {
      "cell_type": "markdown",
      "metadata": {
        "id": "najEPz4dh2_m"
      },
      "source": [
        "For very big or very small numbers, you may also use scientific notation by adding an e (for exponent), followed by the exponent of the number"
      ]
    },
    {
      "cell_type": "code",
      "metadata": {
        "colab": {
          "base_uri": "https://localhost:8080/"
        },
        "id": "CICE7gRyh5dX",
        "outputId": "c1ceb2a2-89a4-41a0-fecb-bc8825a6a36a"
      },
      "source": [
        "2.998e8"
      ],
      "execution_count": null,
      "outputs": [
        {
          "output_type": "execute_result",
          "data": {
            "text/plain": [
              "299800000"
            ]
          },
          "metadata": {},
          "execution_count": 221
        }
      ]
    },
    {
      "cell_type": "markdown",
      "metadata": {
        "id": "BN0OBpIViGJG"
      },
      "source": [
        "## Arithmetic"
      ]
    },
    {
      "cell_type": "markdown",
      "metadata": {
        "id": "7qefiVACiJM-"
      },
      "source": [
        "Arithmetic operations such as addition or multiplication take two number values and produce a new number from them. Here is what they look like in JavaScript:"
      ]
    },
    {
      "cell_type": "code",
      "metadata": {
        "colab": {
          "base_uri": "https://localhost:8080/"
        },
        "id": "2jVsIqS3iMjO",
        "outputId": "f0ec0896-c62b-4011-a48a-c4867a0f1265"
      },
      "source": [
        "100 + 4 * 11"
      ],
      "execution_count": null,
      "outputs": [
        {
          "output_type": "execute_result",
          "data": {
            "text/plain": [
              "144"
            ]
          },
          "metadata": {},
          "execution_count": 222
        }
      ]
    },
    {
      "cell_type": "code",
      "metadata": {
        "colab": {
          "base_uri": "https://localhost:8080/"
        },
        "id": "rQiCuTNGictG",
        "outputId": "217c648e-9a41-472c-de94-68f510075528"
      },
      "source": [
        "(100 + 4) * 11"
      ],
      "execution_count": null,
      "outputs": [
        {
          "output_type": "execute_result",
          "data": {
            "text/plain": [
              "1144"
            ]
          },
          "metadata": {},
          "execution_count": 223
        }
      ]
    },
    {
      "cell_type": "markdown",
      "metadata": {
        "id": "3Nc57RgtiW2l"
      },
      "source": [
        "The % symbol is used to represent the remainder operation (modulo)"
      ]
    },
    {
      "cell_type": "code",
      "metadata": {
        "colab": {
          "base_uri": "https://localhost:8080/"
        },
        "id": "KQMAMq9tip9G",
        "outputId": "93d978d6-7599-4359-f5f3-99392da2fa93"
      },
      "source": [
        "314 % 100"
      ],
      "execution_count": null,
      "outputs": [
        {
          "output_type": "execute_result",
          "data": {
            "text/plain": [
              "14"
            ]
          },
          "metadata": {},
          "execution_count": 224
        }
      ]
    },
    {
      "cell_type": "markdown",
      "metadata": {
        "id": "l3rmMyQMixm-"
      },
      "source": [
        "## Special numbers"
      ]
    },
    {
      "cell_type": "markdown",
      "metadata": {
        "id": "ySXgaQGxizon"
      },
      "source": [
        "There are three special values in JavaScript that are considered numbers but don’t behave like normal numbers\n",
        "\n",
        "The first two are **Infinity and -Infinity**, which represent the positive and negative infinities\n",
        "\n",
        "Infinity - 1 is still Infinity"
      ]
    },
    {
      "cell_type": "code",
      "metadata": {
        "colab": {
          "base_uri": "https://localhost:8080/"
        },
        "id": "Dsn1bJlSi7eG",
        "outputId": "b735d8c9-751a-4906-fa93-8d1c10c17706"
      },
      "source": [
        "Infinity - 1"
      ],
      "execution_count": null,
      "outputs": [
        {
          "output_type": "execute_result",
          "data": {
            "text/plain": [
              "Infinity"
            ]
          },
          "metadata": {},
          "execution_count": 225
        }
      ]
    },
    {
      "cell_type": "markdown",
      "metadata": {
        "id": "PO5i92c7i6RO"
      },
      "source": [
        "NaN stands for “not a number”\n",
        "\n",
        "You’ll get this result when you, for example, try to calculate 0 / 0 (zero divided by zero), Infinity - Infinity, or any number of other numeric operations that don’t yield a meaningful result\n"
      ]
    },
    {
      "cell_type": "code",
      "metadata": {
        "colab": {
          "base_uri": "https://localhost:8080/"
        },
        "id": "m08AaGP_jyGu",
        "outputId": "5fb53cad-50c7-43b6-aaee-16e5bb9f0fef"
      },
      "source": [
        "0 / 0"
      ],
      "execution_count": null,
      "outputs": [
        {
          "output_type": "execute_result",
          "data": {
            "text/plain": [
              "NaN"
            ]
          },
          "metadata": {},
          "execution_count": 226
        }
      ]
    },
    {
      "cell_type": "code",
      "metadata": {
        "colab": {
          "base_uri": "https://localhost:8080/"
        },
        "id": "eVTDmJP9jy97",
        "outputId": "0f3a4eec-e3c0-45b0-9308-89964b4e2330"
      },
      "source": [
        "Infinity - Infinity"
      ],
      "execution_count": null,
      "outputs": [
        {
          "output_type": "execute_result",
          "data": {
            "text/plain": [
              "NaN"
            ]
          },
          "metadata": {},
          "execution_count": 227
        }
      ]
    },
    {
      "cell_type": "markdown",
      "metadata": {
        "id": "LOWCJz-mkSxP"
      },
      "source": [
        "# Strings"
      ]
    },
    {
      "cell_type": "markdown",
      "metadata": {
        "id": "3_VU0xfYkX3N"
      },
      "source": [
        "Strings are used to represent text. They are written by enclosing their content in quotes\n",
        "\n",
        "You can use single quotes, double quotes, or backticks to mark strings"
      ]
    },
    {
      "cell_type": "code",
      "metadata": {
        "colab": {
          "base_uri": "https://localhost:8080/"
        },
        "id": "UtxnxTf7ke0N",
        "outputId": "49cce89e-b8bc-41f7-fb18-4fb9dbd4891c"
      },
      "source": [
        "`Down on the sea`"
      ],
      "execution_count": null,
      "outputs": [
        {
          "output_type": "execute_result",
          "data": {
            "text/plain": [
              "'Down on the sea'"
            ]
          },
          "metadata": {},
          "execution_count": 228
        }
      ]
    },
    {
      "cell_type": "code",
      "metadata": {
        "colab": {
          "base_uri": "https://localhost:8080/"
        },
        "id": "aQCf9kCDkh-9",
        "outputId": "476e1a8a-49d4-48de-c27f-675f848fe968"
      },
      "source": [
        "\"Lie on the ocean\""
      ],
      "execution_count": null,
      "outputs": [
        {
          "output_type": "execute_result",
          "data": {
            "text/plain": [
              "'Lie on the ocean'"
            ]
          },
          "metadata": {},
          "execution_count": 229
        }
      ]
    },
    {
      "cell_type": "code",
      "metadata": {
        "colab": {
          "base_uri": "https://localhost:8080/"
        },
        "id": "ooXFog6Hkjbd",
        "outputId": "a86f856b-9f76-48dd-b3d6-a8e5e1e78809"
      },
      "source": [
        "'Float on the ocean'"
      ],
      "execution_count": null,
      "outputs": [
        {
          "output_type": "execute_result",
          "data": {
            "text/plain": [
              "'Float on the ocean'"
            ]
          },
          "metadata": {},
          "execution_count": 230
        }
      ]
    },
    {
      "cell_type": "markdown",
      "metadata": {
        "id": "ACXz4cZim6Xn"
      },
      "source": [
        "Whenever a backslash (\\) is found inside quoted text, it indicates that the character after it has a special meaning. This is called escaping the character\n",
        "\n",
        "A quote that is preceded by a backslash will not end the string but be part of it"
      ]
    },
    {
      "cell_type": "code",
      "metadata": {
        "colab": {
          "base_uri": "https://localhost:8080/"
        },
        "id": "pHEn4KOrnCWe",
        "outputId": "ef43314a-9a07-4414-b8cf-fcff8fc084f3"
      },
      "source": [
        "console.log(\"This is the first line\\nAnd this is the second\")"
      ],
      "execution_count": null,
      "outputs": [
        {
          "output_type": "stream",
          "name": "stdout",
          "text": [
            "This is the first line\n",
            "And this is the second\n"
          ]
        }
      ]
    },
    {
      "cell_type": "code",
      "metadata": {
        "colab": {
          "base_uri": "https://localhost:8080/"
        },
        "id": "2fdKdgqZnSJX",
        "outputId": "1c8f24b4-224f-4423-de83-c2c4cb888cf7"
      },
      "source": [
        "console.log(\"A newline character is written like \\\"\\\\n\\\".\")"
      ],
      "execution_count": null,
      "outputs": [
        {
          "output_type": "stream",
          "name": "stdout",
          "text": [
            "A newline character is written like \"\\n\".\n"
          ]
        }
      ]
    },
    {
      "cell_type": "markdown",
      "metadata": {
        "id": "no8LmaW0nY1g"
      },
      "source": [
        "The following line will produce the string \"concatenate\":"
      ]
    },
    {
      "cell_type": "code",
      "metadata": {
        "colab": {
          "base_uri": "https://localhost:8080/"
        },
        "id": "t8yN-EgencOe",
        "outputId": "07d51adc-2d54-4a90-978c-01be673a0e12"
      },
      "source": [
        "\"con\" + \"cat\" + \"e\" + \"nate\""
      ],
      "execution_count": null,
      "outputs": [
        {
          "output_type": "execute_result",
          "data": {
            "text/plain": [
              "'concatenate'"
            ]
          },
          "metadata": {},
          "execution_count": 233
        }
      ]
    },
    {
      "cell_type": "markdown",
      "metadata": {
        "id": "LSpXgiXVniq-"
      },
      "source": [
        "**Backtick-quoted strings, usually called template literals,** can do a few more tricks\n",
        "\n",
        "When you write something inside **${} in a template literal, its result will be computed,** converted to a string, and included at that position"
      ]
    },
    {
      "cell_type": "code",
      "metadata": {
        "colab": {
          "base_uri": "https://localhost:8080/"
        },
        "id": "TiuYGGCUn5Re",
        "outputId": "a90cd84c-6d06-41a8-fd1e-31b99664486b"
      },
      "source": [
        "`half of 100 is ${100 / 2}`"
      ],
      "execution_count": null,
      "outputs": [
        {
          "output_type": "execute_result",
          "data": {
            "text/plain": [
              "'half of 100 is 50'"
            ]
          },
          "metadata": {},
          "execution_count": 234
        }
      ]
    },
    {
      "cell_type": "markdown",
      "metadata": {
        "id": "jdBxHgPKn8zG"
      },
      "source": [
        "# Unary operators"
      ]
    },
    {
      "cell_type": "markdown",
      "metadata": {
        "id": "4bgRAK2Un-u9"
      },
      "source": [
        "Operators that use two values are called binary operators, while those that take one are called unary operators\n",
        "\n",
        "typeof operator: produces a string value naming the type of the value you give it"
      ]
    },
    {
      "cell_type": "code",
      "metadata": {
        "colab": {
          "base_uri": "https://localhost:8080/"
        },
        "id": "WekPs_KxohKO",
        "outputId": "b38b093b-7415-4957-9c67-0708e5f5e54b"
      },
      "source": [
        "console.log(typeof 4.5)"
      ],
      "execution_count": null,
      "outputs": [
        {
          "output_type": "stream",
          "name": "stdout",
          "text": [
            "number\n"
          ]
        }
      ]
    },
    {
      "cell_type": "code",
      "metadata": {
        "colab": {
          "base_uri": "https://localhost:8080/"
        },
        "id": "1l6h9R2PojyM",
        "outputId": "5dbdc469-fbc6-437a-9bc1-303ab0202a89"
      },
      "source": [
        "console.log(typeof \"x\")"
      ],
      "execution_count": null,
      "outputs": [
        {
          "output_type": "stream",
          "name": "stdout",
          "text": [
            "string\n"
          ]
        }
      ]
    },
    {
      "cell_type": "markdown",
      "metadata": {
        "id": "0VTA1w7_o3i1"
      },
      "source": [
        "# Boolean values"
      ]
    },
    {
      "cell_type": "markdown",
      "metadata": {
        "id": "Por6RFfkp2R2"
      },
      "source": [
        "JavaScript has a Boolean type, which has just two values, true and false"
      ]
    },
    {
      "cell_type": "markdown",
      "metadata": {
        "id": "3MvCIGn1qLo1"
      },
      "source": [
        "## Comparison"
      ]
    },
    {
      "cell_type": "markdown",
      "metadata": {
        "id": "tvZk2RM1qNjg"
      },
      "source": [
        "Here is one way to produce Boolean values:"
      ]
    },
    {
      "cell_type": "code",
      "metadata": {
        "colab": {
          "base_uri": "https://localhost:8080/"
        },
        "id": "42NY6ANFp9CW",
        "outputId": "cd02c958-c8d6-4058-98bd-1f07ef782f2a"
      },
      "source": [
        "console.log(3 > 2)"
      ],
      "execution_count": null,
      "outputs": [
        {
          "output_type": "stream",
          "name": "stdout",
          "text": [
            "true\n"
          ]
        }
      ]
    },
    {
      "cell_type": "code",
      "metadata": {
        "colab": {
          "base_uri": "https://localhost:8080/"
        },
        "id": "X6B0lKOOqA6f",
        "outputId": "bb8d7ec9-de12-4082-9009-f211e6554fbf"
      },
      "source": [
        "console.log(3 < 2)"
      ],
      "execution_count": null,
      "outputs": [
        {
          "output_type": "stream",
          "name": "stdout",
          "text": [
            "false\n"
          ]
        }
      ]
    },
    {
      "cell_type": "markdown",
      "metadata": {
        "id": "XWzHMhg4qQAo"
      },
      "source": [
        "Strings can be compared in the same way"
      ]
    },
    {
      "cell_type": "code",
      "metadata": {
        "colab": {
          "base_uri": "https://localhost:8080/"
        },
        "id": "Wp4R7AyyqTgA",
        "outputId": "f495d42f-c886-4e15-8772-c2f24211b1b4"
      },
      "source": [
        "console.log(\"Aardvark\" < \"Zoroaster\")"
      ],
      "execution_count": null,
      "outputs": [
        {
          "output_type": "stream",
          "name": "stdout",
          "text": [
            "true\n"
          ]
        }
      ]
    },
    {
      "cell_type": "markdown",
      "metadata": {
        "id": "SYote2acqdMv"
      },
      "source": [
        "**Uppercase letters are always “less” than lowercase ones,** so \"Z\" < \"a\", and nonalphabetic characters (!, -, and so on) are also included in the ordering\n",
        "\n",
        "When comparing strings, JavaScript goes over the characters from left to right, comparing the Unicode codes one by one\n",
        "\n",
        "Other similar operators are **>= (greater than or equal to), <= (less than or equal to), == (equal to), and != (not equal to)**"
      ]
    },
    {
      "cell_type": "code",
      "metadata": {
        "colab": {
          "base_uri": "https://localhost:8080/"
        },
        "id": "U6Y_Krhbq-WP",
        "outputId": "5f494629-f9ea-478c-d4fc-e9771baa92a1"
      },
      "source": [
        "console.log(\"Itchy\" != \"Scratchy\")"
      ],
      "execution_count": null,
      "outputs": [
        {
          "output_type": "stream",
          "name": "stdout",
          "text": [
            "true\n"
          ]
        }
      ]
    },
    {
      "cell_type": "code",
      "metadata": {
        "colab": {
          "base_uri": "https://localhost:8080/"
        },
        "id": "5w2kRWoVrCsI",
        "outputId": "c1c2cf6d-a2a8-4c39-a441-a30d326beeb3"
      },
      "source": [
        "console.log(\"Apple\" == \"Orange\")"
      ],
      "execution_count": null,
      "outputs": [
        {
          "output_type": "stream",
          "name": "stdout",
          "text": [
            "false\n"
          ]
        }
      ]
    },
    {
      "cell_type": "markdown",
      "metadata": {
        "id": "e2Ge84DArGQI"
      },
      "source": [
        "There is only one value in JavaScript that is not equal to itself, and that is NaN (“not a number”)"
      ]
    },
    {
      "cell_type": "code",
      "metadata": {
        "colab": {
          "base_uri": "https://localhost:8080/"
        },
        "id": "iU6ctTT4rKGJ",
        "outputId": "f5c8a8bb-8a51-40b6-beea-ec832bae1cf7"
      },
      "source": [
        "console.log(NaN == NaN)"
      ],
      "execution_count": null,
      "outputs": [
        {
          "output_type": "stream",
          "name": "stdout",
          "text": [
            "false\n"
          ]
        }
      ]
    },
    {
      "cell_type": "markdown",
      "metadata": {
        "id": "ZatVWyD_rO_O"
      },
      "source": [
        "NaN is supposed to denote the result of a nonsensical computation, and as such, it isn’t equal to the result of any other nonsensical computations"
      ]
    },
    {
      "cell_type": "markdown",
      "metadata": {
        "id": "zqRop2PLrPnu"
      },
      "source": [
        "## Logical operators"
      ]
    },
    {
      "cell_type": "markdown",
      "metadata": {
        "id": "6LvcXdAVrS0V"
      },
      "source": [
        "JavaScript supports three logical operators: and, or, and not. These can be used to “reason” about Booleans\n",
        "\n",
        "**The && operator represents logical and**"
      ]
    },
    {
      "cell_type": "code",
      "metadata": {
        "colab": {
          "base_uri": "https://localhost:8080/"
        },
        "id": "PvFN53lure7G",
        "outputId": "c186f7ab-644a-4e8f-8c27-396dfd686311"
      },
      "source": [
        "console.log(true && false)"
      ],
      "execution_count": null,
      "outputs": [
        {
          "output_type": "stream",
          "name": "stdout",
          "text": [
            "false\n"
          ]
        }
      ]
    },
    {
      "cell_type": "code",
      "metadata": {
        "colab": {
          "base_uri": "https://localhost:8080/"
        },
        "id": "6RtMe-lXrhvH",
        "outputId": "26f459c4-f5ca-4d10-f2a8-243eb3f1aad0"
      },
      "source": [
        "console.log(true && true)"
      ],
      "execution_count": null,
      "outputs": [
        {
          "output_type": "stream",
          "name": "stdout",
          "text": [
            "true\n"
          ]
        }
      ]
    },
    {
      "cell_type": "markdown",
      "metadata": {
        "id": "I-_tOuFNrlUm"
      },
      "source": [
        "The || operator denotes logical or"
      ]
    },
    {
      "cell_type": "code",
      "metadata": {
        "colab": {
          "base_uri": "https://localhost:8080/"
        },
        "id": "g-0IVq9Prk0G",
        "outputId": "8c08821d-84be-47b2-8fb7-21e2bf7caf6b"
      },
      "source": [
        "console.log(false || true)"
      ],
      "execution_count": null,
      "outputs": [
        {
          "output_type": "stream",
          "name": "stdout",
          "text": [
            "true\n"
          ]
        }
      ]
    },
    {
      "cell_type": "code",
      "metadata": {
        "colab": {
          "base_uri": "https://localhost:8080/"
        },
        "id": "CXhqgACWr0cl",
        "outputId": "deee6888-f296-443d-d474-424bfd389ce7"
      },
      "source": [
        "console.log(false || false)"
      ],
      "execution_count": null,
      "outputs": [
        {
          "output_type": "stream",
          "name": "stdout",
          "text": [
            "false\n"
          ]
        }
      ]
    },
    {
      "cell_type": "markdown",
      "metadata": {
        "id": "44UVl7DAr5L9"
      },
      "source": [
        "Not is written as an exclamation mark (!). It is a unary operator that flips the value given to it"
      ]
    },
    {
      "cell_type": "code",
      "metadata": {
        "colab": {
          "base_uri": "https://localhost:8080/"
        },
        "id": "7vkIBtpGr7p9",
        "outputId": "df694bec-baa4-4a37-b68f-f2bec9f20836"
      },
      "source": [
        "console.log(!true)"
      ],
      "execution_count": null,
      "outputs": [
        {
          "output_type": "stream",
          "name": "stdout",
          "text": [
            "false\n"
          ]
        }
      ]
    },
    {
      "cell_type": "markdown",
      "metadata": {
        "id": "7ETfuPvysg3O"
      },
      "source": [
        "When mixing these Boolean operators with arithmetic and other operators, it is not always obvious when parentheses are needed"
      ]
    },
    {
      "cell_type": "code",
      "metadata": {
        "colab": {
          "base_uri": "https://localhost:8080/"
        },
        "id": "bZ926dVusFLH",
        "outputId": "cde5b241-2d11-4d69-e196-969bf701ea38"
      },
      "source": [
        "1 + 1 == 2 && 10 * 10 > 50"
      ],
      "execution_count": null,
      "outputs": [
        {
          "output_type": "execute_result",
          "data": {
            "text/plain": [
              "true"
            ]
          },
          "metadata": {},
          "execution_count": 248
        }
      ]
    },
    {
      "cell_type": "markdown",
      "metadata": {
        "id": "xf8RK6NjstCH"
      },
      "source": [
        "|| has the lowest precedence, then comes &&, then the comparison operators (>, ==, and so on), and then the rest"
      ]
    },
    {
      "cell_type": "markdown",
      "metadata": {
        "id": "21RnHrQvsy4f"
      },
      "source": [
        "**Conditional operator (ternary operator)**\n",
        "\n",
        "The value on the left of the question mark “picks” which of the other two values will come out. When it is true, it chooses the middle value, and when it is false, it chooses the value on the right"
      ]
    },
    {
      "cell_type": "code",
      "metadata": {
        "colab": {
          "base_uri": "https://localhost:8080/"
        },
        "id": "LblElOBetVdW",
        "outputId": "8c783672-315d-4b37-899e-4d41c9e7b17d"
      },
      "source": [
        "console.log(true ? 1 : 2);"
      ],
      "execution_count": null,
      "outputs": [
        {
          "output_type": "stream",
          "name": "stdout",
          "text": [
            "1\n"
          ]
        }
      ]
    },
    {
      "cell_type": "code",
      "metadata": {
        "colab": {
          "base_uri": "https://localhost:8080/"
        },
        "id": "iNslJVkhtYCs",
        "outputId": "18e24d33-1b88-4a1a-997c-30ced0e40821"
      },
      "source": [
        "console.log(false ? 1 : 2);"
      ],
      "execution_count": null,
      "outputs": [
        {
          "output_type": "stream",
          "name": "stdout",
          "text": [
            "2\n"
          ]
        }
      ]
    },
    {
      "cell_type": "markdown",
      "metadata": {
        "id": "2wsfJYZStsEu"
      },
      "source": [
        "# Empty values"
      ]
    },
    {
      "cell_type": "markdown",
      "metadata": {
        "id": "bO9arJ3gttyO"
      },
      "source": [
        "There are two special values, written **null** and **undefined**, that are used to **denote the absence of a meaningful value**. They are themselves values, but they carry no information\n",
        "\n",
        "Many operations in the language that don’t produce a meaningful value yield undefined simply because they have to yield some value\n",
        "\n",
        "The difference in meaning between undefined and null is an accident of JavaScript’s design, I recommend treating them as mostly **interchangeable**"
      ]
    },
    {
      "cell_type": "code",
      "metadata": {
        "colab": {
          "base_uri": "https://localhost:8080/"
        },
        "id": "aK3tKzYatwD2",
        "outputId": "8d92ee51-a337-4db8-e17f-da98e16c4533"
      },
      "source": [
        "null "
      ],
      "execution_count": null,
      "outputs": [
        {
          "output_type": "execute_result",
          "data": {
            "text/plain": [
              "null"
            ]
          },
          "metadata": {},
          "execution_count": 251
        }
      ]
    },
    {
      "cell_type": "code",
      "metadata": {
        "id": "H9pSijbyugNR"
      },
      "source": [
        "undefined"
      ],
      "execution_count": null,
      "outputs": []
    },
    {
      "cell_type": "markdown",
      "metadata": {
        "id": "w9YyUnwcujAe"
      },
      "source": [
        "# Automatic type conversion"
      ]
    },
    {
      "cell_type": "markdown",
      "metadata": {
        "id": "RpooA_GgyjFw"
      },
      "source": [
        "When an operator is applied to the “wrong” type of value, JavaScript will quietly convert that value to the type it needs, this is called **type coercion**\n",
        "\n"
      ]
    },
    {
      "cell_type": "markdown",
      "metadata": {
        "id": "4e21oVxda52d"
      },
      "source": [
        "The null in the first expression becomes 0"
      ]
    },
    {
      "cell_type": "code",
      "metadata": {
        "colab": {
          "base_uri": "https://localhost:8080/"
        },
        "id": "Qtn8ENcjuo4P",
        "outputId": "f6d25d9f-749e-4235-cf22-58d6a2b41683"
      },
      "source": [
        "console.log(8 * null)"
      ],
      "execution_count": null,
      "outputs": [
        {
          "output_type": "stream",
          "name": "stdout",
          "text": [
            "0\n"
          ]
        }
      ]
    },
    {
      "cell_type": "markdown",
      "metadata": {
        "id": "gf-tpXz7a89K"
      },
      "source": [
        "The \"5\" in the second expression becomes 5 (from string to number)"
      ]
    },
    {
      "cell_type": "code",
      "metadata": {
        "colab": {
          "base_uri": "https://localhost:8080/"
        },
        "id": "zfXOca4Ourv2",
        "outputId": "de781b00-55fc-4920-dc7e-b3913b49221d"
      },
      "source": [
        "console.log(\"5\" - 1)"
      ],
      "execution_count": null,
      "outputs": [
        {
          "output_type": "stream",
          "name": "stdout",
          "text": [
            "4\n"
          ]
        }
      ]
    },
    {
      "cell_type": "markdown",
      "metadata": {
        "id": "WiYXXbf8bFP0"
      },
      "source": [
        "Yet in the third expression, + tries string concatenation before numeric addition, so the 1 is converted to \"1\" **(from number to string)**"
      ]
    },
    {
      "cell_type": "code",
      "metadata": {
        "colab": {
          "base_uri": "https://localhost:8080/"
        },
        "id": "Z3DwwYQ-uuO3",
        "outputId": "925654be-c8c5-49d4-d5ad-a30f3f5fa1aa"
      },
      "source": [
        "console.log(\"5\" + 1)"
      ],
      "execution_count": null,
      "outputs": [
        {
          "output_type": "stream",
          "name": "stdout",
          "text": [
            "51\n"
          ]
        }
      ]
    },
    {
      "cell_type": "markdown",
      "metadata": {
        "id": "Pp_hea7hbLvZ"
      },
      "source": [
        "When something that doesn’t map to a number in an obvious way (such as \"five\" or undefined) is converted to a number, you get the value NaN"
      ]
    },
    {
      "cell_type": "code",
      "metadata": {
        "colab": {
          "base_uri": "https://localhost:8080/"
        },
        "id": "YZakGxezuyeH",
        "outputId": "2974decb-7252-4668-f472-6f0461961221"
      },
      "source": [
        "console.log(\"five\" * 2)"
      ],
      "execution_count": null,
      "outputs": [
        {
          "output_type": "stream",
          "name": "stdout",
          "text": [
            "NaN\n"
          ]
        }
      ]
    },
    {
      "cell_type": "markdown",
      "metadata": {
        "id": "jVAJ44L4ba2m"
      },
      "source": [
        "When comparing values of the same type using ==,  you should get true when both values are the same, except in the case of NaN"
      ]
    },
    {
      "cell_type": "code",
      "metadata": {
        "colab": {
          "base_uri": "https://localhost:8080/"
        },
        "id": "WB9VOI3qu0UF",
        "outputId": "2f035bb1-a833-4e62-a7ce-16da0716d631"
      },
      "source": [
        "console.log(false == 0)"
      ],
      "execution_count": null,
      "outputs": [
        {
          "output_type": "stream",
          "name": "stdout",
          "text": [
            "true\n"
          ]
        }
      ]
    },
    {
      "cell_type": "markdown",
      "metadata": {
        "id": "DpE4TgV5y7Gm"
      },
      "source": [
        "But when the types differ, JavaScript tries to convert one of the values to the other value’s type\n",
        "\n",
        "However, when null or undefined occurs on either side of the operator, it produces true only if both sides are one of null or undefined\n",
        "\n"
      ]
    },
    {
      "cell_type": "code",
      "metadata": {
        "colab": {
          "base_uri": "https://localhost:8080/"
        },
        "id": "7Vc8NQnKbrXQ",
        "outputId": "93923dbc-983d-4c05-867f-e94fdbab8f7c"
      },
      "source": [
        "console.log(null == undefined)"
      ],
      "execution_count": null,
      "outputs": [
        {
          "output_type": "stream",
          "name": "stdout",
          "text": [
            "true\n"
          ]
        }
      ]
    },
    {
      "cell_type": "code",
      "metadata": {
        "colab": {
          "base_uri": "https://localhost:8080/"
        },
        "id": "brSKPzwxbuyQ",
        "outputId": "5b588721-1d1b-4908-adcf-18f7069319f6"
      },
      "source": [
        "console.log(null == 0)"
      ],
      "execution_count": null,
      "outputs": [
        {
          "output_type": "stream",
          "name": "stdout",
          "text": [
            "false\n"
          ]
        }
      ]
    },
    {
      "cell_type": "markdown",
      "metadata": {
        "id": "tc7yQAeYdTTu"
      },
      "source": [
        "When you want to test whether a value has a real value instead of null or undefined, you can compare it to null with the == (or !=) operator\n",
        "\n",
        "But what if you want to test whether something refers to the precise value false? Expressions like 0 == false and \"\" == false are also true because of automatic type conversion\n",
        "\n",
        "**When you do not want any type conversions to happen,** there are two additional operators: **===** and **!==**\n",
        "\n",
        "The first tests whether a value is precisely equal to the other, and the second tests whether it is not precisely equal. So \"\" === false is false as expected"
      ]
    },
    {
      "cell_type": "markdown",
      "metadata": {
        "id": "HIDMmIoPd5aT"
      },
      "source": [
        "## Short-circuiting of logical operators"
      ]
    },
    {
      "cell_type": "markdown",
      "metadata": {
        "id": "PnUgub18d8IB"
      },
      "source": [
        "The logical operators && and || handle values of different types in a peculiar way\n",
        "\n",
        "They will convert the value on their **left side to Boolean** type in order to decide what to do, but depending on the operator and the result of that conversion, they will **return either the original left-hand value or the right-hand value**\n",
        "\n",
        "The || operator, for example, will return the value to its left when that can be converted to true and will return the value on its right otherwise"
      ]
    },
    {
      "cell_type": "code",
      "metadata": {
        "colab": {
          "base_uri": "https://localhost:8080/"
        },
        "id": "HalmIKLZgXDH",
        "outputId": "c532cf43-998f-4fc5-f2d3-171368f8d68c"
      },
      "source": [
        "console.log(null || \"user\")"
      ],
      "execution_count": null,
      "outputs": [
        {
          "output_type": "stream",
          "name": "stdout",
          "text": [
            "user\n"
          ]
        }
      ]
    },
    {
      "cell_type": "code",
      "metadata": {
        "colab": {
          "base_uri": "https://localhost:8080/"
        },
        "id": "Iz0L64V8gZgm",
        "outputId": "0e3f32ef-205e-4b76-ba4d-1bacba3c155f"
      },
      "source": [
        "console.log(\"Agnes\" || \"user\")"
      ],
      "execution_count": null,
      "outputs": [
        {
          "output_type": "stream",
          "name": "stdout",
          "text": [
            "Agnes\n"
          ]
        }
      ]
    },
    {
      "cell_type": "markdown",
      "metadata": {
        "id": "DLX2w2s7pp0y"
      },
      "source": [
        "We can use this functionality as a way to fall back on a default value. **If you have a value that might be empty, you can put || after it with a replacement value.** If the initial value can be converted to false, you’ll get the replacement instead\n",
        "\n",
        "The rules for converting strings and numbers to Boolean values state that **0, NaN, and the empty string (\"\") count as false,** while all the other values count as true\n",
        "\n",
        "So 0 || -1 produces -1, and \"\" || \"!?\" yields \"!?\"\n",
        "\n",
        "The && operator works similarly but the other way around\n",
        "\n",
        "**When the value to its left is something that converts to false, it returns that value, and otherwise it returns the value on its right**"
      ]
    },
    {
      "cell_type": "code",
      "metadata": {
        "colab": {
          "base_uri": "https://localhost:8080/"
        },
        "id": "KFQ11-4fqLCG",
        "outputId": "66941033-1de8-427f-8cdd-8f4867858fd6"
      },
      "source": [
        "console.log(null && \"user\")"
      ],
      "execution_count": null,
      "outputs": [
        {
          "output_type": "stream",
          "name": "stdout",
          "text": [
            "null\n"
          ]
        }
      ]
    },
    {
      "cell_type": "markdown",
      "metadata": {
        "id": "2ZTC7ohiqiJy"
      },
      "source": [
        "Another important property of these two operators is that **the part to their right is evaluated only when necessary**\n",
        "\n",
        "In the case of true || X, no matter what X is, the result will be true, and X is never evaluated. The same goes for false && X, which is false and will ignore X. This is called short-circuit evaluation"
      ]
    }
  ]
}