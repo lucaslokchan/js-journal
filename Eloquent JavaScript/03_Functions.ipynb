{
  "nbformat": 4,
  "nbformat_minor": 0,
  "metadata": {
    "colab": {
      "name": "03.Functions.ipynb",
      "provenance": [],
      "collapsed_sections": []
    },
    "kernelspec": {
      "name": "javascript",
      "display_name": "Javascript"
    },
    "accelerator": "GPU"
  },
  "cells": [
    {
      "cell_type": "code",
      "metadata": {
        "id": "ZVkF16NwcMsZ"
      },
      "source": [
        "#/* run this once, then reload, and then skip this\n",
        "!npm install -g --unsafe-perm ijavascript\n",
        "!ijsinstall --install=global  # as fake comment */"
      ],
      "execution_count": null,
      "outputs": []
    },
    {
      "cell_type": "code",
      "metadata": {
        "id": "skqAs_UHc8_P",
        "colab": {
          "base_uri": "https://localhost:8080/"
        },
        "outputId": "d1852f41-f8ae-4d26-8c20-eabe6dd67024"
      },
      "source": [
        "// need this for running shell command\n",
        "var { spawn } = require('child_process');\n",
        "var sh = (cmd) => { \n",
        "    $$.async();\n",
        "    var sp = spawn(cmd, { cwd: process.cwd(), stdio: 'pipe', shell: true, encoding: 'utf-8' });\n",
        "    sp.stdout.on('data', data => console.log(data.toString()));\n",
        "    sp.stderr.on('data', data => console.error(data.toString()));\n",
        "    sp.on('close', () => $$.done());\n",
        "};\n",
        "sh('npm init -y');"
      ],
      "execution_count": 4,
      "outputs": [
        {
          "output_type": "stream",
          "name": "stdout",
          "text": [
            "Wrote to /content/package.json:\n",
            "\n",
            "{\n",
            "  \"name\": \"content\",\n",
            "  \"version\": \"1.0.0\",\n",
            "  \"description\": \"\",\n",
            "  \"main\": \"index.js\",\n",
            "  \"scripts\": {\n",
            "    \"test\": \"echo \\\"Error: no test specified\\\" && exit 1\"\n",
            "  },\n",
            "  \"keywords\": [],\n",
            "  \"author\": \"\",\n",
            "  \"license\": \"ISC\"\n",
            "}\n",
            "\n",
            "\n",
            "\n"
          ]
        }
      ]
    },
    {
      "cell_type": "markdown",
      "source": [
        "# Defining A Function"
      ],
      "metadata": {
        "id": "cCpdssqk2EqD"
      }
    },
    {
      "cell_type": "code",
      "metadata": {
        "id": "FX9NhyWsU1BM",
        "colab": {
          "base_uri": "https://localhost:8080/"
        },
        "outputId": "ff0b3691-ee2a-4e43-c15a-b67ba8a11670"
      },
      "source": [
        "const square = function (x) {\n",
        "  return x * x;\n",
        "};\n",
        "console.log(square(12))"
      ],
      "execution_count": 5,
      "outputs": [
        {
          "output_type": "stream",
          "name": "stdout",
          "text": [
            "144\n"
          ]
        }
      ]
    },
    {
      "cell_type": "code",
      "metadata": {
        "id": "mz_hl90xmPFW",
        "colab": {
          "base_uri": "https://localhost:8080/"
        },
        "outputId": "db88496c-835a-4461-f8c0-510b7cd4ddb4"
      },
      "source": [
        "const makeNoise = function () {\n",
        "  console.log('Pling!');\n",
        "};\n",
        "makeNoise();"
      ],
      "execution_count": 6,
      "outputs": [
        {
          "output_type": "stream",
          "name": "stdout",
          "text": [
            "Pling!\n"
          ]
        }
      ]
    },
    {
      "cell_type": "code",
      "source": [
        "const power = function (base, exponent) {\n",
        "  let result = 1;\n",
        "  for (let count = 0; count < exponent; count++) {\n",
        "    result *= base;\n",
        "  }\n",
        "  return result;\n",
        "};\n",
        "console.log(power(2, 10));"
      ],
      "metadata": {
        "colab": {
          "base_uri": "https://localhost:8080/"
        },
        "id": "H1an3vSo2gH1",
        "outputId": "74be6643-cfbf-42f2-ddbf-7015de4a0570"
      },
      "execution_count": 7,
      "outputs": [
        {
          "output_type": "stream",
          "name": "stdout",
          "text": [
            "1024\n"
          ]
        }
      ]
    },
    {
      "cell_type": "markdown",
      "source": [
        "# Functions As Values"
      ],
      "metadata": {
        "id": "IL6yfXijtCrf"
      }
    },
    {
      "cell_type": "markdown",
      "source": [
        "It is possible to store a function value in a new binding, pass it as an argument to a function"
      ],
      "metadata": {
        "id": "CZF1foAox50u"
      }
    },
    {
      "cell_type": "markdown",
      "source": [
        "```\n",
        "let launchMissles = function () {\n",
        "  missleSystem.launch('now');\n",
        "};\n",
        "if (safeMode) {\n",
        "  launchMissles = function () {/* do nothing */ };\n",
        "}\n",
        "```\n",
        "\n"
      ],
      "metadata": {
        "id": "9uNFBI8fx3bs"
      }
    },
    {
      "cell_type": "markdown",
      "source": [
        "# Declaration Notation"
      ],
      "metadata": {
        "id": "ke5BPL6nv4pW"
      }
    },
    {
      "cell_type": "markdown",
      "source": [
        "Slightly shorter way to create a function binding\n",
        "\n",
        "When the function keyword is used at the start of a statement is a **function declaration**\n",
        "\n",
        "It **doesn't requre a semicolon after the function**"
      ],
      "metadata": {
        "id": "6Nz5s4eowm9l"
      }
    },
    {
      "cell_type": "code",
      "source": [
        "function square2(x) {\n",
        "  return x * x;\n",
        "}\n",
        "square2(5)"
      ],
      "metadata": {
        "colab": {
          "base_uri": "https://localhost:8080/"
        },
        "id": "5jNEjS7Rv6S2",
        "outputId": "f373f904-454f-4e2b-bb2c-ef8ce7a8e0e0"
      },
      "execution_count": 8,
      "outputs": [
        {
          "output_type": "execute_result",
          "data": {
            "text/plain": [
              "25"
            ]
          },
          "metadata": {},
          "execution_count": 8
        }
      ]
    },
    {
      "cell_type": "markdown",
      "source": [
        "The code works even though the function is defined **below** the code that uses it\n",
        "\n",
        "They are conceptually moved to the top of their scope and **can be used by all the code in that scope**"
      ],
      "metadata": {
        "id": "z96Cb796xCUV"
      }
    },
    {
      "cell_type": "code",
      "source": [
        "console.log('The future says:', future());\n",
        "\n",
        "function future() {\n",
        "  return 'You\\'ll never have flying cars';\n",
        "}"
      ],
      "metadata": {
        "colab": {
          "base_uri": "https://localhost:8080/"
        },
        "id": "L7L7FZ5JxV39",
        "outputId": "78afd33c-0b06-458c-ef93-9282157e833f"
      },
      "execution_count": 9,
      "outputs": [
        {
          "output_type": "stream",
          "name": "stdout",
          "text": [
            "The future says: You'll never have flying cars\n"
          ]
        }
      ]
    },
    {
      "cell_type": "markdown",
      "source": [
        "# Arrow Functions"
      ],
      "metadata": {
        "id": "68nL85dyxy0c"
      }
    },
    {
      "cell_type": "code",
      "source": [
        "const power2 = (base, exponent) => {\n",
        "  let result = 1;\n",
        "  for (let count = 0; count < exponent; count++) {\n",
        "    result *= base;\n",
        "  }\n",
        "  return result;\n",
        "};\n",
        "power2(2, 2)"
      ],
      "metadata": {
        "colab": {
          "base_uri": "https://localhost:8080/"
        },
        "id": "up5Jkki6zkrW",
        "outputId": "e14042cd-0dd5-4ebf-8514-ca9cf00e1bc6"
      },
      "execution_count": 10,
      "outputs": [
        {
          "output_type": "execute_result",
          "data": {
            "text/plain": [
              "4"
            ]
          },
          "metadata": {},
          "execution_count": 10
        }
      ]
    },
    {
      "cell_type": "markdown",
      "source": [
        "When there is only **one parameter name,** you can **omit the parentheses** around the parameter list\n",
        "\n",
        "If the body is a single expression, rather than a block in braces, that expression will be returned from the function\n",
        "\n",
        "These two definitions of square do the same thing"
      ],
      "metadata": {
        "id": "uNsIo_1s2j3G"
      }
    },
    {
      "cell_type": "code",
      "source": [
        "const square3 = (x) => { return x * x; };\n",
        "const square4 = x => x * x;"
      ],
      "metadata": {
        "id": "WZfNQQk02PRH"
      },
      "execution_count": 11,
      "outputs": []
    },
    {
      "cell_type": "markdown",
      "source": [
        "When an arrow function has no parameters at all, its parameter list is just an empty set of parentheses"
      ],
      "metadata": {
        "id": "QV183MwzcV-f"
      }
    },
    {
      "cell_type": "code",
      "source": [
        "const horn = () => {\n",
        "  console.log('Toot');\n",
        "};\n",
        "horn()"
      ],
      "metadata": {
        "colab": {
          "base_uri": "https://localhost:8080/"
        },
        "id": "bBMNQo-ncWVk",
        "outputId": "032734a1-b802-4ed3-e9d6-8bfdeabe0ad5"
      },
      "execution_count": 12,
      "outputs": [
        {
          "output_type": "stream",
          "name": "stdout",
          "text": [
            "Toot\n"
          ]
        }
      ]
    },
    {
      "cell_type": "markdown",
      "source": [
        "# Optional Arguments"
      ],
      "metadata": {
        "id": "9FxggKN6co2M"
      }
    },
    {
      "cell_type": "markdown",
      "source": [
        "The following code is allowed and executes without any problem:\n",
        "\n",
        "We define with only one parameter. Yet when we call it with three, the language **ignores the extra arguments**"
      ],
      "metadata": {
        "id": "Od8nVWDSdtPR"
      }
    },
    {
      "cell_type": "code",
      "source": [
        "function square5(x) { return x * x; }\n",
        "console.log(square(4, true, 'hedgehog'));"
      ],
      "metadata": {
        "colab": {
          "base_uri": "https://localhost:8080/"
        },
        "id": "azMcYbiAduNN",
        "outputId": "b15e9eb2-3cf3-46e7-fe2b-fa98e19b54b6"
      },
      "execution_count": 13,
      "outputs": [
        {
          "output_type": "stream",
          "name": "stdout",
          "text": [
            "16\n"
          ]
        }
      ]
    },
    {
      "cell_type": "markdown",
      "source": [
        "If you write an operator after a parameter, followed by an expression, the **= value of that expression will replace the argument when it is not given**"
      ],
      "metadata": {
        "id": "ZZL3gG9GePbH"
      }
    },
    {
      "cell_type": "code",
      "source": [
        "function power3(base, exponent = 2) {\n",
        "  let result = 1;\n",
        "  for (let count = 0; count < exponent; count++) {\n",
        "    result *= base;\n",
        "  }\n",
        "  return result;\n",
        "}\n",
        "console.log(power3(4));"
      ],
      "metadata": {
        "id": "U7lohRCIeedd",
        "colab": {
          "base_uri": "https://localhost:8080/"
        },
        "outputId": "6f08d86b-5630-4460-93a6-1e675a95607f"
      },
      "execution_count": 14,
      "outputs": [
        {
          "output_type": "stream",
          "name": "stdout",
          "text": [
            "16\n"
          ]
        }
      ]
    },
    {
      "cell_type": "markdown",
      "source": [
        "# Closure"
      ],
      "metadata": {
        "id": "mHadeh-SfMFH"
      }
    },
    {
      "cell_type": "markdown",
      "source": [
        "What happens to local bindings when the function call that created them is no longer active\n",
        "\n",
        "It then **returns a function that accesses and returns this local binding**"
      ],
      "metadata": {
        "id": "ppBZm3s0wku1"
      }
    },
    {
      "cell_type": "code",
      "source": [
        "function wrapValue(n) {\n",
        "  let local = n;\n",
        "  return () => local;\n",
        "}\n",
        "let wrap1 = wrapValue(1);\n",
        "let wrap2 = wrapValue(2);"
      ],
      "metadata": {
        "id": "JQ3AohwnfNdA"
      },
      "execution_count": 15,
      "outputs": []
    },
    {
      "cell_type": "code",
      "source": [
        "console.log(wrap1());"
      ],
      "metadata": {
        "colab": {
          "base_uri": "https://localhost:8080/"
        },
        "id": "I6Cz8FElgSTJ",
        "outputId": "0c2b6d82-25ab-4803-887b-28c8799a8aa4"
      },
      "execution_count": 16,
      "outputs": [
        {
          "output_type": "stream",
          "name": "stdout",
          "text": [
            "1\n"
          ]
        }
      ]
    },
    {
      "cell_type": "code",
      "source": [
        "console.log(wrap2());"
      ],
      "metadata": {
        "colab": {
          "base_uri": "https://localhost:8080/"
        },
        "id": "mynnnbrjgTzW",
        "outputId": "7a103f95-9837-4ef4-a956-85caccd41fe6"
      },
      "execution_count": 17,
      "outputs": [
        {
          "output_type": "stream",
          "name": "stdout",
          "text": [
            "2\n"
          ]
        }
      ]
    },
    {
      "cell_type": "code",
      "source": [
        "function multiplier(factor) {\n",
        "  return number => number * factor;\n",
        "}"
      ],
      "metadata": {
        "id": "UaxyEy20gj6g"
      },
      "execution_count": 18,
      "outputs": []
    },
    {
      "cell_type": "code",
      "source": [
        "let twice = multiplier(2);"
      ],
      "metadata": {
        "id": "ZLlzfa6ygn_-"
      },
      "execution_count": 19,
      "outputs": []
    },
    {
      "cell_type": "code",
      "source": [
        "console.log(twice(10));"
      ],
      "metadata": {
        "colab": {
          "base_uri": "https://localhost:8080/"
        },
        "id": "7et9UgvngteF",
        "outputId": "c732e576-9c1a-4bd1-df6c-717d7c6e06f9"
      },
      "execution_count": 20,
      "outputs": [
        {
          "output_type": "stream",
          "name": "stdout",
          "text": [
            "20\n"
          ]
        }
      ]
    },
    {
      "cell_type": "markdown",
      "source": [
        "# Recursion"
      ],
      "metadata": {
        "id": "TQs5oQjeyd9h"
      }
    },
    {
      "cell_type": "markdown",
      "source": [
        "**A function that calls itself is called recursive**\n",
        "\n",
        "Running through a simple loop is generally cheaper than calling a function multiple times (~ Three times)\n"
      ],
      "metadata": {
        "id": "swEEI613yxcY"
      }
    },
    {
      "cell_type": "code",
      "source": [
        "function power4(base, exponent) {\n",
        "  if (exponent == 0) {\n",
        "    return 1;\n",
        "  } else {\n",
        "    return base * power(base, exponent - 1);\n",
        "  }\n",
        "}\n",
        "console.log(power4(2, 3))"
      ],
      "metadata": {
        "colab": {
          "base_uri": "https://localhost:8080/"
        },
        "id": "oP7LhP9PywAT",
        "outputId": "63527ad0-7dca-4873-9160-e50e8719a022"
      },
      "execution_count": 21,
      "outputs": [
        {
          "output_type": "stream",
          "name": "stdout",
          "text": [
            "8\n"
          ]
        }
      ]
    },
    {
      "cell_type": "markdown",
      "source": [
        "Some problems really are easier to solve with recursion than with loops. Most often these are problems that require exploring or processing several “branches”, each of which might branch out again into even more branches\n",
        "\n"
      ],
      "metadata": {
        "id": "Dz4ATdUd3Nis"
      }
    },
    {
      "cell_type": "code",
      "source": [
        "function findSolution(target)  {\n",
        "  function find(current, history) {\n",
        "    if (current == target) {\n",
        "      return history;\n",
        "    } else if (current > target) {\n",
        "      return null;\n",
        "    } else {\n",
        "      return find(current + 5, `(${history} + 5)`) ||\n",
        "             find(current * 3, `(${history} * 3)`);\n",
        "    }\n",
        "  }\n",
        "  return find(1, '1');\n",
        "}\n",
        "console.log(findSolution(24));"
      ],
      "metadata": {
        "colab": {
          "base_uri": "https://localhost:8080/"
        },
        "id": "rvNC_DAazMBp",
        "outputId": "9d14e8bf-dc7a-4825-d1a3-0427a9f8dfed"
      },
      "execution_count": 22,
      "outputs": [
        {
          "output_type": "stream",
          "name": "stdout",
          "text": [
            "(((1 * 3) + 5) * 3)\n"
          ]
        }
      ]
    }
  ]
}