{
  "nbformat": 4,
  "nbformat_minor": 0,
  "metadata": {
    "colab": {
      "name": "03.Functions.ipynb",
      "provenance": [],
      "collapsed_sections": []
    },
    "kernelspec": {
      "name": "javascript",
      "display_name": "Javascript"
    },
    "accelerator": "GPU"
  },
  "cells": [
    {
      "cell_type": "code",
      "metadata": {
        "id": "ZVkF16NwcMsZ"
      },
      "source": [
        "#/* run this once, then reload, and then skip this\n",
        "!npm install -g --unsafe-perm ijavascript\n",
        "!ijsinstall --install=global  # as fake comment */"
      ],
      "execution_count": null,
      "outputs": []
    },
    {
      "cell_type": "code",
      "metadata": {
        "id": "skqAs_UHc8_P",
        "colab": {
          "base_uri": "https://localhost:8080/"
        },
        "outputId": "de27e6e3-6911-4e38-f76c-dc3c81301531"
      },
      "source": [
        "// need this for running shell command\n",
        "var { spawn } = require('child_process');\n",
        "var sh = (cmd) => { \n",
        "    $$.async();\n",
        "    var sp = spawn(cmd, { cwd: process.cwd(), stdio: 'pipe', shell: true, encoding: 'utf-8' });\n",
        "    sp.stdout.on('data', data => console.log(data.toString()));\n",
        "    sp.stderr.on('data', data => console.error(data.toString()));\n",
        "    sp.on('close', () => $$.done());\n",
        "};\n",
        "sh('npm init -y');"
      ],
      "execution_count": 6,
      "outputs": [
        {
          "output_type": "stream",
          "name": "stdout",
          "text": [
            "Wrote to /content/package.json:\n",
            "\n",
            "{\n",
            "  \"name\": \"content\",\n",
            "  \"version\": \"1.0.0\",\n",
            "  \"main\": \"index.js\",\n",
            "  \"scripts\": {\n",
            "    \"test\": \"echo \\\"Error: no test specified\\\" && exit 1\"\n",
            "  },\n",
            "  \"keywords\": [],\n",
            "  \"author\": \"\",\n",
            "  \"license\": \"ISC\",\n",
            "  \"description\": \"\"\n",
            "}\n",
            "\n",
            "\n",
            "\n"
          ]
        }
      ]
    },
    {
      "cell_type": "markdown",
      "source": [
        "# Defining A Function"
      ],
      "metadata": {
        "id": "cCpdssqk2EqD"
      }
    },
    {
      "cell_type": "code",
      "metadata": {
        "id": "FX9NhyWsU1BM",
        "colab": {
          "base_uri": "https://localhost:8080/"
        },
        "outputId": "41f10591-5b54-40d1-c5f0-5f87d96dba4a"
      },
      "source": [
        "const square = function (x) {\n",
        "  return x * x;\n",
        "};\n",
        "console.log(square(12))"
      ],
      "execution_count": 7,
      "outputs": [
        {
          "output_type": "stream",
          "name": "stdout",
          "text": [
            "144\n"
          ]
        }
      ]
    },
    {
      "cell_type": "code",
      "metadata": {
        "id": "mz_hl90xmPFW",
        "colab": {
          "base_uri": "https://localhost:8080/"
        },
        "outputId": "1a6646f8-3aba-4d08-95d1-db437c7b0f7a"
      },
      "source": [
        "const makeNoise = function () {\n",
        "  console.log('Pling!');\n",
        "};\n",
        "makeNoise();"
      ],
      "execution_count": 8,
      "outputs": [
        {
          "output_type": "stream",
          "name": "stdout",
          "text": [
            "Pling!\n"
          ]
        }
      ]
    },
    {
      "cell_type": "code",
      "source": [
        "const power = function (base, exponent) {\n",
        "  let result = 1;\n",
        "  for (let count = 0; count < exponent; count++) {\n",
        "    result *= base;\n",
        "  }\n",
        "  return result;\n",
        "};\n",
        "console.log(power(2, 10));"
      ],
      "metadata": {
        "colab": {
          "base_uri": "https://localhost:8080/"
        },
        "id": "H1an3vSo2gH1",
        "outputId": "d6993c8d-52e1-4525-eb3f-7f492777de94"
      },
      "execution_count": 9,
      "outputs": [
        {
          "output_type": "stream",
          "name": "stdout",
          "text": [
            "1024\n"
          ]
        }
      ]
    },
    {
      "cell_type": "markdown",
      "source": [
        "# Functions As Values"
      ],
      "metadata": {
        "id": "IL6yfXijtCrf"
      }
    },
    {
      "cell_type": "markdown",
      "source": [
        "It is possible to store a function value in a new binding, pass it as an argument to a function"
      ],
      "metadata": {
        "id": "CZF1foAox50u"
      }
    },
    {
      "cell_type": "markdown",
      "source": [
        "```\n",
        "let launchMissles = function () {\n",
        "  missleSystem.launch('now');\n",
        "};\n",
        "if (safeMode) {\n",
        "  launchMissles = function () {/* do nothing */ };\n",
        "}\n",
        "```\n",
        "\n"
      ],
      "metadata": {
        "id": "9uNFBI8fx3bs"
      }
    },
    {
      "cell_type": "markdown",
      "source": [
        "# Declaration Notation"
      ],
      "metadata": {
        "id": "ke5BPL6nv4pW"
      }
    },
    {
      "cell_type": "markdown",
      "source": [
        "Slightly shorter way to create a function binding\n",
        "\n",
        "When the function keyword is used at the start of a statement is a **function declaration**\n",
        "\n",
        "It **doesn't requre a semicolon after the function**"
      ],
      "metadata": {
        "id": "6Nz5s4eowm9l"
      }
    },
    {
      "cell_type": "code",
      "source": [
        "function square2(x) {\n",
        "  return x * x;\n",
        "}\n",
        "square2(5)"
      ],
      "metadata": {
        "colab": {
          "base_uri": "https://localhost:8080/"
        },
        "id": "5jNEjS7Rv6S2",
        "outputId": "90ba304e-2808-44bf-e3bf-ccdbcf61d166"
      },
      "execution_count": 38,
      "outputs": [
        {
          "output_type": "execute_result",
          "data": {
            "text/plain": [
              "25"
            ]
          },
          "metadata": {},
          "execution_count": 38
        }
      ]
    },
    {
      "cell_type": "markdown",
      "source": [
        "The code works even though the function is defined **below** the code that uses it\n",
        "\n",
        "They are conceptually moved to the top of their scope and can be used by all the code in that scope"
      ],
      "metadata": {
        "id": "z96Cb796xCUV"
      }
    },
    {
      "cell_type": "code",
      "source": [
        "console.log('The future says:', future());\n",
        "\n",
        "function future() {\n",
        "  return 'You\\'ll never have flying cars';\n",
        "}"
      ],
      "metadata": {
        "colab": {
          "base_uri": "https://localhost:8080/"
        },
        "id": "L7L7FZ5JxV39",
        "outputId": "cadf188f-c6ff-4a8f-a368-f07d05917498"
      },
      "execution_count": 50,
      "outputs": [
        {
          "output_type": "stream",
          "name": "stdout",
          "text": [
            "The future says: You'll never have flying cars\n"
          ]
        }
      ]
    },
    {
      "cell_type": "markdown",
      "source": [
        "# Arrow Functions"
      ],
      "metadata": {
        "id": "68nL85dyxy0c"
      }
    },
    {
      "cell_type": "code",
      "source": [
        "const power2 = (base, exponent) => {\n",
        "  let result = 1;\n",
        "  for (let count = 0; count < exponent; count++) {\n",
        "    result *= base;\n",
        "  }\n",
        "  return result;\n",
        "};\n",
        "power2(2, 2)"
      ],
      "metadata": {
        "colab": {
          "base_uri": "https://localhost:8080/",
          "height": 301
        },
        "id": "up5Jkki6zkrW",
        "outputId": "578f49af-78e6-41d4-c2ac-1997c697b7de"
      },
      "execution_count": 63,
      "outputs": [
        {
          "output_type": "error",
          "ename": "SyntaxError",
          "evalue": "ignored",
          "traceback": [
            "evalmachine.<anonymous>:1",
            "const power2 = (base, exponent) => {",
            "^",
            "",
            "SyntaxError: Identifier 'power2' has already been declared",
            "    at Script.runInThisContext (vm.js:133:18)",
            "    at Object.runInThisContext (vm.js:310:38)",
            "    at run ([eval]:1020:15)",
            "    at onRunRequest ([eval]:864:18)",
            "    at onMessage ([eval]:828:13)",
            "    at process.emit (events.js:315:20)",
            "    at emit (internal/child_process.js:903:12)",
            "    at processTicksAndRejections (internal/process/task_queues.js:81:21)"
          ]
        }
      ]
    },
    {
      "cell_type": "markdown",
      "source": [
        "When there is only **one parameter name,** you can **omit the parentheses** around the parameter list\n",
        "\n",
        "If the body is a single expression, rather than a block in braces, that expression will be returned from the function\n",
        "\n",
        "These two definitions of square do the same thing"
      ],
      "metadata": {
        "id": "uNsIo_1s2j3G"
      }
    },
    {
      "cell_type": "code",
      "source": [
        "const square3 = (x) => { return x * x; };\n",
        "const square4 = x => x * x;"
      ],
      "metadata": {
        "id": "WZfNQQk02PRH"
      },
      "execution_count": null,
      "outputs": []
    }
  ]
}