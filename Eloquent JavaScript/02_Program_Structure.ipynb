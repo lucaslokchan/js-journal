{
  "nbformat": 4,
  "nbformat_minor": 0,
  "metadata": {
    "colab": {
      "name": "02.Program Structure.ipynb",
      "provenance": [],
      "collapsed_sections": [],
      "toc_visible": true
    },
    "kernelspec": {
      "name": "javascript",
      "display_name": "Javascript"
    }
  },
  "cells": [
    {
      "cell_type": "code",
      "metadata": {
        "id": "ZVkF16NwcMsZ"
      },
      "source": [
        "#/* run this once, then reload, and then skip this\n",
        "!npm install -g --unsafe-perm ijavascript\n",
        "!ijsinstall --install=global  # as fake comment */"
      ],
      "execution_count": null,
      "outputs": []
    },
    {
      "cell_type": "code",
      "metadata": {
        "id": "skqAs_UHc8_P",
        "colab": {
          "base_uri": "https://localhost:8080/"
        },
        "outputId": "25ab5cfb-b64f-43cb-c00d-f19b5338ad93"
      },
      "source": [
        "// need this for running shell command\n",
        "var { spawn } = require('child_process');\n",
        "var sh = (cmd) => { \n",
        "    $$.async();\n",
        "    var sp = spawn(cmd, { cwd: process.cwd(), stdio: 'pipe', shell: true, encoding: 'utf-8' });\n",
        "    sp.stdout.on('data', data => console.log(data.toString()));\n",
        "    sp.stderr.on('data', data => console.error(data.toString()));\n",
        "    sp.on('close', () => $$.done());\n",
        "};\n",
        "sh('npm init -y');"
      ],
      "execution_count": 5,
      "outputs": [
        {
          "output_type": "stream",
          "name": "stdout",
          "text": [
            "Wrote to /content/package.json:\n",
            "\n",
            "{\n",
            "  \"name\": \"content\",\n",
            "  \"version\": \"1.0.0\",\n",
            "  \"main\": \"index.js\",\n",
            "  \"scripts\": {\n",
            "    \"test\": \"echo \\\"Error: no test specified\\\" && exit 1\"\n",
            "  },\n",
            "  \"keywords\": [],\n",
            "  \"author\": \"\",\n",
            "  \"license\": \"ISC\",\n",
            "  \"description\": \"\"\n",
            "}\n",
            "\n",
            "\n",
            "\n"
          ]
        }
      ]
    },
    {
      "cell_type": "markdown",
      "metadata": {
        "id": "RbQsbdLScYJb"
      },
      "source": [
        "# Expressions and statements"
      ]
    },
    {
      "cell_type": "markdown",
      "source": [
        "Simplest kind of statement is an expression with a semicolon after it\n",
        "\n",
        "Semicolin is used by the enclosing code"
      ],
      "metadata": {
        "id": "9BxU-MbDR_gA"
      }
    },
    {
      "cell_type": "code",
      "metadata": {
        "colab": {
          "base_uri": "https://localhost:8080/"
        },
        "id": "QUp6LL4_cbSM",
        "outputId": "9f8738f0-31fe-4bfb-ac09-e2d9f6c8baaa"
      },
      "source": [
        "1;\n",
        "!false;"
      ],
      "execution_count": 6,
      "outputs": [
        {
          "output_type": "execute_result",
          "data": {
            "text/plain": [
              "true"
            ]
          },
          "metadata": {},
          "execution_count": 6
        }
      ]
    },
    {
      "cell_type": "markdown",
      "metadata": {
        "id": "U48du5QocVY5"
      },
      "source": [
        "# Bindings (Variables)"
      ]
    },
    {
      "cell_type": "markdown",
      "source": [
        "let indicates that this sentence is going to define a binding"
      ],
      "metadata": {
        "id": "Y-m8Zn3BSU_S"
      }
    },
    {
      "cell_type": "code",
      "metadata": {
        "id": "mz_hl90xmPFW"
      },
      "source": [
        "let caught = 5 * 5;"
      ],
      "execution_count": 7,
      "outputs": []
    },
    {
      "cell_type": "code",
      "metadata": {
        "colab": {
          "base_uri": "https://localhost:8080/"
        },
        "id": "_BsFXyMxcLKB",
        "outputId": "da4dc031-0894-430f-9e05-279858b48757"
      },
      "source": [
        "let ten = 10;\n",
        "console.log(ten * ten);"
      ],
      "execution_count": 8,
      "outputs": [
        {
          "output_type": "stream",
          "name": "stdout",
          "text": [
            "100\n"
          ]
        }
      ]
    },
    {
      "cell_type": "markdown",
      "source": [
        "The = operator can be used at any time on existing bindings to disconnect them from their current value and have them point to a new one"
      ],
      "metadata": {
        "id": "dYjoQ3qrVL9i"
      }
    },
    {
      "cell_type": "code",
      "source": [
        "let mood = 'light';\n",
        "console.log(mood)"
      ],
      "metadata": {
        "colab": {
          "base_uri": "https://localhost:8080/"
        },
        "id": "JltVjsHsTeqI",
        "outputId": "4ea8786b-1f65-4662-fcf3-516bdf4fd36f"
      },
      "execution_count": 9,
      "outputs": [
        {
          "output_type": "stream",
          "name": "stdout",
          "text": [
            "light\n"
          ]
        }
      ]
    },
    {
      "cell_type": "code",
      "source": [
        "mood = 'dark';\n",
        "console.log(mood)"
      ],
      "metadata": {
        "colab": {
          "base_uri": "https://localhost:8080/"
        },
        "id": "ygVN9w9GU7Rp",
        "outputId": "609338ed-f712-4c6d-c89e-c6bb1c54077b"
      },
      "execution_count": 10,
      "outputs": [
        {
          "output_type": "stream",
          "name": "stdout",
          "text": [
            "dark\n"
          ]
        }
      ]
    },
    {
      "cell_type": "code",
      "source": [
        "let luigisDebt = 140;\n",
        "luigisDebt = luigisDebt - 35;\n",
        "console.log(luigisDebt)"
      ],
      "metadata": {
        "colab": {
          "base_uri": "https://localhost:8080/"
        },
        "id": "xtCXJ5Z8WV8_",
        "outputId": "baf11333-558a-49cb-f066-e6003241dc09"
      },
      "execution_count": 11,
      "outputs": [
        {
          "output_type": "stream",
          "name": "stdout",
          "text": [
            "105\n"
          ]
        }
      ]
    },
    {
      "cell_type": "markdown",
      "source": [
        "A single statement may define multiple bindings. The definitions must let be separated by commas"
      ],
      "metadata": {
        "id": "_0QMiNIUeIaZ"
      }
    },
    {
      "cell_type": "code",
      "source": [
        "let one = 1, two = 2;\n",
        "console.log(one + two);"
      ],
      "metadata": {
        "colab": {
          "base_uri": "https://localhost:8080/"
        },
        "id": "_t8_oeBPeJ8J",
        "outputId": "4fde7b00-1e77-41bf-e362-97863866151c"
      },
      "execution_count": 12,
      "outputs": [
        {
          "output_type": "stream",
          "name": "stdout",
          "text": [
            "3\n"
          ]
        }
      ]
    },
    {
      "cell_type": "markdown",
      "source": [
        "The words var and const can also be used to create bindings, in a way similar to let\n",
        "\n",
        "The word const stands for constant. It defines a constant binding, which const points at the same value for as long as it lives."
      ],
      "metadata": {
        "id": "XUbvQ4g3wi7D"
      }
    },
    {
      "cell_type": "code",
      "source": [
        "var name = 'Ayda';\n",
        "const greeting = 'Hello ';\n",
        "console.log(greeting + name);"
      ],
      "metadata": {
        "colab": {
          "base_uri": "https://localhost:8080/"
        },
        "id": "UJG6PRRBwiwT",
        "outputId": "0101e49f-2856-4410-ab7c-359d21ff59db"
      },
      "execution_count": 13,
      "outputs": [
        {
          "output_type": "stream",
          "name": "stdout",
          "text": [
            "Hello Ayda\n"
          ]
        }
      ]
    },
    {
      "cell_type": "markdown",
      "source": [
        "# Conditional Execution (If Statement)"
      ],
      "metadata": {
        "id": "FOw8WyX0xBn8"
      }
    },
    {
      "cell_type": "markdown",
      "source": [
        "The deciding expression is written after the keyword,\n",
        "between parentheses"
      ],
      "metadata": {
        "id": "LVZIHCQlzq08"
      }
    },
    {
      "cell_type": "code",
      "source": [
        "let theNumber = 5;\n",
        "if (!Number.isNaN(theNumber)) {\n",
        "  console.log('Your number is the square root of ' +\n",
        "    theNumber * theNumber);\n",
        "}"
      ],
      "metadata": {
        "colab": {
          "base_uri": "https://localhost:8080/"
        },
        "id": "bxlC4D3Yyk3m",
        "outputId": "14520f4a-f47d-471a-e292-8d4b1be0652f"
      },
      "execution_count": 14,
      "outputs": [
        {
          "output_type": "stream",
          "name": "stdout",
          "text": [
            "Your number is the square root of 25\n"
          ]
        }
      ]
    },
    {
      "cell_type": "markdown",
      "source": [
        "One-liner of a If statement"
      ],
      "metadata": {
        "id": "49b9mtTmz12l"
      }
    },
    {
      "cell_type": "code",
      "source": [
        "if (1 + 1 == 2) console.log('It\\'s true')"
      ],
      "metadata": {
        "colab": {
          "base_uri": "https://localhost:8080/"
        },
        "id": "nrArZrbyzb8r",
        "outputId": "f46b6828-94c5-4504-b0b6-13925bbec56b"
      },
      "execution_count": 15,
      "outputs": [
        {
          "output_type": "stream",
          "name": "stdout",
          "text": [
            "It's true\n"
          ]
        }
      ]
    },
    {
      "cell_type": "markdown",
      "source": [
        "if else"
      ],
      "metadata": {
        "id": "pP9eoYXgz_tr"
      }
    },
    {
      "cell_type": "code",
      "source": [
        "let theNumber2 = 5;\n",
        "if (!Number.isNaN(theNumber2)) {\n",
        "  console.log('Your number is the square root of ' +\n",
        "              theNumber2 * theNumber2);\n",
        "} else {\n",
        "  console.log('Hey. Why didn\\'t you give me a number?');\n",
        "}"
      ],
      "metadata": {
        "colab": {
          "base_uri": "https://localhost:8080/"
        },
        "id": "WpC-4Z3G0Has",
        "outputId": "2fae8b15-8785-43cb-f2a9-82f0c6ee080e"
      },
      "execution_count": 16,
      "outputs": [
        {
          "output_type": "stream",
          "name": "stdout",
          "text": [
            "Your number is the square root of 25\n"
          ]
        }
      ]
    },
    {
      "cell_type": "markdown",
      "source": [
        "else if"
      ],
      "metadata": {
        "id": "9ZD19zLf1WbE"
      }
    },
    {
      "cell_type": "code",
      "source": [
        "let num = 5\n",
        "\n",
        "if (num < 10) {\n",
        "  console.log('small');\n",
        "} else if (num < 100) {\n",
        "  console.log('medium');\n",
        "} else {\n",
        "  console.log('large');\n",
        "}"
      ],
      "metadata": {
        "colab": {
          "base_uri": "https://localhost:8080/"
        },
        "id": "sR-2bdP81XTD",
        "outputId": "8174eab6-14cf-4b74-fe0e-2f6c4c3c28c5"
      },
      "execution_count": 17,
      "outputs": [
        {
          "output_type": "stream",
          "name": "stdout",
          "text": [
            "small\n"
          ]
        }
      ]
    },
    {
      "cell_type": "markdown",
      "source": [
        "# While and Do Loops"
      ],
      "metadata": {
        "id": "yV-SBvv71qHc"
      }
    },
    {
      "cell_type": "code",
      "source": [
        "let number = 0;\n",
        "while (number <= 12) {\n",
        "  console.log(number);\n",
        "  number = number + 2;\n",
        "}"
      ],
      "metadata": {
        "colab": {
          "base_uri": "https://localhost:8080/"
        },
        "id": "KkiLFSt41wi0",
        "outputId": "01f0d181-31fc-497c-b2e7-2ed7f619fd06"
      },
      "execution_count": 18,
      "outputs": [
        {
          "output_type": "stream",
          "name": "stdout",
          "text": [
            "0\n",
            "2\n",
            "4\n",
            "6\n",
            "8\n",
            "10\n",
            "12\n"
          ]
        },
        {
          "output_type": "execute_result",
          "data": {
            "text/plain": [
              "14"
            ]
          },
          "metadata": {},
          "execution_count": 18
        }
      ]
    },
    {
      "cell_type": "markdown",
      "source": [
        "Calculate 2^10\n",
        "\n",
        "Two bindings: one to keep track of our result and one to count how often we have multiplied this result by 2"
      ],
      "metadata": {
        "id": "J5oV1KvUD4iL"
      }
    },
    {
      "cell_type": "code",
      "source": [
        "let result = 1;\n",
        "let counter = 0;\n",
        "while (counter < 10) {\n",
        "  result = result * 2;\n",
        "  counter = counter + 1;\n",
        "}\n",
        "console.log(result);"
      ],
      "metadata": {
        "id": "alQhYa_C19D7",
        "colab": {
          "base_uri": "https://localhost:8080/"
        },
        "outputId": "5298466a-fb9d-4111-cc23-6b103d738232"
      },
      "execution_count": 19,
      "outputs": [
        {
          "output_type": "stream",
          "name": "stdout",
          "text": [
            "1024\n"
          ]
        }
      ]
    },
    {
      "cell_type": "markdown",
      "source": [
        "A **do loop** always **executes** its body **at least once,** and it starts testing whether it should stop only after that first execution"
      ],
      "metadata": {
        "id": "9uTl2UrXFFXd"
      }
    },
    {
      "cell_type": "markdown",
      "source": [
        "```\n",
        "let yourName;\n",
        "do {\n",
        "  yourName = prompt('Who are you?');\n",
        "} while (!yourName);\n",
        "console.log(yourName);\n",
        "```\n",
        "\n"
      ],
      "metadata": {
        "id": "Tg4e62XYh-9u"
      }
    },
    {
      "cell_type": "markdown",
      "source": [
        "This program will force you to enter a name. It will ask again and again until it gets something that is not an empty string"
      ],
      "metadata": {
        "id": "AU2gE8HSFmQ7"
      }
    },
    {
      "cell_type": "markdown",
      "source": [
        "# For Loops"
      ],
      "metadata": {
        "id": "vltZx16TF0My"
      }
    },
    {
      "cell_type": "markdown",
      "source": [
        "The part before the first semicolon initializes the loop, usually by defining a binding. The second part is the expression that checks whether the loop must continue. The final part updates the state of the loop after every iteration"
      ],
      "metadata": {
        "id": "kDUo5l2PIEEU"
      }
    },
    {
      "cell_type": "code",
      "source": [
        "for (let number = 0; number <= 12; number = number + 2) {\n",
        "  console.log(number);\n",
        "}"
      ],
      "metadata": {
        "colab": {
          "base_uri": "https://localhost:8080/"
        },
        "id": "em2DKD_WF48t",
        "outputId": "def140cf-1fc8-473d-9090-2c58a2f0ab8c"
      },
      "execution_count": 21,
      "outputs": [
        {
          "output_type": "stream",
          "name": "stdout",
          "text": [
            "0\n",
            "2\n",
            "4\n",
            "6\n",
            "8\n",
            "10\n",
            "12\n"
          ]
        }
      ]
    },
    {
      "cell_type": "code",
      "source": [
        "let result1 = 1;\n",
        "for (let counter = 0; counter < 10; counter = counter + 1) {\n",
        "  result1 = result1 * 2;\n",
        "}\n",
        "console.log(result1);"
      ],
      "metadata": {
        "colab": {
          "base_uri": "https://localhost:8080/"
        },
        "id": "etPgURTCHq41",
        "outputId": "e369e48e-2fb4-4624-f2c7-7557bf2bfd94"
      },
      "execution_count": 22,
      "outputs": [
        {
          "output_type": "stream",
          "name": "stdout",
          "text": [
            "1024\n"
          ]
        }
      ]
    },
    {
      "cell_type": "markdown",
      "source": [
        "# Breaking Out Of A Loop"
      ],
      "metadata": {
        "id": "vku536paHwVb"
      }
    },
    {
      "cell_type": "markdown",
      "source": [
        "break statement"
      ],
      "metadata": {
        "id": "bqA125N4JI60"
      }
    },
    {
      "cell_type": "code",
      "source": [
        "for (let current = 20; ; current = current + 1) {\n",
        "  if (current % 7 == 0) {\n",
        "    console.log(current);\n",
        "    break;\n",
        "  }\n",
        "}"
      ],
      "metadata": {
        "colab": {
          "base_uri": "https://localhost:8080/"
        },
        "id": "D_UrxBSmHzQl",
        "outputId": "865dc999-8391-4271-9d69-b7919deb243f"
      },
      "execution_count": 23,
      "outputs": [
        {
          "output_type": "stream",
          "name": "stdout",
          "text": [
            "21\n"
          ]
        }
      ]
    },
    {
      "cell_type": "markdown",
      "source": [
        "# Updating Bindings Succinctly"
      ],
      "metadata": {
        "id": "5yI2TciLJL3L"
      }
    },
    {
      "cell_type": "markdown",
      "source": [
        "```\n",
        "counter = counter + 1;\n",
        "counter += 1;\n",
        "counter ++;\n",
        "counter -= 1;\n",
        "counter *= 2;\n",
        "```\n",
        "\n",
        "\n",
        "\n"
      ],
      "metadata": {
        "id": "HZOauyoCJPRm"
      }
    },
    {
      "cell_type": "markdown",
      "source": [
        "# Dispatching on a value with switch"
      ],
      "metadata": {
        "id": "5EuUVgpsJmz8"
      }
    },
    {
      "cell_type": "markdown",
      "source": [
        "It is not uncommon for code to look like this:\n",
        "\n",
        "```\n",
        "if (x == \"value1\") action1();\n",
        "else if (x == \"value2\") action2();\n",
        "else if (x == \"value3\") action3();\n",
        "else defaultAction();\n",
        "```\n",
        "\n"
      ],
      "metadata": {
        "id": "2wIxjXnlLZTM"
      }
    },
    {
      "cell_type": "markdown",
      "source": [
        "switch is intended to express such a “dispatch” in a more direct way. A chain of if statements may look better."
      ],
      "metadata": {
        "id": "6RMV53xtLr1N"
      }
    },
    {
      "cell_type": "markdown",
      "source": [
        "```\n",
        "switch (prompt('What is the weather like?')) {\n",
        "  case 'rainy':\n",
        "    console.log('Remember to bring an umbrella.');\n",
        "    break;\n",
        "  case 'sunny':\n",
        "    console.log('Dress lightly.');\n",
        "    break;\n",
        "  case 'cloudy':\n",
        "    console.log('Go outside.');\n",
        "    break;\n",
        "  default:\n",
        "    console.log('Unknown weather type!');\n",
        "    break;\n",
        "}\n",
        "```\n",
        "\n"
      ],
      "metadata": {
        "id": "oR8Gez4aM4eU"
      }
    },
    {
      "cell_type": "markdown",
      "source": [
        "# Capitalization"
      ],
      "metadata": {
        "id": "pEUrCrH7M9EE"
      }
    },
    {
      "cell_type": "markdown",
      "source": [
        "The standard JavaScript functions -> capitalize every word except the first\n",
        "\n",
        "```\n",
        "fuzzyLittleTurtle\n",
        "```\n",
        "\n"
      ],
      "metadata": {
        "id": "mEs0BuaDNOlU"
      }
    },
    {
      "cell_type": "markdown",
      "source": [
        "# Comments"
      ],
      "metadata": {
        "id": "OktFSYxXP3YD"
      }
    },
    {
      "cell_type": "markdown",
      "source": [
        "A // comment goes only to the end of the line\n",
        "\n",
        "A section of text between /* and */ will be ignored in its entirety "
      ],
      "metadata": {
        "id": "RQsMD9vdQF6k"
      }
    },
    {
      "cell_type": "code",
      "source": [
        "// 123123"
      ],
      "metadata": {
        "id": "AyHBR4ZCQAdk"
      },
      "execution_count": 24,
      "outputs": []
    },
    {
      "cell_type": "code",
      "source": [
        "/* 123 */"
      ],
      "metadata": {
        "id": "DRIS3IqXQBUp"
      },
      "execution_count": 25,
      "outputs": []
    }
  ]
}