{
  "nbformat": 4,
  "nbformat_minor": 0,
  "metadata": {
    "colab": {
      "name": "02.Program Structure.ipynb",
      "provenance": [],
      "collapsed_sections": [],
      "toc_visible": true
    },
    "kernelspec": {
      "name": "javascript",
      "display_name": "Javascript"
    }
  },
  "cells": [
    {
      "cell_type": "code",
      "metadata": {
        "id": "ZVkF16NwcMsZ"
      },
      "source": [
        "#/* run this once, then reload, and then skip this\n",
        "!npm install -g --unsafe-perm ijavascript\n",
        "!ijsinstall --install=global  # as fake comment */"
      ],
      "execution_count": null,
      "outputs": []
    },
    {
      "cell_type": "code",
      "metadata": {
        "id": "skqAs_UHc8_P",
        "colab": {
          "base_uri": "https://localhost:8080/"
        },
        "outputId": "7422f9e9-af26-49e3-87c5-addded59fbaf"
      },
      "source": [
        "// need this for running shell command\n",
        "var { spawn } = require('child_process');\n",
        "var sh = (cmd) => { \n",
        "    $$.async();\n",
        "    var sp = spawn(cmd, { cwd: process.cwd(), stdio: 'pipe', shell: true, encoding: 'utf-8' });\n",
        "    sp.stdout.on('data', data => console.log(data.toString()));\n",
        "    sp.stderr.on('data', data => console.error(data.toString()));\n",
        "    sp.on('close', () => $$.done());\n",
        "};\n",
        "sh('npm init -y');"
      ],
      "execution_count": 5,
      "outputs": [
        {
          "output_type": "stream",
          "name": "stdout",
          "text": [
            "Wrote to /content/package.json:\n",
            "\n",
            "{\n",
            "  \"name\": \"content\",\n",
            "  \"version\": \"1.0.0\",\n",
            "  \"main\": \"index.js\",\n",
            "  \"scripts\": {\n",
            "    \"test\": \"echo \\\"Error: no test specified\\\" && exit 1\"\n",
            "  },\n",
            "  \"keywords\": [],\n",
            "  \"author\": \"\",\n",
            "  \"license\": \"ISC\",\n",
            "  \"description\": \"\"\n",
            "}\n",
            "\n",
            "\n",
            "\n"
          ]
        }
      ]
    },
    {
      "cell_type": "markdown",
      "metadata": {
        "id": "RbQsbdLScYJb"
      },
      "source": [
        "# Expressions and statements"
      ]
    },
    {
      "cell_type": "markdown",
      "source": [
        "Simplest kind of statement is an expression with a semicolon after it\n",
        "\n",
        "Semicolin is used by the enclosing code"
      ],
      "metadata": {
        "id": "9BxU-MbDR_gA"
      }
    },
    {
      "cell_type": "code",
      "metadata": {
        "colab": {
          "base_uri": "https://localhost:8080/"
        },
        "id": "QUp6LL4_cbSM",
        "outputId": "1395af7f-b67d-4707-f502-b69b957aa807"
      },
      "source": [
        "1;\n",
        "!false;"
      ],
      "execution_count": 6,
      "outputs": [
        {
          "output_type": "execute_result",
          "data": {
            "text/plain": [
              "true"
            ]
          },
          "metadata": {},
          "execution_count": 6
        }
      ]
    },
    {
      "cell_type": "markdown",
      "metadata": {
        "id": "U48du5QocVY5"
      },
      "source": [
        "# Bindings (Variables)"
      ]
    },
    {
      "cell_type": "markdown",
      "source": [
        "let indicates that this sentence is going to define a binding"
      ],
      "metadata": {
        "id": "Y-m8Zn3BSU_S"
      }
    },
    {
      "cell_type": "code",
      "metadata": {
        "id": "mz_hl90xmPFW"
      },
      "source": [
        "let caught = 5 * 5;"
      ],
      "execution_count": 7,
      "outputs": []
    },
    {
      "cell_type": "code",
      "metadata": {
        "colab": {
          "base_uri": "https://localhost:8080/"
        },
        "id": "_BsFXyMxcLKB",
        "outputId": "a3c14e67-0b55-45c6-a770-9dfdb5cb74c3"
      },
      "source": [
        "let ten = 10;\n",
        "console.log(ten * ten);"
      ],
      "execution_count": 8,
      "outputs": [
        {
          "output_type": "stream",
          "name": "stdout",
          "text": [
            "100\n"
          ]
        }
      ]
    },
    {
      "cell_type": "markdown",
      "source": [
        "The = operator can be used at any time on existing bindings to disconnect them from their current value and have them point to a new one"
      ],
      "metadata": {
        "id": "dYjoQ3qrVL9i"
      }
    },
    {
      "cell_type": "code",
      "source": [
        "let mood = 'light';\n",
        "console.log(mood)"
      ],
      "metadata": {
        "colab": {
          "base_uri": "https://localhost:8080/"
        },
        "id": "JltVjsHsTeqI",
        "outputId": "95c523bb-23aa-4048-eab6-3f64c16fadbd"
      },
      "execution_count": 9,
      "outputs": [
        {
          "output_type": "stream",
          "name": "stdout",
          "text": [
            "light\n"
          ]
        }
      ]
    },
    {
      "cell_type": "code",
      "source": [
        "mood = 'dark';\n",
        "console.log(mood)"
      ],
      "metadata": {
        "colab": {
          "base_uri": "https://localhost:8080/"
        },
        "id": "ygVN9w9GU7Rp",
        "outputId": "cad62acf-e95e-4a90-b9cb-dca7b1695db5"
      },
      "execution_count": 10,
      "outputs": [
        {
          "output_type": "stream",
          "name": "stdout",
          "text": [
            "dark\n"
          ]
        }
      ]
    },
    {
      "cell_type": "code",
      "source": [
        "let luigisDebt = 140;\n",
        "luigisDebt = luigisDebt - 35;\n",
        "console.log(luigisDebt)"
      ],
      "metadata": {
        "colab": {
          "base_uri": "https://localhost:8080/"
        },
        "id": "xtCXJ5Z8WV8_",
        "outputId": "d8f6180c-3571-41f5-d8e3-d7caf63a1e8d"
      },
      "execution_count": 11,
      "outputs": [
        {
          "output_type": "stream",
          "name": "stdout",
          "text": [
            "105\n"
          ]
        }
      ]
    },
    {
      "cell_type": "markdown",
      "source": [
        "A single statement may define multiple bindings. The definitions must let be separated by commas"
      ],
      "metadata": {
        "id": "_0QMiNIUeIaZ"
      }
    },
    {
      "cell_type": "code",
      "source": [
        "let one = 1, two = 2;\n",
        "console.log(one + two);"
      ],
      "metadata": {
        "colab": {
          "base_uri": "https://localhost:8080/"
        },
        "id": "_t8_oeBPeJ8J",
        "outputId": "360effc4-ed07-4a11-aa07-3d644d598e28"
      },
      "execution_count": 12,
      "outputs": [
        {
          "output_type": "stream",
          "name": "stdout",
          "text": [
            "3\n"
          ]
        }
      ]
    },
    {
      "cell_type": "markdown",
      "source": [
        "The words var and const can also be used to create bindings, in a way similar to let\n",
        "\n",
        "The word const stands for constant. It defines a constant binding, which const points at the same value for as long as it lives."
      ],
      "metadata": {
        "id": "XUbvQ4g3wi7D"
      }
    },
    {
      "cell_type": "code",
      "source": [
        "var name = 'Ayda';\n",
        "const greeting = 'Hello ';\n",
        "console.log(greeting + name);"
      ],
      "metadata": {
        "colab": {
          "base_uri": "https://localhost:8080/"
        },
        "id": "UJG6PRRBwiwT",
        "outputId": "3da3b1bf-3f54-42f1-8303-ff2bf9f0168f"
      },
      "execution_count": 24,
      "outputs": [
        {
          "output_type": "stream",
          "name": "stdout",
          "text": [
            "Hello ayda\n"
          ]
        }
      ]
    },
    {
      "cell_type": "markdown",
      "source": [
        "# Conditional Execution (If Statement)"
      ],
      "metadata": {
        "id": "FOw8WyX0xBn8"
      }
    },
    {
      "cell_type": "markdown",
      "source": [
        "The deciding expression is written after the keyword,\n",
        "between parentheses"
      ],
      "metadata": {
        "id": "LVZIHCQlzq08"
      }
    },
    {
      "cell_type": "code",
      "source": [
        "let theNumber = 5;\n",
        "if (!Number.isNaN(theNumber)) {\n",
        "  console.log('Your number is the square root of ' +\n",
        "    theNumber * theNumber);\n",
        "}"
      ],
      "metadata": {
        "colab": {
          "base_uri": "https://localhost:8080/",
          "height": 301
        },
        "id": "bxlC4D3Yyk3m",
        "outputId": "117982f1-a521-4b1e-a9ff-165a39360c2c"
      },
      "execution_count": 40,
      "outputs": [
        {
          "output_type": "error",
          "ename": "SyntaxError",
          "evalue": "ignored",
          "traceback": [
            "evalmachine.<anonymous>:1",
            "let theNumber = 5;",
            "^",
            "",
            "SyntaxError: Identifier 'theNumber' has already been declared",
            "    at Script.runInThisContext (vm.js:133:18)",
            "    at Object.runInThisContext (vm.js:310:38)",
            "    at run ([eval]:1020:15)",
            "    at onRunRequest ([eval]:864:18)",
            "    at onMessage ([eval]:828:13)",
            "    at process.emit (events.js:315:20)",
            "    at emit (internal/child_process.js:903:12)",
            "    at processTicksAndRejections (internal/process/task_queues.js:81:21)"
          ]
        }
      ]
    },
    {
      "cell_type": "markdown",
      "source": [
        "One-liner of a If statement"
      ],
      "metadata": {
        "id": "49b9mtTmz12l"
      }
    },
    {
      "cell_type": "code",
      "source": [
        "if (1 + 1 == 2) console.log('It\\'s true')"
      ],
      "metadata": {
        "colab": {
          "base_uri": "https://localhost:8080/"
        },
        "id": "nrArZrbyzb8r",
        "outputId": "ef703ae1-584b-4313-a4bb-440c51a0194b"
      },
      "execution_count": 45,
      "outputs": [
        {
          "output_type": "stream",
          "name": "stdout",
          "text": [
            "It's true\n"
          ]
        }
      ]
    },
    {
      "cell_type": "markdown",
      "source": [
        "if else"
      ],
      "metadata": {
        "id": "pP9eoYXgz_tr"
      }
    },
    {
      "cell_type": "code",
      "source": [
        "let theNumber2 = 5;\n",
        "if (!Number.isNan(theNumber2)) {\n",
        "  console.log('Your number is the square root of ' +\n",
        "              theNumber2 * theNumber2);\n",
        "} else {\n",
        "  console.log('Hey. Why didn\\'t you give me a number?');\n",
        "}"
      ],
      "metadata": {
        "colab": {
          "base_uri": "https://localhost:8080/",
          "height": 301
        },
        "id": "WpC-4Z3G0Has",
        "outputId": "f5378717-5f07-4322-aa65-30e9caa574c7"
      },
      "execution_count": 55,
      "outputs": [
        {
          "output_type": "error",
          "ename": "SyntaxError",
          "evalue": "ignored",
          "traceback": [
            "evalmachine.<anonymous>:1",
            "let theNumber = 5;",
            "^",
            "",
            "SyntaxError: Identifier 'theNumber' has already been declared",
            "    at Script.runInThisContext (vm.js:133:18)",
            "    at Object.runInThisContext (vm.js:310:38)",
            "    at run ([eval]:1020:15)",
            "    at onRunRequest ([eval]:864:18)",
            "    at onMessage ([eval]:828:13)",
            "    at process.emit (events.js:315:20)",
            "    at emit (internal/child_process.js:903:12)",
            "    at processTicksAndRejections (internal/process/task_queues.js:81:21)"
          ]
        }
      ]
    },
    {
      "cell_type": "markdown",
      "source": [
        "else if"
      ],
      "metadata": {
        "id": "9ZD19zLf1WbE"
      }
    },
    {
      "cell_type": "code",
      "source": [
        "let num = 5\n",
        "\n",
        "if (num < 10) {\n",
        "  console.log('small')\n",
        "} else if (num < 100) {\n",
        "  console.log('medium')\n",
        "} else {\n",
        "  console.log('large')\n",
        "}"
      ],
      "metadata": {
        "colab": {
          "base_uri": "https://localhost:8080/"
        },
        "id": "sR-2bdP81XTD",
        "outputId": "a411d492-1040-43b5-a67e-e4e667cb563d"
      },
      "execution_count": 58,
      "outputs": [
        {
          "output_type": "stream",
          "name": "stdout",
          "text": [
            "small\n"
          ]
        }
      ]
    },
    {
      "cell_type": "markdown",
      "source": [
        "# While and Do Loops"
      ],
      "metadata": {
        "id": "yV-SBvv71qHc"
      }
    },
    {
      "cell_type": "code",
      "source": [
        "let number = 0;\n",
        "while (number <= 12) {\n",
        "  console.log(number);\n",
        "  number = number + 2;\n",
        "}"
      ],
      "metadata": {
        "colab": {
          "base_uri": "https://localhost:8080/"
        },
        "id": "KkiLFSt41wi0",
        "outputId": "1681a4c4-c32f-4f76-acfd-3ce15f668efc"
      },
      "execution_count": 62,
      "outputs": [
        {
          "output_type": "stream",
          "name": "stdout",
          "text": [
            "0\n",
            "2\n",
            "4\n",
            "6\n",
            "8\n",
            "10\n",
            "12\n"
          ]
        },
        {
          "output_type": "execute_result",
          "data": {
            "text/plain": [
              "14"
            ]
          },
          "metadata": {},
          "execution_count": 62
        }
      ]
    },
    {
      "cell_type": "code",
      "source": [
        ""
      ],
      "metadata": {
        "id": "alQhYa_C19D7"
      },
      "execution_count": null,
      "outputs": []
    }
  ]
}