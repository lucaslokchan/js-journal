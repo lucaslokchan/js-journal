{
  "nbformat": 4,
  "nbformat_minor": 0,
  "metadata": {
    "colab": {
      "name": "11.Asynchronous Programming.ipynb",
      "provenance": [],
      "collapsed_sections": []
    },
    "kernelspec": {
      "name": "javascript",
      "display_name": "Javascript"
    },
    "accelerator": "GPU"
  },
  "cells": [
    {
      "cell_type": "code",
      "metadata": {
        "id": "ZVkF16NwcMsZ"
      },
      "source": [
        "#/* run this once, then reload, and then skip this\n",
        "!npm install -g --unsafe-perm ijavascript\n",
        "!ijsinstall --install=global  # as fake comment */"
      ],
      "execution_count": null,
      "outputs": []
    },
    {
      "cell_type": "code",
      "metadata": {
        "id": "skqAs_UHc8_P",
        "colab": {
          "base_uri": "https://localhost:8080/"
        },
        "outputId": "fa3e4af8-f9e4-416e-d0a3-ac894fc0200c"
      },
      "source": [
        "// need this for running shell command\n",
        "var { spawn } = require('child_process');\n",
        "var sh = (cmd) => { \n",
        "    $$.async();\n",
        "    var sp = spawn(cmd, { cwd: process.cwd(), stdio: 'pipe', shell: true, encoding: 'utf-8' });\n",
        "    sp.stdout.on('data', data => console.log(data.toString()));\n",
        "    sp.stderr.on('data', data => console.error(data.toString()));\n",
        "    sp.on('close', () => $$.done());\n",
        "};\n",
        "sh('npm init -y');"
      ],
      "execution_count": 3,
      "outputs": [
        {
          "output_type": "stream",
          "name": "stdout",
          "text": [
            "Wrote to /content/package.json:\n",
            "\n",
            "{\n",
            "  \"name\": \"content\",\n",
            "  \"version\": \"1.0.0\",\n",
            "  \"description\": \"\",\n",
            "  \"main\": \"index.js\",\n",
            "  \"scripts\": {\n",
            "    \"test\": \"echo \\\"Error: no test specified\\\" && exit 1\"\n",
            "  },\n",
            "  \"keywords\": [],\n",
            "  \"author\": \"\",\n",
            "  \"license\": \"ISC\"\n",
            "}\n",
            "\n",
            "\n",
            "\n"
          ]
        }
      ]
    },
    {
      "cell_type": "markdown",
      "source": [
        "# Asynchronicity"
      ],
      "metadata": {
        "id": "SMEqPOFTK7CQ"
      }
    },
    {
      "cell_type": "markdown",
      "source": [
        "In a **synchronous** programming model, **things happen one at a time**\n",
        "\n",
        "An **asynchronous** model allows **multiple things to happen at the same time**\n",
        "\n",
        "Both of the important JavaScript programming platforms—browsers and Node.js—make operations that might take a while asynchronous"
      ],
      "metadata": {
        "id": "m43ngVmpK_yo"
      }
    },
    {
      "cell_type": "markdown",
      "source": [
        "<p align='center'>\n",
        "<img src='data:image/png;base64,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'>\n",
        "</p>"
      ],
      "metadata": {
        "id": "vQmuTRSsYCzV"
      }
    },
    {
      "cell_type": "markdown",
      "source": [
        "# Callbacks"
      ],
      "metadata": {
        "id": "j_oI_Ct4ZX9s"
      }
    },
    {
      "cell_type": "markdown",
      "source": [
        "One approach to asynchronous programming is to **make functions that perform a slow action take an extra argument, a callback function**\n",
        "\n",
        "As an example, the **setTimeout function waits a given number of milliseconds**\n",
        "\n",
        "Waiting is not generally a very important type of work, but it can be useful when doing something like updating an animation or checking whether some thing is taking longer than a given amount of time"
      ],
      "metadata": {
        "id": "X8KgH4OgZZdu"
      }
    },
    {
      "cell_type": "code",
      "metadata": {
        "id": "mz_hl90xmPFW",
        "colab": {
          "base_uri": "https://localhost:8080/"
        },
        "outputId": "7e3ed2ec-0fc8-48bb-b379-a3bcf6599e96"
      },
      "source": [
        "setTimeout(() => console.log('Tick'), 500);"
      ],
      "execution_count": 20,
      "outputs": [
        {
          "output_type": "execute_result",
          "data": {
            "text/plain": [
              "Timeout {\n",
              "  _idleTimeout: 500,\n",
              "  _idlePrev: [TimersList],\n",
              "  _idleNext: [TimersList],\n",
              "  _idleStart: 948598,\n",
              "  _onTimeout: [Function (anonymous)],\n",
              "  _timerArgs: undefined,\n",
              "  _repeat: null,\n",
              "  _destroyed: false,\n",
              "  [Symbol(refed)]: true,\n",
              "  [Symbol(kHasPrimitive)]: false,\n",
              "  [Symbol(asyncId)]: 84,\n",
              "  [Symbol(triggerId)]: 81\n",
              "}"
            ]
          },
          "metadata": {},
          "execution_count": 20
        }
      ]
    },
    {
      "cell_type": "markdown",
      "source": [
        "# Promises"
      ],
      "metadata": {
        "id": "rmYtVJsyarhd"
      }
    },
    {
      "cell_type": "markdown",
      "source": [
        "Return an object that represents this **future event**\n",
        "\n",
        "**A promise is an asynchronous action that may complete at some point and produce a value**\n",
        "\n",
        "The easiest way to create a promise is by calling **Promise.resolve**\n",
        "\n",
        "To get the result of a promise, you can use its **then** method"
      ],
      "metadata": {
        "id": "ztvEOrHVa8td"
      }
    },
    {
      "cell_type": "code",
      "source": [
        "let fifteen = Promise.resolve(15);\n",
        "fifteen.then(value => console.log(`Got ${value}`));"
      ],
      "metadata": {
        "colab": {
          "base_uri": "https://localhost:8080/",
          "height": 301
        },
        "id": "0ED6kTTwatQd",
        "outputId": "f9eed43f-babe-4179-c953-bedeb383cf79"
      },
      "execution_count": 31,
      "outputs": [
        {
          "output_type": "error",
          "ename": "SyntaxError",
          "evalue": "ignored",
          "traceback": [
            "evalmachine.<anonymous>:1",
            "let fifteen = Promise.resolve(15);",
            "^",
            "",
            "SyntaxError: Identifier 'fifteen' has already been declared",
            "    at Script.runInThisContext (vm.js:133:18)",
            "    at Object.runInThisContext (vm.js:310:38)",
            "    at run ([eval]:1020:15)",
            "    at onRunRequest ([eval]:864:18)",
            "    at onMessage ([eval]:828:13)",
            "    at process.emit (events.js:315:20)",
            "    at emit (internal/child_process.js:903:12)",
            "    at processTicksAndRejections (internal/process/task_queues.js:81:21)"
          ]
        }
      ]
    },
    {
      "cell_type": "markdown",
      "source": [
        "To create a promise, you can use as a constructor Promise, the constructor **expects a function as argument**\n",
        "\n",
        "This is how you’d create a promise-based interface for the readStorage function:"
      ],
      "metadata": {
        "id": "z7c4CndrbuQN"
      }
    },
    {
      "cell_type": "markdown",
      "source": [
        "```\n",
        "function storage(nest, name) {\n",
        "  return new Promise(resolve => {\n",
        "    nest.readStorage(name, result => resolve(result));\n",
        "  });\n",
        "}\n",
        "\n",
        "storage(bigOak, 'enemies').then(value => console.log('Got', value));\n",
        "```\n",
        "\n"
      ],
      "metadata": {
        "id": "DV0XuixhdLZ8"
      }
    },
    {
      "cell_type": "markdown",
      "source": [
        "# Failure"
      ],
      "metadata": {
        "id": "6-jEdG0tb0cd"
      }
    },
    {
      "cell_type": "code",
      "source": [
        ""
      ],
      "metadata": {
        "id": "Fv9ow3P6b2bk"
      },
      "execution_count": null,
      "outputs": []
    },
    {
      "cell_type": "markdown",
      "source": [
        "# Async Functions"
      ],
      "metadata": {
        "id": "sqxWovyDb8xk"
      }
    },
    {
      "cell_type": "markdown",
      "source": [
        "An **async** function is a function that **implicitly returns a promise** and that can, in its body, **await other promises in a way that looks synchronous**\n",
        "\n",
        "An async function is marked by the word async before the keyword function\n",
        "\n",
        "Inside an async function, the word **await** can be put in front of an expression to **wait for a promise to resolve and only then continue the execution of the function**\n",
        "\n",
        "Such a function no longer, like a regular JavaScript function, runs from start to completion in one go. Instead, it **can be frozen at any point that has an await, and can be resumed at a later time**"
      ],
      "metadata": {
        "id": "Jvapf2-rgRTF"
      }
    },
    {
      "cell_type": "markdown",
      "source": [
        "```\n",
        "async function findInStorage(nest, name) {\n",
        "  let local = await storage(nest, name);\n",
        "  if (local != null) return local;\n",
        "\n",
        "  let sources = network(nest).filter(n => n != nest.name);\n",
        "  while (sources.length > 0) {\n",
        "    let source = sources[Math.floor(Math.random() * sources.length)];\n",
        "    sources = sources.filter(n => n != source);\n",
        "    try {\n",
        "      let found = await routeRequest(nest, source, 'storage', name);\n",
        "      if (found != null) return found;\n",
        "    } catch (_) {}\n",
        "  }\n",
        "  throw new Error('Not Found');\n",
        "}\n",
        "```\n",
        "\n"
      ],
      "metadata": {
        "id": "AQlCB53edaUM"
      }
    }
  ]
}